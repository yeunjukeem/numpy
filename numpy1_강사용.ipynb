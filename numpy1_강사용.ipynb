{
 "cells": [
  {
   "cell_type": "markdown",
   "id": "f3235386",
   "metadata": {},
   "source": [
    "## Numpy의 기본 사용법"
   ]
  },
  {
   "cell_type": "markdown",
   "id": "6a96b96e",
   "metadata": {
    "id": "Y16bPKjBJQjb"
   },
   "source": [
    "#### 리스트와 넘파이 배열의 차이"
   ]
  },
  {
   "cell_type": "code",
   "execution_count": 2,
   "id": "9f28eb4d",
   "metadata": {
    "id": "_Q-dqGaJZ7rB"
   },
   "outputs": [],
   "source": [
    "mid_scores = [10, 20, 30]    # 파이썬 리스트 객체\n",
    "final_scores = [70, 80, 90]  # 파이썬 리스트 객체"
   ]
  },
  {
   "cell_type": "code",
   "execution_count": 3,
   "id": "9500e79d",
   "metadata": {
    "colab": {
     "base_uri": "https://localhost:8080/",
     "height": 34
    },
    "executionInfo": {
     "elapsed": 2453,
     "status": "ok",
     "timestamp": 1600414660976,
     "user": {
      "displayName": "김은지",
      "photoUrl": "",
      "userId": "05656241690824715190"
     },
     "user_tz": -540
    },
    "id": "0R8fWRq_aF0L",
    "outputId": "cbea3b5c-2134-4461-d628-1f034c6d9402"
   },
   "outputs": [
    {
     "data": {
      "text/plain": [
       "[10, 20, 30, 70, 80, 90]"
      ]
     },
     "execution_count": 3,
     "metadata": {},
     "output_type": "execute_result"
    }
   ],
   "source": [
    "total = mid_scores + final_scores    # 원소간의 합이 아닌 리스트를 연결함\n",
    "total"
   ]
  },
  {
   "cell_type": "code",
   "execution_count": 4,
   "id": "2d518cf4",
   "metadata": {
    "id": "y5ZZiPFWaHfh"
   },
   "outputs": [],
   "source": [
    "import numpy as np   # 앞으로 numpy의 별명을 np로 한다"
   ]
  },
  {
   "cell_type": "code",
   "execution_count": 5,
   "id": "7e3771a3",
   "metadata": {
    "id": "GxOtbIFQaLI7"
   },
   "outputs": [],
   "source": [
    "mid_scores  = np.array([10, 20, 30])\n",
    "final_scores = np.array([60, 70, 80])"
   ]
  },
  {
   "cell_type": "code",
   "execution_count": 6,
   "id": "7bd68812",
   "metadata": {
    "colab": {
     "base_uri": "https://localhost:8080/",
     "height": 54
    },
    "executionInfo": {
     "elapsed": 588,
     "status": "ok",
     "timestamp": 1598402554681,
     "user": {
      "displayName": "박동규",
      "photoUrl": "",
      "userId": "10745738943866733973"
     },
     "user_tz": -540
    },
    "id": "Db0ZqdFqaMth",
    "outputId": "42b1decd-1d39-44f3-fa21-5ce6112983c3"
   },
   "outputs": [
    {
     "name": "stdout",
     "output_type": "stream",
     "text": [
      "시험성적의 합계 : [ 70  90 110]\n",
      "시험성적의 평균 : [35. 45. 55.]\n"
     ]
    }
   ],
   "source": [
    "total = mid_scores + final_scores\n",
    "print('시험성적의 합계 :', total)    # 각 요소별 합계가 나타난다\n",
    "print('시험성적의 평균 :', total/2)  # 모든 요소를 2로 나눈다"
   ]
  },
  {
   "cell_type": "markdown",
   "id": "b98d05d0",
   "metadata": {},
   "source": [
    " **리스트에서 배열 만들기**"
   ]
  },
  {
   "cell_type": "code",
   "execution_count": 2,
   "id": "780d0534",
   "metadata": {
    "scrolled": true
   },
   "outputs": [
    {
     "name": "stdout",
     "output_type": "stream",
     "text": [
      "[1 4 2 5 3]\n",
      "[3.14 4.   2.   3.  ]\n",
      "[1. 2. 3. 4.]\n"
     ]
    }
   ],
   "source": [
    "import numpy as np\n",
    "\n",
    "# 리스트에서 배열 만들기\n",
    "print(np.array([1, 4, 2, 5, 3]))\n",
    "print(np.array([3.14, 4, 2, 3]))\n",
    "print(np.array([1, 2, 3, 4], dtype =  'float32'))"
   ]
  },
  {
   "cell_type": "markdown",
   "id": "4b9510f0",
   "metadata": {},
   "source": [
    "**처음부터 배열 만들기**"
   ]
  },
  {
   "cell_type": "code",
   "execution_count": 2,
   "id": "6fc0be99",
   "metadata": {},
   "outputs": [
    {
     "name": "stdout",
     "output_type": "stream",
     "text": [
      "[[0.08104119 0.48753038 0.2717152 ]\n",
      " [0.43378614 0.00954853 0.09882124]\n",
      " [0.51214504 0.3917012  0.75372201]]\n"
     ]
    },
    {
     "data": {
      "text/plain": [
       "array([[1., 0., 0.],\n",
       "       [0., 1., 0.],\n",
       "       [0., 0., 1.]])"
      ]
     },
     "execution_count": 2,
     "metadata": {},
     "output_type": "execute_result"
    }
   ],
   "source": [
    "import numpy as np\n",
    "#0으로 채운 배열 생성\n",
    "np.zeros(10, dtype = int) \n",
    "#1로 채운 배열 생성\n",
    "np.ones((3, 5), dtype = float) \n",
    "# 3.14로 채운 배열 만들기 \n",
    "np.full((3,5), 3.14) \n",
    "# 0에서 시작해 2씩 더해 20까지 채우는 배열 생성\n",
    "np.arange(0, 20, 2) \n",
    "# 0과 1 사이에 일정한 간격을 가진 다섯 개의 값으로 채운 배열 만들기\n",
    "np.linspace(0, 1, 5) \n",
    "# 3*3 크기의 난수 배열 생성\n",
    "print(np.random.random((3,3))) \n",
    "# 평균 0, 표준 편차 1의 정규 분포를 따르는 3*3 난수 배열\n",
    "np.random.normal(0, 1, (3, 3)) \n",
    "# [0, 10) 구간의 임의로 정수로 채운 3*3 배열 만들기\n",
    "np.random.randint(0, 10, (3, 3)) \n",
    "# 크기 3의 단위 행렬 만들기\n",
    "np.eye(3)"
   ]
  },
  {
   "cell_type": "markdown",
   "id": "cd648495",
   "metadata": {
    "id": "wejzNO_usRsC"
   },
   "source": [
    "## Note\n",
    "넘파이가 계산을 쉽고 빠르게 할 수 있는 데에는 이유가 있다. 넘파이는 각 배열마다 타입이 하나만 있다고 생각한다. 다시 말하면, 넘파이의 배열 안에는 동일한 타입의 데이터만 저장할 수 있다. 즉 정수면 정수, 실수면 실수만을 저장할 수 있는 것이다. 파이썬의 리스트처럼 여러 가지 타입을 섞어서 저장할 수는 없다. 만약 여러분들이 여러 가지 타입을 섞어서 넘파이의 배열에 전달하면 넘파이는 이것을 전부 문자열로 변경한다. 예를 들어서 다음 배열은 문자열 배열이 된다. "
   ]
  },
  {
   "cell_type": "code",
   "execution_count": 17,
   "id": "a86c91d9",
   "metadata": {
    "colab": {
     "base_uri": "https://localhost:8080/",
     "height": 34
    },
    "executionInfo": {
     "elapsed": 1286,
     "status": "ok",
     "timestamp": 1600415117449,
     "user": {
      "displayName": "김은지",
      "photoUrl": "",
      "userId": "05656241690824715190"
     },
     "user_tz": -540
    },
    "id": "jyKFMeydLHAH",
    "outputId": "8f1aa5b5-5100-466c-9093-fb6c0c3a4b7a",
    "scrolled": true
   },
   "outputs": [
    {
     "name": "stdout",
     "output_type": "stream",
     "text": [
      "['100' 'test' '3.0' 'False']\n"
     ]
    }
   ],
   "source": [
    "tangled = np.array([ 100, 'test', 3.0, False])\n",
    "print(tangled)"
   ]
  },
  {
   "cell_type": "code",
   "execution_count": null,
   "id": "4c5d2443",
   "metadata": {},
   "outputs": [],
   "source": []
  },
  {
   "cell_type": "markdown",
   "id": "3dbb519c",
   "metadata": {},
   "source": [
    "#### 넘파이의 핵심 다차원배열(ndarray)"
   ]
  },
  {
   "cell_type": "code",
   "execution_count": 7,
   "id": "99f7557a",
   "metadata": {
    "colab": {
     "base_uri": "https://localhost:8080/",
     "height": 34
    },
    "executionInfo": {
     "elapsed": 1073,
     "status": "ok",
     "timestamp": 1600414860957,
     "user": {
      "displayName": "김은지",
      "photoUrl": "",
      "userId": "05656241690824715190"
     },
     "user_tz": -540
    },
    "id": "wLduKdHOJrtg",
    "outputId": "267f1112-c68c-4d66-c0e9-1c3a35022158"
   },
   "outputs": [
    {
     "data": {
      "text/plain": [
       "(3,)"
      ]
     },
     "execution_count": 7,
     "metadata": {},
     "output_type": "execute_result"
    }
   ],
   "source": [
    "import numpy as np\n",
    "a = np.array([1, 2, 3])       # 넘파이 ndarray 객체의 생성\n",
    "a.shape      # a 객체의 형태(shape)"
   ]
  },
  {
   "cell_type": "code",
   "execution_count": 8,
   "id": "9c4c4117",
   "metadata": {
    "colab": {
     "base_uri": "https://localhost:8080/",
     "height": 34
    },
    "executionInfo": {
     "elapsed": 1057,
     "status": "ok",
     "timestamp": 1600414869255,
     "user": {
      "displayName": "김은지",
      "photoUrl": "",
      "userId": "05656241690824715190"
     },
     "user_tz": -540
    },
    "id": "SyiBBfIiKMIc",
    "outputId": "961b3c9a-1119-40f3-d43c-2277f9ff897b"
   },
   "outputs": [
    {
     "data": {
      "text/plain": [
       "1"
      ]
     },
     "execution_count": 8,
     "metadata": {},
     "output_type": "execute_result"
    }
   ],
   "source": [
    "a.ndim"
   ]
  },
  {
   "cell_type": "code",
   "execution_count": 9,
   "id": "f7277bad",
   "metadata": {
    "colab": {
     "base_uri": "https://localhost:8080/",
     "height": 34
    },
    "executionInfo": {
     "elapsed": 1035,
     "status": "ok",
     "timestamp": 1600414874995,
     "user": {
      "displayName": "김은지",
      "photoUrl": "",
      "userId": "05656241690824715190"
     },
     "user_tz": -540
    },
    "id": "Zax0Owk3KOKx",
    "outputId": "1ebd9f47-2a44-4e5b-d399-f28ead34cb6c"
   },
   "outputs": [
    {
     "data": {
      "text/plain": [
       "dtype('int32')"
      ]
     },
     "execution_count": 9,
     "metadata": {},
     "output_type": "execute_result"
    }
   ],
   "source": [
    "a.dtype"
   ]
  },
  {
   "cell_type": "code",
   "execution_count": 10,
   "id": "9fadfa3b",
   "metadata": {
    "colab": {
     "base_uri": "https://localhost:8080/",
     "height": 34
    },
    "executionInfo": {
     "elapsed": 1085,
     "status": "ok",
     "timestamp": 1600414880028,
     "user": {
      "displayName": "김은지",
      "photoUrl": "",
      "userId": "05656241690824715190"
     },
     "user_tz": -540
    },
    "id": "llnUARRmKPkz",
    "outputId": "30a2b57a-a604-4c05-96ec-8a2f13e4389c",
    "scrolled": false
   },
   "outputs": [
    {
     "data": {
      "text/plain": [
       "4"
      ]
     },
     "execution_count": 10,
     "metadata": {},
     "output_type": "execute_result"
    }
   ],
   "source": [
    "a.itemsize #byte수"
   ]
  },
  {
   "cell_type": "code",
   "execution_count": 11,
   "id": "da56cd9d",
   "metadata": {
    "colab": {
     "base_uri": "https://localhost:8080/",
     "height": 34
    },
    "executionInfo": {
     "elapsed": 1218,
     "status": "ok",
     "timestamp": 1600414885332,
     "user": {
      "displayName": "김은지",
      "photoUrl": "",
      "userId": "05656241690824715190"
     },
     "user_tz": -540
    },
    "id": "gv2CBmQGKQyo",
    "outputId": "bce14c58-c2ef-45e9-a815-2d39c4b2f4f8"
   },
   "outputs": [
    {
     "data": {
      "text/plain": [
       "3"
      ]
     },
     "execution_count": 11,
     "metadata": {},
     "output_type": "execute_result"
    }
   ],
   "source": [
    "a.size"
   ]
  },
  {
   "cell_type": "code",
   "execution_count": null,
   "id": "c1d97aca",
   "metadata": {},
   "outputs": [],
   "source": []
  },
  {
   "cell_type": "markdown",
   "id": "8fa3dfa6",
   "metadata": {},
   "source": [
    "Python의 Numpy 라이브러리는 **다양한 형태의 배열**을 초기화 할 수 있습니다."
   ]
  },
  {
   "cell_type": "code",
   "execution_count": 10,
   "id": "74ea3f20",
   "metadata": {
    "scrolled": true
   },
   "outputs": [
    {
     "name": "stdout",
     "output_type": "stream",
     "text": [
      "[0 1 2 3]\n",
      "[[0. 0. 0. 0.]\n",
      " [0. 0. 0. 0.]\n",
      " [0. 0. 0. 0.]\n",
      " [0. 0. 0. 0.]]\n",
      "[['1' '1' '1']\n",
      " ['1' '1' '1']\n",
      " ['1' '1' '1']]\n",
      "[[1 1 5]\n",
      " [6 2 8]\n",
      " [5 6 7]]\n",
      "[[ 2.29990389 -0.57709346  1.46446223]\n",
      " [ 1.19177661 -0.79700897  1.63728295]\n",
      " [ 0.0338425   0.13490957  0.34197828]]\n"
     ]
    }
   ],
   "source": [
    "import numpy as np\n",
    "\n",
    "# 0부터 3까지의 배열 만들기\n",
    "array1 = np.arange(4)\n",
    "print(array1)\n",
    "\n",
    "# 0으로 초기화\n",
    "array2 = np.zeros((4, 4), dtype=float)\n",
    "print(array2)\n",
    "\n",
    "# 1로 초기화\n",
    "array3 = np.ones((3, 3), dtype=str)\n",
    "print(array3)\n",
    "\n",
    "# 0부터 9까지 랜덤하게 초기화 된 배열 만들기\n",
    "array4 = np.random.randint(0, 10, (3, 3))\n",
    "print(array4)\n",
    "\n",
    "# 평균이 0이고 표준편차가 1인 표준 정규를 띄는 배열\n",
    "array5 = np.random.normal(0, 1, (3, 3))\n",
    "print(array5)"
   ]
  },
  {
   "cell_type": "markdown",
   "id": "14016068",
   "metadata": {},
   "source": [
    "Python의 Numpy 라이브러리는 List와 **상호 변환이 가능**합니다."
   ]
  },
  {
   "cell_type": "code",
   "execution_count": null,
   "id": "a5d5b1db",
   "metadata": {},
   "outputs": [],
   "source": [
    "import numpy as np\n",
    "a = [1,2,3,4]\n",
    "b = [5,6,7,8]\n",
    "print(a + b)\n",
    "aa = np.array([1,2,3,4,5])\n",
    "bb = np.array([7])\n",
    "print(aa + bb)\n",
    "print(aa.size)"
   ]
  },
  {
   "cell_type": "code",
   "execution_count": 8,
   "id": "ec02bc52",
   "metadata": {
    "scrolled": true
   },
   "outputs": [
    {
     "name": "stdout",
     "output_type": "stream",
     "text": [
      "3\n",
      "int32\n",
      "3\n"
     ]
    }
   ],
   "source": [
    "import numpy as np\n",
    "\n",
    "array = np.array([1, 2, 3])\n",
    "# 배열의 크기\n",
    "print(array.size)\n",
    "# 배열 원소의 타입\n",
    "print(array.dtype) \n",
    "# 인덱스 2의 원소\n",
    "print(array[2]) "
   ]
  },
  {
   "cell_type": "markdown",
   "id": "d800cb04",
   "metadata": {},
   "source": [
    "## 배열 속성 지정"
   ]
  },
  {
   "cell_type": "code",
   "execution_count": 11,
   "id": "cd1bcaf2",
   "metadata": {},
   "outputs": [
    {
     "data": {
      "text/plain": [
       "dtype('int8')"
      ]
     },
     "execution_count": 11,
     "metadata": {},
     "output_type": "execute_result"
    }
   ],
   "source": [
    "#ndim(차원의 개수), shape(각 차원의 크기), size(전체 배열의 크기), dtype(데이터타입)\n",
    "x = np.random.randint(10, size = (3, 4, 5), dtype = 'int8')  \n",
    "x.ndim # 3\n",
    "x.shape # (3, 4, 5)\n",
    "x.size # 60 = 3 * 4* 5\n",
    "x.dtype # int8"
   ]
  },
  {
   "cell_type": "markdown",
   "id": "fa3ee8fe",
   "metadata": {
    "colab_type": "text",
    "id": "jflbKZvWIewX"
   },
   "source": [
    "## Numpy의 연산과 함수\n"
   ]
  },
  {
   "cell_type": "markdown",
   "id": "94a05fe2",
   "metadata": {
    "id": "6jXUYEEaK4Tk"
   },
   "source": [
    "####  넘파이 배열 연산"
   ]
  },
  {
   "cell_type": "code",
   "execution_count": 13,
   "id": "6770becf",
   "metadata": {
    "id": "5f1S46p2aNsw"
   },
   "outputs": [],
   "source": [
    "import numpy as np\n",
    "salary = np.array([220, 250, 230])"
   ]
  },
  {
   "cell_type": "code",
   "execution_count": 14,
   "id": "aee27213",
   "metadata": {
    "colab": {
     "base_uri": "https://localhost:8080/",
     "height": 34
    },
    "executionInfo": {
     "elapsed": 984,
     "status": "ok",
     "timestamp": 1597923815568,
     "user": {
      "displayName": "박동규",
      "photoUrl": "",
      "userId": "10745738943866733973"
     },
     "user_tz": -540
    },
    "id": "ll0XAmD4aQzh",
    "outputId": "f56ca479-5ee6-4108-fe35-83e327de9822"
   },
   "outputs": [
    {
     "name": "stdout",
     "output_type": "stream",
     "text": [
      "[320 350 330]\n"
     ]
    }
   ],
   "source": [
    "salary = salary + 100\n",
    "print(salary)"
   ]
  },
  {
   "cell_type": "code",
   "execution_count": 15,
   "id": "e7ac7e1a",
   "metadata": {
    "colab": {
     "base_uri": "https://localhost:8080/",
     "height": 34
    },
    "executionInfo": {
     "elapsed": 1202,
     "status": "ok",
     "timestamp": 1600415083265,
     "user": {
      "displayName": "김은지",
      "photoUrl": "",
      "userId": "05656241690824715190"
     },
     "user_tz": -540
    },
    "id": "GxBgeIm3aRyG",
    "outputId": "2b8265d6-d22d-43a0-bee8-993b3c14d472"
   },
   "outputs": [
    {
     "name": "stdout",
     "output_type": "stream",
     "text": [
      "[440 500 460]\n"
     ]
    }
   ],
   "source": [
    "salary = np.array([220, 250, 230])\n",
    "salary = salary * 2\n",
    "print(salary)"
   ]
  },
  {
   "cell_type": "code",
   "execution_count": 16,
   "id": "859c5401",
   "metadata": {
    "colab": {
     "base_uri": "https://localhost:8080/",
     "height": 34
    },
    "executionInfo": {
     "elapsed": 1221,
     "status": "ok",
     "timestamp": 1600415102219,
     "user": {
      "displayName": "김은지",
      "photoUrl": "",
      "userId": "05656241690824715190"
     },
     "user_tz": -540
    },
    "id": "2xnAfYH3LCYG",
    "outputId": "108322b5-698a-4439-ef94-ed84726005b2"
   },
   "outputs": [
    {
     "name": "stdout",
     "output_type": "stream",
     "text": [
      "[462. 525. 483.]\n"
     ]
    }
   ],
   "source": [
    "salary = np.array([220, 250, 230]) \n",
    "salary = salary * 2.1 \n",
    "print(salary)"
   ]
  },
  {
   "cell_type": "markdown",
   "id": "12bf99e1",
   "metadata": {
    "colab_type": "text",
    "id": "YMGeT2gmIqQO"
   },
   "source": [
    "Python의 Numpy 라이브러리는 기본적인 상수 연산이 가능합니다."
   ]
  },
  {
   "cell_type": "code",
   "execution_count": 11,
   "id": "c1b854e9",
   "metadata": {
    "colab": {
     "base_uri": "https://localhost:8080/",
     "height": 52
    },
    "colab_type": "code",
    "id": "lB3TNlINIn33",
    "outputId": "9293f423-94d0-4f3d-f4fa-3f1a5850de8c",
    "scrolled": false
   },
   "outputs": [
    {
     "name": "stdout",
     "output_type": "stream",
     "text": [
      "[[9 6]\n",
      " [2 3]]\n",
      "[[90 60]\n",
      " [20 30]]\n"
     ]
    }
   ],
   "source": [
    "import numpy as np\n",
    "\n",
    "array = np.random.randint(1, 10,size=4).reshape(2, 2)\n",
    "print(array)\n",
    "result_array = array * 10\n",
    "print(result_array)"
   ]
  },
  {
   "cell_type": "markdown",
   "id": "04a262b8",
   "metadata": {
    "colab_type": "text",
    "id": "3gXaKkCGI5lG"
   },
   "source": [
    "**서로 다른 형태의 Numpy 연산**이 가능합니다."
   ]
  },
  {
   "cell_type": "code",
   "execution_count": 2,
   "id": "fe38ad36",
   "metadata": {
    "colab": {
     "base_uri": "https://localhost:8080/",
     "height": 52
    },
    "colab_type": "code",
    "id": "CjFI4tuPI1M2",
    "outputId": "74cb0c4d-0e91-4d28-99d7-1b080dfa69be"
   },
   "outputs": [
    {
     "name": "stdout",
     "output_type": "stream",
     "text": [
      "[[0 2]\n",
      " [2 4]]\n"
     ]
    }
   ],
   "source": [
    "import numpy as np\n",
    "\n",
    "array1 = np.arange(4).reshape(2, 2)\n",
    "array2 = np.arange(2)\n",
    "array3 = array1 + array2\n",
    "\n",
    "print(array3)"
   ]
  },
  {
   "cell_type": "code",
   "execution_count": 14,
   "id": "9a3a012e",
   "metadata": {
    "colab": {
     "base_uri": "https://localhost:8080/",
     "height": 87
    },
    "colab_type": "code",
    "id": "yoaNGmROI8Fk",
    "outputId": "d88c62ad-e4ef-49aa-b40b-fbe9a9888ba6",
    "scrolled": true
   },
   "outputs": [
    {
     "name": "stdout",
     "output_type": "stream",
     "text": [
      "[[0 1 2 3]\n",
      " [4 5 6 7]]\n",
      "[[0 1 2 3]\n",
      " [4 5 6 7]\n",
      " [0 1 2 3]\n",
      " [4 5 6 7]]\n",
      "[[0]\n",
      " [1]\n",
      " [2]\n",
      " [3]]\n",
      "[[ 0  1  2  3]\n",
      " [ 5  6  7  8]\n",
      " [ 2  3  4  5]\n",
      " [ 7  8  9 10]]\n"
     ]
    }
   ],
   "source": [
    "import numpy as np\n",
    "\n",
    "array1 = np.arange(0, 8).reshape(2, 4)\n",
    "array2 = np.arange(0, 8).reshape(2, 4)\n",
    "array3 = np.concatenate([array1, array2], axis=0)\n",
    "array4 = np.arange(0, 4).reshape(4, 1)\n",
    "print(array1)\n",
    "print(array3)\n",
    "print(array4)\n",
    "print(array3 + array4)"
   ]
  },
  {
   "cell_type": "markdown",
   "id": "83c25ca5",
   "metadata": {},
   "source": [
    "#### Numpy는 다양한 형태로 **합치기가 가능** 있습니다."
   ]
  },
  {
   "cell_type": "code",
   "execution_count": 30,
   "id": "679d89e4",
   "metadata": {},
   "outputs": [
    {
     "name": "stdout",
     "output_type": "stream",
     "text": [
      "(6,)\n",
      "[1 2 3 4 5 6]\n"
     ]
    }
   ],
   "source": [
    "import numpy as np\n",
    "\n",
    "array1 = np.array([1, 2, 3]) \n",
    "array2 = np.array([4, 5, 6])\n",
    "array3 = \n",
    "\n",
    "print(array3.shape)\n",
    "print(array3)"
   ]
  },
  {
   "cell_type": "markdown",
   "id": "24c466d2",
   "metadata": {},
   "source": [
    "#### Numpy를 위 아래로 합칠 수 있습니다."
   ]
  },
  {
   "cell_type": "code",
   "execution_count": 32,
   "id": "7d3ea806",
   "metadata": {},
   "outputs": [
    {
     "name": "stdout",
     "output_type": "stream",
     "text": [
      "(3, 4)\n",
      "[[0 1 2 3]\n",
      " [0 1 2 3]\n",
      " [4 5 6 7]]\n"
     ]
    }
   ],
   "source": [
    "import numpy as np\n",
    "\n",
    "array1 = np.arange(4).reshape(1, 4)\n",
    "array2 = np.arange(8).reshape(2, 4)\n",
    "array3 =\n",
    "\n",
    "print(array3.shape)\n",
    "print(array3)"
   ]
  },
  {
   "cell_type": "markdown",
   "id": "2b93bd23",
   "metadata": {
    "colab_type": "text",
    "id": "ZIy_DX6bGDpd"
   },
   "source": [
    "Numpy의 **형태를 나누기** 할 수 있습니다."
   ]
  },
  {
   "cell_type": "code",
   "execution_count": 13,
   "id": "5635ba81",
   "metadata": {
    "colab": {
     "base_uri": "https://localhost:8080/",
     "height": 70
    },
    "colab_type": "code",
    "id": "yQGYnY2pF875",
    "outputId": "1c84ae7d-f899-4066-8287-f5ad35e1abc3",
    "scrolled": true
   },
   "outputs": [
    {
     "name": "stdout",
     "output_type": "stream",
     "text": [
      "[[0 1 2 3]\n",
      " [4 5 6 7]]\n",
      "5\n",
      "[]\n"
     ]
    }
   ],
   "source": [
    "import numpy as np\n",
    "\n",
    "array = np.arange(8).reshape(2, 4)\n",
    "left, right = np.split(array, [0], axis=1)\n",
    "print(array)\n",
    "# print(left.shape)\n",
    "# print(right.shape)\n",
    "print(right[1][1])\n",
    "# print(array)\n",
    "print(left)\n",
    "# print(right)\n"
   ]
  },
  {
   "cell_type": "code",
   "execution_count": null,
   "id": "d6944677",
   "metadata": {},
   "outputs": [],
   "source": []
  },
  {
   "cell_type": "markdown",
   "id": "2f30b21e",
   "metadata": {
    "colab_type": "text",
    "id": "HR-bcngHJbo3"
   },
   "source": [
    "Numpy의 **마스킹 연산**이 가능합니다."
   ]
  },
  {
   "cell_type": "code",
   "execution_count": 4,
   "id": "fd87a764",
   "metadata": {
    "colab": {
     "base_uri": "https://localhost:8080/",
     "height": 228
    },
    "colab_type": "code",
    "id": "5XWPfcCEJK17",
    "outputId": "499685e3-925b-428f-d922-63eab1ef1d82"
   },
   "outputs": [
    {
     "name": "stdout",
     "output_type": "stream",
     "text": [
      "[[ 0  1  2  3]\n",
      " [ 4  5  6  7]\n",
      " [ 8  9 10 11]\n",
      " [12 13 14 15]]\n",
      "[[ True  True  True  True]\n",
      " [ True  True  True  True]\n",
      " [ True  True False False]\n",
      " [False False False False]]\n",
      "[[100 100 100 100]\n",
      " [100 100 100 100]\n",
      " [100 100  10  11]\n",
      " [ 12  13  14  15]]\n"
     ]
    }
   ],
   "source": [
    "import numpy as np\n",
    "\n",
    "# Numpy 원소의 값을 조건에 따라 바꿀 때는 다음과 같이 합니다.\n",
    "# 반복문을 이용할 때보다 매우 빠르게 동작합니다.\n",
    "# 대체로 이미지 처리(Image Processing)에서 자주 활용됩니다.\n",
    "array1 = np.arange(16).reshape(4, 4)\n",
    "print(array1)\n",
    "\n",
    "array2 = array1 < 10\n",
    "print(array2)\n",
    "\n",
    "array1[array2] = 100\n",
    "print(array1)"
   ]
  },
  {
   "cell_type": "markdown",
   "id": "1ac20d24",
   "metadata": {
    "colab_type": "text",
    "id": "NznH01UXJnpn"
   },
   "source": [
    "Numpy는 **다양한 집계 함수**가 존재합니다."
   ]
  },
  {
   "cell_type": "code",
   "execution_count": 5,
   "id": "fa11fa2b",
   "metadata": {
    "colab": {
     "base_uri": "https://localhost:8080/",
     "height": 87
    },
    "colab_type": "code",
    "id": "iPhu1aBhJR8O",
    "outputId": "59d8968e-25cd-4828-c615-098b558c1f00"
   },
   "outputs": [
    {
     "name": "stdout",
     "output_type": "stream",
     "text": [
      "최대값: 15\n",
      "최소값: 0\n",
      "합계: 120\n",
      "평균값: 7.5\n"
     ]
    }
   ],
   "source": [
    "import numpy as np\n",
    "\n",
    "array = np.arange(16).reshape(4, 4)\n",
    "\n",
    "print(\"최대값:\", np.max(array))\n",
    "print(\"최소값:\", np.min(array))\n",
    "print(\"합계:\", np.sum(array))\n",
    "print(\"평균값:\", np.mean(array))"
   ]
  },
  {
   "cell_type": "code",
   "execution_count": 34,
   "id": "12837370",
   "metadata": {},
   "outputs": [
    {
     "name": "stdout",
     "output_type": "stream",
     "text": [
      "150\n",
      "150\n",
      "<class 'int'>\n",
      "<class 'numpy.int32'>\n",
      "150\n",
      "30.0\n"
     ]
    }
   ],
   "source": [
    "aa = [10,20,30,40,50]\n",
    "bb = np.array(aa)\n",
    "cc = sum(aa) #sum은 함수\n",
    "print(cc)\n",
    "dd = sum(bb)\n",
    "print(dd)\n",
    "print(type(cc))\n",
    "print(type(dd))\n",
    "print(bb.sum()) # sum은 메소드\n",
    "print(bb.mean())#array는 가능 maen은 메소드\n"
   ]
  },
  {
   "cell_type": "code",
   "execution_count": 16,
   "id": "6ff948e1",
   "metadata": {
    "colab": {
     "base_uri": "https://localhost:8080/",
     "height": 105
    },
    "colab_type": "code",
    "id": "2AQxs__jJP-L",
    "outputId": "3446db66-a125-4f7e-c832-e1ecc181a17d",
    "scrolled": true
   },
   "outputs": [
    {
     "name": "stdout",
     "output_type": "stream",
     "text": [
      "[[ 0  1  2  3]\n",
      " [ 4  5  6  7]\n",
      " [ 8  9 10 11]\n",
      " [12 13 14 15]]\n",
      "합계(axis=0): [24 28 32 36]\n",
      "합계(axis=1): [ 6 22 38 54]\n"
     ]
    }
   ],
   "source": [
    "import numpy as np\n",
    "\n",
    "array = np.arange(16).reshape(4, 4)\n",
    "\n",
    "print(array)\n",
    "print(\"합계(axis=0):\", np.sum(array, axis=0))\n",
    "print(\"합계(axis=1):\", np.sum(array, axis=1))"
   ]
  },
  {
   "cell_type": "markdown",
   "id": "a9ed6735",
   "metadata": {},
   "source": [
    "### 배열 인덱싱\n"
   ]
  },
  {
   "cell_type": "code",
   "execution_count": 36,
   "id": "80f3d5f0",
   "metadata": {},
   "outputs": [],
   "source": [
    "x1 = np.random.randint(10, size = 6)\n",
    "x2 = np.random.randint(10, size = (3, 4))\n",
    "x3 = np.random.randint(10, size = (3, 4, 5))\n",
    "\n",
    "x1[0] # 양수 인덱스 (맨 앞 요소)\n",
    "x1[3] # 세 번째 요소 \n",
    "x1[-1] # 음수 인덱스 (맨 뒤 요소)\n",
    "x1[-4] # 뒤에서 네 번째 요소 \n",
    "\n",
    "x2[2, 0] # 2행 0열 (리스트 인덱스와 비교)\n",
    "# list[i][j] / ndarray[i, j]\n",
    "x3[1, 2, 3] # 1차원, 2행, 3열 요소\n",
    "\n",
    "x2[0, 0] = 15 # x2의 0행 0열 값을 15로 바꿈"
   ]
  },
  {
   "cell_type": "markdown",
   "id": "09b61f04",
   "metadata": {},
   "source": [
    "### 배열 슬라이싱\n"
   ]
  },
  {
   "cell_type": "code",
   "execution_count": 38,
   "id": "664d10f7",
   "metadata": {
    "scrolled": true
   },
   "outputs": [
    {
     "data": {
      "text/plain": [
       "array([[0, 6, 5, 9, 1],\n",
       "       [1, 5, 1, 9, 6],\n",
       "       [9, 8, 9, 3, 6],\n",
       "       [7, 4, 4, 7, 1]])"
      ]
     },
     "execution_count": 38,
     "metadata": {},
     "output_type": "execute_result"
    }
   ],
   "source": [
    "x = np.arange(10) # array([0, 1, 2, 3, 4, 5, 6, 7, 8, 9])\n",
    "x[:5] # array([0, 1, 2, 3, 4])\n",
    "x[5:] # array([5, 6, 7, 8, 9])\n",
    "x[4:7] # array([4, 5, 6])\n",
    "x[::2] # array([0, 2, 4, 6, 8])\n",
    "x[1::2] # array([1, 3, 5, 7, 9])\n",
    "x[1:8:3] # array([1, 4, 7])\n",
    "x[::-1] # array([9, 8, 7, 6, 5, 4, 3, 2, 1, 0]) \n",
    "# 배열 슬라이싱 - 다차원 하위 배열\n",
    "x = np.random.randint(10, size = (4, 5))\n",
    "x[:2, :3] # 두 개의 행과 세 개의 열\n",
    "x[:, ::2] # 모든 행, 한 열 걸러 하나 씩\n",
    "x[::-1, ::-1] # 행을 역으로, 열도 역으로 (전치 행렬)"
   ]
  },
  {
   "cell_type": "code",
   "execution_count": null,
   "id": "550f8f1f",
   "metadata": {},
   "outputs": [],
   "source": []
  },
  {
   "cell_type": "markdown",
   "id": "e3ddcdfb",
   "metadata": {},
   "source": [
    "## Numpy의 활용"
   ]
  },
  {
   "cell_type": "markdown",
   "id": "9dcd48eb",
   "metadata": {},
   "source": [
    "#### Python의 Numpy는 **저장 및 불러오기**가 가능합니다."
   ]
  },
  {
   "cell_type": "code",
   "execution_count": 41,
   "id": "7e27e188",
   "metadata": {
    "scrolled": true
   },
   "outputs": [
    {
     "name": "stdout",
     "output_type": "stream",
     "text": [
      "[0 1 2 3 4 5 6 7 8 9]\n"
     ]
    },
    {
     "data": {
      "text/plain": [
       "numpy.ndarray"
      ]
     },
     "execution_count": 41,
     "metadata": {},
     "output_type": "execute_result"
    }
   ],
   "source": [
    "import numpy as np\n",
    "# 단일 객체 저장 \n",
    "array = np.arange(0,10)\n",
    "np.save('saved.npy',array)\n",
    "print(array)\n",
    "type(array)\n",
    "\n"
   ]
  },
  {
   "cell_type": "code",
   "execution_count": 42,
   "id": "a3dfec33",
   "metadata": {
    "scrolled": false
   },
   "outputs": [
    {
     "name": "stdout",
     "output_type": "stream",
     "text": [
      "[0 1 2 3 4 5 6 7 8 9]\n"
     ]
    },
    {
     "data": {
      "text/plain": [
       "numpy.ndarray"
      ]
     },
     "execution_count": 42,
     "metadata": {},
     "output_type": "execute_result"
    }
   ],
   "source": [
    "#불러오기\n",
    "result = np.load('saved.npy')\n",
    "print(result)\n",
    "type(result)"
   ]
  },
  {
   "cell_type": "markdown",
   "id": "c1df0c3f",
   "metadata": {},
   "source": [
    "#### 여러 개의 Numpy의 객체를 하나의 파일에 저장하고 불러올 수 있습니다."
   ]
  },
  {
   "cell_type": "code",
   "execution_count": 43,
   "id": "f365c558",
   "metadata": {},
   "outputs": [
    {
     "name": "stdout",
     "output_type": "stream",
     "text": [
      "<numpy.lib.npyio.NpzFile object at 0x0000016EDCBF6FE0>\n",
      "[0 1 2 3 4 5 6 7 8 9]\n",
      "[  0  11  24  39  56  75  96 119 144 171]\n"
     ]
    }
   ],
   "source": [
    "import numpy as np\n",
    "# 복수 객체 저장 및 불러오기\n",
    "array1 = np.arange(0,10)      #0~9까지 정수생성\n",
    "array2 = np.arange(10,20)    # 10 ~19 정수생성\n",
    "#복수 객체 저장\n",
    "np.savez('saved.npz', array1 = array1, array2 =array2)\n",
    "#불러오기\n",
    "data = np.load('saved.npz')\n",
    "print(data)\n",
    "result1 = data['array1']\n",
    "print(result1)\n",
    "result2 = data['array2']\n",
    "print(result2*result1)\n",
    "\n"
   ]
  },
  {
   "cell_type": "markdown",
   "id": "1cd2f64a",
   "metadata": {},
   "source": [
    "#### Numpy의 원소들은 특정한 기준에 따라서 **정렬**할 수 있습니다."
   ]
  },
  {
   "cell_type": "code",
   "execution_count": 55,
   "id": "2c602f6a",
   "metadata": {},
   "outputs": [
    {
     "name": "stdout",
     "output_type": "stream",
     "text": [
      "[ 1  3  5  9 10]\n",
      "[10  9  5  3  1]\n",
      "[[ 5  3  4  2  1]\n",
      " [ 8  9 10  3  5]]\n"
     ]
    }
   ],
   "source": [
    "import numpy as np\n",
    "\n",
    "# Numpy 원소 오름차순 정렬\n",
    "array = np.array([5, 9, 10, 3, 1])\n",
    "array.sort()\n",
    "print(array)\n",
    "\n",
    "# Numpy 원소 내림차순 정렬\n",
    "array = np.array([5, 9, 10, 3, 1])\n",
    "array.sort()\n",
    "print(array[::-1])\n",
    "\n",
    "# 각 열을 기준으로 정렬\n",
    "array = np.array([[5, 9, 10, 3, 1], [8, 3, 4, 2, 5]])\n",
    "array.sort(axis=0)\n",
    "print(array)"
   ]
  },
  {
   "cell_type": "markdown",
   "id": "70e76981",
   "metadata": {},
   "source": [
    "#### Numpy 관련 자주 사용되는 함수는 다음과 같습니다."
   ]
  },
  {
   "cell_type": "code",
   "execution_count": 56,
   "id": "ea4cb46d",
   "metadata": {
    "scrolled": true
   },
   "outputs": [
    {
     "name": "stdout",
     "output_type": "stream",
     "text": [
      "[ 0.   2.5  5.   7.5 10. ]\n",
      "[[9 3 4]\n",
      " [0 9 1]]\n",
      "[0 1 2 3 4 5 6 7 8 9]\n",
      "[1 2 3]\n"
     ]
    }
   ],
   "source": [
    "import numpy as np\n",
    "\n",
    "# 균일한 간격으로 데이터 생성\n",
    "array = np.linspace(0, 10,5)\n",
    "print(array)\n",
    "\n",
    "# 난수의 재연(실행마다 결과 동일)\n",
    "np.random.seed(6)\n",
    "print(np.random.randint(0, 10, (2, 3)))\n",
    "\n",
    "# Numpy 배열 객체 복사\n",
    "array1 = np.arange(0, 10)\n",
    "array2 = array1.copy()\n",
    "print(array2)\n",
    "\n",
    "# 중복된 원소 제거\n",
    "array = np.array([1, 1, 2, 3, 3, 3, 1])\n",
    "print(np.unique(array))"
   ]
  },
  {
   "cell_type": "markdown",
   "id": "532d41c1",
   "metadata": {},
   "source": [
    "#### Numpy는 다양한 형태로 **합치기가 가능**합니다."
   ]
  },
  {
   "cell_type": "code",
   "execution_count": 30,
   "id": "2e813399",
   "metadata": {},
   "outputs": [
    {
     "name": "stdout",
     "output_type": "stream",
     "text": [
      "(6,)\n",
      "[1 2 3 4 5 6]\n"
     ]
    }
   ],
   "source": [
    "import numpy as np\n",
    "\n",
    "array1 = np.array([1, 2, 3]) \n",
    "array2 = np.array([4, 5, 6])\n",
    "array3 = np.concatenate([array1, array2])\n",
    "\n",
    "print(array3.shape)\n",
    "print(array3)"
   ]
  },
  {
   "cell_type": "markdown",
   "id": "bebae5b0",
   "metadata": {},
   "source": [
    "#### Numpy를 위 아래로 합칠 수 있습니다."
   ]
  },
  {
   "cell_type": "code",
   "execution_count": 57,
   "id": "b45fd1d1",
   "metadata": {},
   "outputs": [
    {
     "name": "stdout",
     "output_type": "stream",
     "text": [
      "(3, 4)\n",
      "[[0 1 2 3]\n",
      " [0 1 2 3]\n",
      " [4 5 6 7]]\n"
     ]
    }
   ],
   "source": [
    "import numpy as np\n",
    "\n",
    "array1 = np.arange(4).reshape(1, 4)\n",
    "array2 = np.arange(8).reshape(2, 4)\n",
    "array3 = np.concatenate([array1, array2], axis=0)\n",
    "\n",
    "print(array3.shape)\n",
    "print(array3)"
   ]
  },
  {
   "cell_type": "markdown",
   "id": "ad0b29af",
   "metadata": {},
   "source": [
    "#### Numpy의 **형태를 변경**할 수 있습니다."
   ]
  },
  {
   "cell_type": "code",
   "execution_count": 33,
   "id": "60dd2991",
   "metadata": {},
   "outputs": [
    {
     "name": "stdout",
     "output_type": "stream",
     "text": [
      "(2, 2)\n"
     ]
    }
   ],
   "source": [
    "import numpy as np\n",
    "\n",
    "array1 = np.array([1, 2, 3, 4])\n",
    "array2 =\n",
    "print(array2.shape)"
   ]
  },
  {
   "cell_type": "markdown",
   "id": "4138c8f0",
   "metadata": {},
   "source": [
    "#### Numpy의 **형태를 나누기** 할 수 있습니다."
   ]
  },
  {
   "cell_type": "code",
   "execution_count": 58,
   "id": "a6d4a17a",
   "metadata": {
    "scrolled": false
   },
   "outputs": [
    {
     "name": "stdout",
     "output_type": "stream",
     "text": [
      "(2, 2)\n",
      "(2, 2)\n",
      "[[0 1 2 3]\n",
      " [4 5 6 7]]\n",
      "[[0 1]\n",
      " [4 5]]\n",
      "[[2 3]\n",
      " [6 7]]\n",
      "7\n"
     ]
    }
   ],
   "source": [
    "import numpy as np\n",
    "\n",
    "array = np.arange(8).reshape(2, 4)\n",
    "left, right = np.split(array, [2], axis=1)\n",
    "\n",
    "print(left.shape)\n",
    "print(right.shape)\n",
    "print(array)\n",
    "print(left)\n",
    "print(right)\n",
    "print(right[1][1])"
   ]
  },
  {
   "cell_type": "markdown",
   "id": "5c2ba123",
   "metadata": {
    "id": "X1QIL8LHLMW9"
   },
   "source": [
    "###  BMI 계산하기"
   ]
  },
  {
   "cell_type": "code",
   "execution_count": 18,
   "id": "59db1a28",
   "metadata": {
    "colab": {
     "base_uri": "https://localhost:8080/",
     "height": 34
    },
    "executionInfo": {
     "elapsed": 1303,
     "status": "ok",
     "timestamp": 1597923985369,
     "user": {
      "displayName": "박동규",
      "photoUrl": "",
      "userId": "10745738943866733973"
     },
     "user_tz": -540
    },
    "id": "D-QfHnobaV36",
    "outputId": "cbe26bdd-ba46-4a2b-8b6e-13a2daeeb5b1"
   },
   "outputs": [
    {
     "name": "stdout",
     "output_type": "stream",
     "text": [
      "[25.68007405 23.88946281 20.65754    27.45982194 25.53544639 22.72043837]\n"
     ]
    }
   ],
   "source": [
    "import numpy as np\n",
    "\n",
    "heights = [ 1.83, 1.76, 1.69, 1.86, 1.77, 1.73 ]\n",
    "weights = [ 86,    74,    59,   95,    80,   68  ]\n",
    "\n",
    "np_heights = np.array(heights)\n",
    "np_weights = np.array(weights)\n",
    "\n",
    "bmi = np_weights/(np_heights**2)\n",
    "print(bmi)"
   ]
  },
  {
   "cell_type": "markdown",
   "id": "5d5643cb",
   "metadata": {
    "id": "PYKJ70DqLbIu"
   },
   "source": [
    "### 인덱싱과 슬라이싱"
   ]
  },
  {
   "cell_type": "code",
   "execution_count": 19,
   "id": "368eac49",
   "metadata": {
    "id": "mDieF0aMavFl"
   },
   "outputs": [],
   "source": [
    "import numpy as np\n",
    "scores = np.array([88, 72, 93, 94, 89, 78, 99]) "
   ]
  },
  {
   "cell_type": "code",
   "execution_count": 20,
   "id": "5c37e069",
   "metadata": {
    "colab": {
     "base_uri": "https://localhost:8080/",
     "height": 34
    },
    "executionInfo": {
     "elapsed": 823,
     "status": "ok",
     "timestamp": 1601030062298,
     "user": {
      "displayName": "박동규",
      "photoUrl": "",
      "userId": "10745738943866733973"
     },
     "user_tz": -540
    },
    "id": "IaZRie97bV4j",
    "outputId": "2e9e23fd-f4e1-4156-945e-a7a1cf28705d"
   },
   "outputs": [
    {
     "data": {
      "text/plain": [
       "93"
      ]
     },
     "execution_count": 20,
     "metadata": {},
     "output_type": "execute_result"
    }
   ],
   "source": [
    "scores[2]"
   ]
  },
  {
   "cell_type": "code",
   "execution_count": 21,
   "id": "adfddbff",
   "metadata": {
    "colab": {
     "base_uri": "https://localhost:8080/",
     "height": 34
    },
    "executionInfo": {
     "elapsed": 651,
     "status": "ok",
     "timestamp": 1601030082520,
     "user": {
      "displayName": "박동규",
      "photoUrl": "",
      "userId": "10745738943866733973"
     },
     "user_tz": -540
    },
    "id": "FG78E4twbW_y",
    "outputId": "91ab146b-9f80-4ff8-da88-16d55f98e202",
    "scrolled": true
   },
   "outputs": [
    {
     "data": {
      "text/plain": [
       "99"
      ]
     },
     "execution_count": 21,
     "metadata": {},
     "output_type": "execute_result"
    }
   ],
   "source": [
    "scores[-1]"
   ]
  },
  {
   "cell_type": "code",
   "execution_count": 22,
   "id": "081df1db",
   "metadata": {
    "colab": {
     "base_uri": "https://localhost:8080/",
     "height": 34
    },
    "executionInfo": {
     "elapsed": 617,
     "status": "ok",
     "timestamp": 1601030177607,
     "user": {
      "displayName": "박동규",
      "photoUrl": "",
      "userId": "10745738943866733973"
     },
     "user_tz": -540
    },
    "id": "90TZhnEkbX4g",
    "outputId": "0c1e3e58-9667-4c37-f18c-36a7a0f3941d"
   },
   "outputs": [
    {
     "data": {
      "text/plain": [
       "array([72, 93, 94])"
      ]
     },
     "execution_count": 22,
     "metadata": {},
     "output_type": "execute_result"
    }
   ],
   "source": [
    "scores[1:4]     # 첫번째, 두번째, 세번째, 네번째 항목을 슬라이싱 함"
   ]
  },
  {
   "cell_type": "code",
   "execution_count": 23,
   "id": "19de5099",
   "metadata": {
    "colab": {
     "base_uri": "https://localhost:8080/",
     "height": 34
    },
    "executionInfo": {
     "elapsed": 634,
     "status": "ok",
     "timestamp": 1601030186572,
     "user": {
      "displayName": "박동규",
      "photoUrl": "",
      "userId": "10745738943866733973"
     },
     "user_tz": -540
    },
    "id": "zFHTitC_bZG0",
    "outputId": "d46282c8-311c-40c4-dbcb-2230d8a0dc26",
    "scrolled": true
   },
   "outputs": [
    {
     "data": {
      "text/plain": [
       "array([94, 89, 78, 99])"
      ]
     },
     "execution_count": 23,
     "metadata": {},
     "output_type": "execute_result"
    }
   ],
   "source": [
    "scores[3:]      # 마지막 인덱스를 생략하면 디폴트 값은 -1임"
   ]
  },
  {
   "cell_type": "code",
   "execution_count": 24,
   "id": "6e502855",
   "metadata": {
    "colab": {
     "base_uri": "https://localhost:8080/",
     "height": 34
    },
    "executionInfo": {
     "elapsed": 660,
     "status": "ok",
     "timestamp": 1601030225584,
     "user": {
      "displayName": "박동규",
      "photoUrl": "",
      "userId": "10745738943866733973"
     },
     "user_tz": -540
    },
    "id": "Np8ApX_V1nXG",
    "outputId": "64e4a296-f75f-43e6-ad0f-63dacf3d7b6f",
    "scrolled": true
   },
   "outputs": [
    {
     "data": {
      "text/plain": [
       "array([89, 78])"
      ]
     },
     "execution_count": 24,
     "metadata": {},
     "output_type": "execute_result"
    }
   ],
   "source": [
    "scores[4:-1]      # 마지막 인덱스 -1을 사용"
   ]
  },
  {
   "cell_type": "markdown",
   "id": "ed6d7d61",
   "metadata": {
    "id": "GLcCEO3AW3sC"
   },
   "source": [
    "### 논리적인 인덱싱"
   ]
  },
  {
   "cell_type": "code",
   "execution_count": 25,
   "id": "4853b827",
   "metadata": {
    "id": "gJOMcVshbbVW"
   },
   "outputs": [],
   "source": [
    "ages = np.array([18, 19, 25, 30, 28])"
   ]
  },
  {
   "cell_type": "code",
   "execution_count": 26,
   "id": "5bd47a1e",
   "metadata": {
    "colab": {
     "base_uri": "https://localhost:8080/",
     "height": 34
    },
    "executionInfo": {
     "elapsed": 1752,
     "status": "ok",
     "timestamp": 1600415267387,
     "user": {
      "displayName": "김은지",
      "photoUrl": "",
      "userId": "05656241690824715190"
     },
     "user_tz": -540
    },
    "id": "uuYU_uDpbmaj",
    "outputId": "86369241-b846-449d-f328-f00dc9a2134c"
   },
   "outputs": [
    {
     "data": {
      "text/plain": [
       "array([False, False,  True,  True,  True])"
      ]
     },
     "execution_count": 26,
     "metadata": {},
     "output_type": "execute_result"
    }
   ],
   "source": [
    "y = ages > 20\n",
    "y"
   ]
  },
  {
   "cell_type": "code",
   "execution_count": 27,
   "id": "daab0cbe",
   "metadata": {
    "colab": {
     "base_uri": "https://localhost:8080/",
     "height": 34
    },
    "executionInfo": {
     "elapsed": 694,
     "status": "ok",
     "timestamp": 1600415267388,
     "user": {
      "displayName": "김은지",
      "photoUrl": "",
      "userId": "05656241690824715190"
     },
     "user_tz": -540
    },
    "id": "MG0uVGCIboM6",
    "outputId": "8b03c9ae-35ad-4346-822d-61d72fdd899d"
   },
   "outputs": [
    {
     "data": {
      "text/plain": [
       "array([25, 30, 28])"
      ]
     },
     "execution_count": 27,
     "metadata": {},
     "output_type": "execute_result"
    }
   ],
   "source": [
    "ages[ ages > 20 ]"
   ]
  },
  {
   "cell_type": "markdown",
   "id": "22856329",
   "metadata": {
    "id": "nlAi3oadLxMZ"
   },
   "source": [
    "###  2차원 배열"
   ]
  },
  {
   "cell_type": "code",
   "execution_count": 28,
   "id": "d425c3e5",
   "metadata": {
    "colab": {
     "base_uri": "https://localhost:8080/",
     "height": 34
    },
    "executionInfo": {
     "elapsed": 1053,
     "status": "ok",
     "timestamp": 1600415323728,
     "user": {
      "displayName": "김은지",
      "photoUrl": "",
      "userId": "05656241690824715190"
     },
     "user_tz": -540
    },
    "id": "YeXlebu6L6Hs",
    "outputId": "0b38e584-6c1e-4a4a-9842-28d931ae981c"
   },
   "outputs": [
    {
     "data": {
      "text/plain": [
       "[[1, 2, 3], [4, 5, 6], [7, 8, 9]]"
      ]
     },
     "execution_count": 28,
     "metadata": {},
     "output_type": "execute_result"
    }
   ],
   "source": [
    "import numpy as np \n",
    "y = [[1,2,3], [4,5,6], [7,8,9]] \n",
    "y "
   ]
  },
  {
   "cell_type": "code",
   "execution_count": 29,
   "id": "fd7ec3fa",
   "metadata": {
    "colab": {
     "base_uri": "https://localhost:8080/",
     "height": 68
    },
    "executionInfo": {
     "elapsed": 1071,
     "status": "ok",
     "timestamp": 1600415342957,
     "user": {
      "displayName": "김은지",
      "photoUrl": "",
      "userId": "05656241690824715190"
     },
     "user_tz": -540
    },
    "id": "ZAHvTVA_L9H2",
    "outputId": "2d77a5c7-b497-4770-c898-4d7f85657010"
   },
   "outputs": [
    {
     "data": {
      "text/plain": [
       "array([[1, 2, 3],\n",
       "       [4, 5, 6],\n",
       "       [7, 8, 9]])"
      ]
     },
     "execution_count": 29,
     "metadata": {},
     "output_type": "execute_result"
    }
   ],
   "source": [
    "np_array = np.array(y) \n",
    "np_array"
   ]
  },
  {
   "cell_type": "code",
   "execution_count": 30,
   "id": "3f0ce026",
   "metadata": {
    "colab": {
     "base_uri": "https://localhost:8080/",
     "height": 34
    },
    "executionInfo": {
     "elapsed": 1103,
     "status": "ok",
     "timestamp": 1600415352235,
     "user": {
      "displayName": "김은지",
      "photoUrl": "",
      "userId": "05656241690824715190"
     },
     "user_tz": -540
    },
    "id": "iRxcSlXAMBz2",
    "outputId": "436ad6ca-1831-4e16-c83f-fdd542c8f763",
    "scrolled": true
   },
   "outputs": [
    {
     "data": {
      "text/plain": [
       "3"
      ]
     },
     "execution_count": 30,
     "metadata": {},
     "output_type": "execute_result"
    }
   ],
   "source": [
    "np_array[0][2]"
   ]
  },
  {
   "cell_type": "markdown",
   "id": "34f6f250",
   "metadata": {
    "id": "xnLLDs1BMEt5"
   },
   "source": [
    "###  넘파이 스타일의 배열의 인덱싱"
   ]
  },
  {
   "cell_type": "code",
   "execution_count": 31,
   "id": "93974b5e",
   "metadata": {
    "colab": {
     "base_uri": "https://localhost:8080/",
     "height": 34
    },
    "executionInfo": {
     "elapsed": 1224,
     "status": "ok",
     "timestamp": 1600415399996,
     "user": {
      "displayName": "김은지",
      "photoUrl": "",
      "userId": "05656241690824715190"
     },
     "user_tz": -540
    },
    "id": "4nlMyA-DMLdb",
    "outputId": "34319cea-82e4-4aa9-9143-4f245a89d53a"
   },
   "outputs": [
    {
     "data": {
      "text/plain": [
       "3"
      ]
     },
     "execution_count": 31,
     "metadata": {},
     "output_type": "execute_result"
    }
   ],
   "source": [
    "np_array = np.array([[1,2,3], [4,5,6], [7,8,9]]) \n",
    "np_array[0, 2]"
   ]
  },
  {
   "cell_type": "code",
   "execution_count": 32,
   "id": "38a93ab5",
   "metadata": {
    "colab": {
     "base_uri": "https://localhost:8080/",
     "height": 34
    },
    "executionInfo": {
     "elapsed": 1130,
     "status": "ok",
     "timestamp": 1600415406192,
     "user": {
      "displayName": "김은지",
      "photoUrl": "",
      "userId": "05656241690824715190"
     },
     "user_tz": -540
    },
    "id": "PaMFlCtTMPs1",
    "outputId": "89f17a11-5e87-4a68-aaf1-51d5aa85e15f"
   },
   "outputs": [
    {
     "data": {
      "text/plain": [
       "1"
      ]
     },
     "execution_count": 32,
     "metadata": {},
     "output_type": "execute_result"
    }
   ],
   "source": [
    "np_array[0, 0]"
   ]
  },
  {
   "cell_type": "code",
   "execution_count": 33,
   "id": "346293a9",
   "metadata": {
    "colab": {
     "base_uri": "https://localhost:8080/",
     "height": 34
    },
    "executionInfo": {
     "elapsed": 1072,
     "status": "ok",
     "timestamp": 1600415449462,
     "user": {
      "displayName": "김은지",
      "photoUrl": "",
      "userId": "05656241690824715190"
     },
     "user_tz": -540
    },
    "id": "SFoO5OWvMRPS",
    "outputId": "28efb9d4-c90e-42fb-91db-2dfb9fb33cd3",
    "scrolled": true
   },
   "outputs": [
    {
     "data": {
      "text/plain": [
       "9"
      ]
     },
     "execution_count": 33,
     "metadata": {},
     "output_type": "execute_result"
    }
   ],
   "source": [
    "np_array[2, -1]"
   ]
  },
  {
   "cell_type": "code",
   "execution_count": 34,
   "id": "b178024f",
   "metadata": {
    "colab": {
     "base_uri": "https://localhost:8080/",
     "height": 68
    },
    "executionInfo": {
     "elapsed": 1172,
     "status": "ok",
     "timestamp": 1600415461693,
     "user": {
      "displayName": "김은지",
      "photoUrl": "",
      "userId": "05656241690824715190"
     },
     "user_tz": -540
    },
    "id": "LST5IbOVMb0J",
    "outputId": "dd24d782-96b5-4c8a-ebaf-887fa4b2fc97"
   },
   "outputs": [
    {
     "data": {
      "text/plain": [
       "array([[12,  2,  3],\n",
       "       [ 4,  5,  6],\n",
       "       [ 7,  8,  9]])"
      ]
     },
     "execution_count": 34,
     "metadata": {},
     "output_type": "execute_result"
    }
   ],
   "source": [
    "np_array[0, 0] = 12   # ndarray의 첫 요소를 변경함\n",
    "np_array"
   ]
  },
  {
   "cell_type": "code",
   "execution_count": 35,
   "id": "03cd3c41",
   "metadata": {
    "colab": {
     "base_uri": "https://localhost:8080/",
     "height": 68
    },
    "executionInfo": {
     "elapsed": 1327,
     "status": "ok",
     "timestamp": 1600415474801,
     "user": {
      "displayName": "김은지",
      "photoUrl": "",
      "userId": "05656241690824715190"
     },
     "user_tz": -540
    },
    "id": "MbLcj5zJMex_",
    "outputId": "00446385-94e1-4ffb-d0ae-a53d85317457",
    "scrolled": true
   },
   "outputs": [
    {
     "data": {
      "text/plain": [
       "array([[12,  2,  3],\n",
       "       [ 4,  5,  6],\n",
       "       [ 7,  8,  1]])"
      ]
     },
     "execution_count": 35,
     "metadata": {},
     "output_type": "execute_result"
    }
   ],
   "source": [
    "np_array[2, 2] = 1.234  # 마지막 요소의 값을 실수로 변경하려고 하면 실패\n",
    "np_array"
   ]
  },
  {
   "cell_type": "markdown",
   "id": "2b837553",
   "metadata": {
    "id": "__zpBIqFMkY-"
   },
   "source": [
    "###  넘파이 스타일의 2차원 배열 슬라이싱"
   ]
  },
  {
   "cell_type": "code",
   "execution_count": 36,
   "id": "409172bf",
   "metadata": {
    "colab": {
     "base_uri": "https://localhost:8080/",
     "height": 51
    },
    "executionInfo": {
     "elapsed": 1100,
     "status": "ok",
     "timestamp": 1600415511439,
     "user": {
      "displayName": "김은지",
      "photoUrl": "",
      "userId": "05656241690824715190"
     },
     "user_tz": -540
    },
    "id": "AdzyUhxJMn90",
    "outputId": "3f474532-fb71-4443-bf55-42d96e1ceb3f",
    "scrolled": true
   },
   "outputs": [
    {
     "data": {
      "text/plain": [
       "array([[2, 3],\n",
       "       [5, 6]])"
      ]
     },
     "execution_count": 36,
     "metadata": {},
     "output_type": "execute_result"
    }
   ],
   "source": [
    "np_array = np.array([[1, 2, 3], [4, 5, 6], [7, 8, 9]]) \n",
    "np_array[0:2, 1:3]"
   ]
  },
  {
   "cell_type": "code",
   "execution_count": 37,
   "id": "2ff7dccf",
   "metadata": {
    "colab": {
     "base_uri": "https://localhost:8080/",
     "height": 34
    },
    "executionInfo": {
     "elapsed": 1084,
     "status": "ok",
     "timestamp": 1600415518327,
     "user": {
      "displayName": "김은지",
      "photoUrl": "",
      "userId": "05656241690824715190"
     },
     "user_tz": -540
    },
    "id": "1uQ2wLzyMq8W",
    "outputId": "458c96fe-9673-48ce-c153-a60d432ffa17"
   },
   "outputs": [
    {
     "data": {
      "text/plain": [
       "array([1, 2, 3])"
      ]
     },
     "execution_count": 37,
     "metadata": {},
     "output_type": "execute_result"
    }
   ],
   "source": [
    "np_array[0]"
   ]
  },
  {
   "cell_type": "code",
   "execution_count": 38,
   "id": "50ef965c",
   "metadata": {
    "colab": {
     "base_uri": "https://localhost:8080/",
     "height": 34
    },
    "executionInfo": {
     "elapsed": 1644,
     "status": "ok",
     "timestamp": 1600415532501,
     "user": {
      "displayName": "김은지",
      "photoUrl": "",
      "userId": "05656241690824715190"
     },
     "user_tz": -540
    },
    "id": "TUHzFyIcMsoL",
    "outputId": "d9a201e5-c865-45bb-cda4-77a92378ebe2"
   },
   "outputs": [
    {
     "data": {
      "text/plain": [
       "array([5, 6])"
      ]
     },
     "execution_count": 38,
     "metadata": {},
     "output_type": "execute_result"
    }
   ],
   "source": [
    "np_array[1, 1:3]"
   ]
  },
  {
   "cell_type": "code",
   "execution_count": 39,
   "id": "99e51fe9",
   "metadata": {
    "colab": {
     "base_uri": "https://localhost:8080/",
     "height": 68
    },
    "executionInfo": {
     "elapsed": 1203,
     "status": "ok",
     "timestamp": 1600415538509,
     "user": {
      "displayName": "김은지",
      "photoUrl": "",
      "userId": "05656241690824715190"
     },
     "user_tz": -540
    },
    "id": "Rlx_yJ0oMv8w",
    "outputId": "5fce3951-7dd3-4c8e-ba00-8ac77fad5e2d"
   },
   "outputs": [
    {
     "name": "stdout",
     "output_type": "stream",
     "text": [
      "[[1 2 3 4]]\n",
      "[[ 1  3]\n",
      " [ 9 11]]\n"
     ]
    }
   ],
   "source": [
    "np_array = np.array([[ 1,  2,  3,  4], \n",
    "                     [ 5,  6,  7,  8], \n",
    "                     [ 9, 10, 11, 12], \n",
    "                     [13, 14, 15, 16]]) \n",
    "print(np_array[::2][::2]) # 첫 슬라이싱: 0행, 2행 선택, 두 번째 슬라이싱: 그 중 0행 선택\n",
    "print(np_array[::2,::2])  # 행 슬라이싱: 0행, 2행 선택, 열 슬라이싱: 0열 2열 선택"
   ]
  },
  {
   "cell_type": "markdown",
   "id": "91cae044",
   "metadata": {
    "id": "GEle8yS1MkVR"
   },
   "source": [
    "###  2차원 배열에서 논리적인 인덱싱"
   ]
  },
  {
   "cell_type": "code",
   "execution_count": 40,
   "id": "6ded1e1c",
   "metadata": {
    "colab": {
     "base_uri": "https://localhost:8080/",
     "height": 68
    },
    "executionInfo": {
     "elapsed": 1231,
     "status": "ok",
     "timestamp": 1600415566002,
     "user": {
      "displayName": "김은지",
      "photoUrl": "",
      "userId": "05656241690824715190"
     },
     "user_tz": -540
    },
    "id": "r0BSXHrHM2Nx",
    "outputId": "8335ea1a-621f-4dc5-8455-7d0205762085"
   },
   "outputs": [
    {
     "data": {
      "text/plain": [
       "array([[False, False, False],\n",
       "       [False, False,  True],\n",
       "       [ True,  True,  True]])"
      ]
     },
     "execution_count": 40,
     "metadata": {},
     "output_type": "execute_result"
    }
   ],
   "source": [
    "np_array = np.array([[1,2,3], [4,5,6], [7,8,9]]) \n",
    "np_array > 5"
   ]
  },
  {
   "cell_type": "code",
   "execution_count": 41,
   "id": "f8dfe0f3",
   "metadata": {
    "colab": {
     "base_uri": "https://localhost:8080/",
     "height": 34
    },
    "executionInfo": {
     "elapsed": 1052,
     "status": "ok",
     "timestamp": 1600415572545,
     "user": {
      "displayName": "김은지",
      "photoUrl": "",
      "userId": "05656241690824715190"
     },
     "user_tz": -540
    },
    "id": "Qx1A1ppRM4O6",
    "outputId": "673bb0bb-3257-405e-c449-45f7315c673c"
   },
   "outputs": [
    {
     "data": {
      "text/plain": [
       "array([6, 7, 8, 9])"
      ]
     },
     "execution_count": 41,
     "metadata": {},
     "output_type": "execute_result"
    }
   ],
   "source": [
    "np_array[ np_array > 5 ]"
   ]
  },
  {
   "cell_type": "code",
   "execution_count": 42,
   "id": "7916bdae",
   "metadata": {
    "colab": {
     "base_uri": "https://localhost:8080/",
     "height": 34
    },
    "executionInfo": {
     "elapsed": 1093,
     "status": "ok",
     "timestamp": 1600415577922,
     "user": {
      "displayName": "김은지",
      "photoUrl": "",
      "userId": "05656241690824715190"
     },
     "user_tz": -540
    },
    "id": "xZdqfObbM536",
    "outputId": "4918bd18-4475-4593-e3ae-46dc53d5610f",
    "scrolled": true
   },
   "outputs": [
    {
     "data": {
      "text/plain": [
       "array([3, 6, 9])"
      ]
     },
     "execution_count": 42,
     "metadata": {},
     "output_type": "execute_result"
    }
   ],
   "source": [
    "np_array[:, 2]"
   ]
  },
  {
   "cell_type": "code",
   "execution_count": 43,
   "id": "b34b8a33",
   "metadata": {
    "colab": {
     "base_uri": "https://localhost:8080/",
     "height": 34
    },
    "executionInfo": {
     "elapsed": 1338,
     "status": "ok",
     "timestamp": 1600415584419,
     "user": {
      "displayName": "김은지",
      "photoUrl": "",
      "userId": "05656241690824715190"
     },
     "user_tz": -540
    },
    "id": "fi2ZlhhyM7ID",
    "outputId": "b090594f-18f3-487b-8222-1c08a71de24b",
    "scrolled": true
   },
   "outputs": [
    {
     "data": {
      "text/plain": [
       "array([False,  True,  True])"
      ]
     },
     "execution_count": 43,
     "metadata": {},
     "output_type": "execute_result"
    }
   ],
   "source": [
    "np_array[:, 2] > 5"
   ]
  },
  {
   "cell_type": "markdown",
   "id": "ca112820",
   "metadata": {
    "id": "qfTPWHFyM_Rm"
   },
   "source": [
    "### 2차원 배열 연습"
   ]
  },
  {
   "cell_type": "code",
   "execution_count": 44,
   "id": "33b19070",
   "metadata": {
    "colab": {
     "base_uri": "https://localhost:8080/",
     "height": 35
    },
    "executionInfo": {
     "elapsed": 998,
     "status": "ok",
     "timestamp": 1600525072893,
     "user": {
      "displayName": "박동규",
      "photoUrl": "",
      "userId": "10745738943866733973"
     },
     "user_tz": -540
    },
    "id": "uMhjHzFOM8s2",
    "outputId": "2bf173a8-f749-438d-efc7-66423b914cb8"
   },
   "outputs": [
    {
     "name": "stdout",
     "output_type": "stream",
     "text": [
      "['c' 'c' 'c']\n"
     ]
    }
   ],
   "source": [
    "import numpy as np\n",
    "x = np.array( [['a', 'b', 'c', 'd'],\n",
    "               ['c', 'c', 'g', 'h']])\n",
    "\n",
    "print(x [ x == 'c' ])\n",
    "#print(x - y)"
   ]
  },
  {
   "cell_type": "code",
   "execution_count": 45,
   "id": "91af0d39",
   "metadata": {
    "colab": {
     "base_uri": "https://localhost:8080/",
     "height": 52
    },
    "executionInfo": {
     "elapsed": 974,
     "status": "ok",
     "timestamp": 1600525102882,
     "user": {
      "displayName": "박동규",
      "photoUrl": "",
      "userId": "10745738943866733973"
     },
     "user_tz": -540
    },
    "id": "MxLZrplPuqzI",
    "outputId": "2c1d926b-706b-466d-8e8d-133607908288"
   },
   "outputs": [
    {
     "name": "stdout",
     "output_type": "stream",
     "text": [
      "[[ 8 18 28]\n",
      " [ 9 18 27]]\n"
     ]
    }
   ],
   "source": [
    "mat_a = np.array( [[10, 20, 30], [10, 20, 30]])\n",
    "mat_b = np.array( [[2, 2, 2], [1, 2, 3]])\n",
    "\n",
    "print(mat_a - mat_b)"
   ]
  },
  {
   "cell_type": "markdown",
   "id": "0cb1ee7f",
   "metadata": {
    "id": "hXk5MSRhNkHL"
   },
   "source": [
    "###  넘파이 배열의 형태 알아내고 슬라이싱하여 연산하기"
   ]
  },
  {
   "cell_type": "code",
   "execution_count": 46,
   "id": "0113b397",
   "metadata": {
    "colab": {
     "base_uri": "https://localhost:8080/",
     "height": 119
    },
    "executionInfo": {
     "elapsed": 1114,
     "status": "ok",
     "timestamp": 1600415775765,
     "user": {
      "displayName": "김은지",
      "photoUrl": "",
      "userId": "05656241690824715190"
     },
     "user_tz": -540
    },
    "id": "KNPeGmE4ND7m",
    "outputId": "bf5ad74a-48fa-4b71-d718-ef52bd498aa3"
   },
   "outputs": [
    {
     "name": "stdout",
     "output_type": "stream",
     "text": [
      "x shape : (2, 6)\n",
      "y shape : (2, 2)\n",
      "z shape : (1, 6)\n",
      "z values = : [[86. 74. 59. 95. 80. 68.]]\n",
      "BMI data\n",
      "[0.00024743 0.0003214  0.00048549 0.00020609 0.00027656 0.00037413]\n"
     ]
    }
   ],
   "source": [
    "import numpy as np \n",
    " \n",
    "x = np.array([[ 1.83, 1.76, 1.69, 1.86, 1.77, 1.73 ], \n",
    "              [ 86.0, 74.0, 59.0, 95.0, 80.0, 68.0 ]]) \n",
    "y = x[0:2, 1:3] \n",
    "z = x[0:2][1:3]\n",
    "\n",
    "print('x shape :', x.shape)\n",
    "print('y shape :', y.shape)\n",
    "print('z shape :', z.shape)\n",
    "print('z values = :', z)\n",
    "\n",
    "bmi = x[0] / x[1]**2\n",
    "print('BMI data')\n",
    "print(bmi)"
   ]
  },
  {
   "cell_type": "markdown",
   "id": "da40323b",
   "metadata": {
    "id": "2mQHcnGuNstq"
   },
   "source": [
    "### 2차원 배열에서 특정 조건을 만족하는 행만 추출하기"
   ]
  },
  {
   "cell_type": "code",
   "execution_count": 47,
   "id": "29339778",
   "metadata": {
    "colab": {
     "base_uri": "https://localhost:8080/",
     "height": 119
    },
    "executionInfo": {
     "elapsed": 1069,
     "status": "ok",
     "timestamp": 1600415807196,
     "user": {
      "displayName": "김은지",
      "photoUrl": "",
      "userId": "05656241690824715190"
     },
     "user_tz": -540
    },
    "id": "gcAOiYOQNxga",
    "outputId": "a70fd5a9-571b-41df-ad4b-a273d7e32a7e"
   },
   "outputs": [
    {
     "name": "stdout",
     "output_type": "stream",
     "text": [
      "몸무게가 80 이상인 선수 정보\n",
      "[[183.   86.2]\n",
      " [176.   80.1]]\n",
      "키가 180 이상인 선수 정보\n",
      "[[183.   86.2]\n",
      " [181.   78.5]]\n"
     ]
    }
   ],
   "source": [
    "import numpy as np \n",
    "\n",
    "players = [[170, 76.4], \n",
    "           [183, 86.2], \n",
    "           [181, 78.5], \n",
    "           [176, 80.1]] \n",
    "\n",
    "np_players = np.array(players) \n",
    "\n",
    "print('몸무게가 80 이상인 선수 정보');\n",
    "print(np_players[ np_players[:, 1] >= 80.0 ])\n",
    "\n",
    "print('키가 180 이상인 선수 정보');\n",
    "print(np_players[ np_players[:, 0] >= 180.0 ])"
   ]
  },
  {
   "cell_type": "markdown",
   "id": "8c67bc63",
   "metadata": {
    "id": "844iPxfUN1aK"
   },
   "source": [
    "###  arange()  함수와 range() 함수의 비교"
   ]
  },
  {
   "cell_type": "code",
   "execution_count": 78,
   "id": "51038264",
   "metadata": {
    "colab": {
     "base_uri": "https://localhost:8080/",
     "height": 34
    },
    "executionInfo": {
     "elapsed": 1262,
     "status": "ok",
     "timestamp": 1600415844520,
     "user": {
      "displayName": "김은지",
      "photoUrl": "",
      "userId": "05656241690824715190"
     },
     "user_tz": -540
    },
    "id": "zXymhpabN6eK",
    "outputId": "ba6af58d-eeec-4b47-98f6-eede2dda1d8f",
    "scrolled": true
   },
   "outputs": [
    {
     "data": {
      "text/plain": [
       "array([0, 1, 2, 3, 4])"
      ]
     },
     "execution_count": 78,
     "metadata": {},
     "output_type": "execute_result"
    }
   ],
   "source": [
    "import numpy as np \n",
    "np.arange(5)"
   ]
  },
  {
   "cell_type": "code",
   "execution_count": 79,
   "id": "5c8df821",
   "metadata": {
    "colab": {
     "base_uri": "https://localhost:8080/",
     "height": 34
    },
    "executionInfo": {
     "elapsed": 1096,
     "status": "ok",
     "timestamp": 1600415850871,
     "user": {
      "displayName": "김은지",
      "photoUrl": "",
      "userId": "05656241690824715190"
     },
     "user_tz": -540
    },
    "id": "Md4FvXB0N8N_",
    "outputId": "187b77ff-9f20-480d-a034-23e3477636f5",
    "scrolled": true
   },
   "outputs": [
    {
     "data": {
      "text/plain": [
       "array([1, 2, 3, 4, 5])"
      ]
     },
     "execution_count": 79,
     "metadata": {},
     "output_type": "execute_result"
    }
   ],
   "source": [
    "np.arange(1, 6)"
   ]
  },
  {
   "cell_type": "code",
   "execution_count": 80,
   "id": "360aec0e",
   "metadata": {
    "colab": {
     "base_uri": "https://localhost:8080/",
     "height": 34
    },
    "executionInfo": {
     "elapsed": 1180,
     "status": "ok",
     "timestamp": 1600415856117,
     "user": {
      "displayName": "김은지",
      "photoUrl": "",
      "userId": "05656241690824715190"
     },
     "user_tz": -540
    },
    "id": "ixH6oywON9z6",
    "outputId": "5f7c3897-f09e-4cca-87e9-eba0cadc5960"
   },
   "outputs": [
    {
     "data": {
      "text/plain": [
       "array([1, 3, 5, 7, 9])"
      ]
     },
     "execution_count": 80,
     "metadata": {},
     "output_type": "execute_result"
    }
   ],
   "source": [
    "np.arange(1, 10, 2)"
   ]
  },
  {
   "cell_type": "code",
   "execution_count": 81,
   "id": "d7d68849",
   "metadata": {
    "colab": {
     "base_uri": "https://localhost:8080/",
     "height": 34
    },
    "executionInfo": {
     "elapsed": 1176,
     "status": "ok",
     "timestamp": 1600415863738,
     "user": {
      "displayName": "김은지",
      "photoUrl": "",
      "userId": "05656241690824715190"
     },
     "user_tz": -540
    },
    "id": "1dtw4BC0N_Ej",
    "outputId": "cd980f3d-b7b5-4612-d4ac-4d91a34a8c3a"
   },
   "outputs": [
    {
     "data": {
      "text/plain": [
       "range(0, 5)"
      ]
     },
     "execution_count": 81,
     "metadata": {},
     "output_type": "execute_result"
    }
   ],
   "source": [
    "range(5)"
   ]
  },
  {
   "cell_type": "code",
   "execution_count": 84,
   "id": "bd8590cc",
   "metadata": {
    "colab": {
     "base_uri": "https://localhost:8080/",
     "height": 34
    },
    "executionInfo": {
     "elapsed": 1015,
     "status": "ok",
     "timestamp": 1600415869782,
     "user": {
      "displayName": "김은지",
      "photoUrl": "",
      "userId": "05656241690824715190"
     },
     "user_tz": -540
    },
    "id": "YcdUHF6WOA72",
    "outputId": "171d2e2b-a0ed-48bf-b0a5-c2cf1c364b9d",
    "scrolled": true
   },
   "outputs": [
    {
     "data": {
      "text/plain": [
       "range(0, 5, 2)"
      ]
     },
     "execution_count": 84,
     "metadata": {},
     "output_type": "execute_result"
    }
   ],
   "source": [
    "range(0, 5, 2)"
   ]
  },
  {
   "cell_type": "code",
   "execution_count": 53,
   "id": "309341cf",
   "metadata": {
    "colab": {
     "base_uri": "https://localhost:8080/",
     "height": 34
    },
    "executionInfo": {
     "elapsed": 1007,
     "status": "ok",
     "timestamp": 1600415879747,
     "user": {
      "displayName": "김은지",
      "photoUrl": "",
      "userId": "05656241690824715190"
     },
     "user_tz": -540
    },
    "id": "6gMvnz3mOCcq",
    "outputId": "d600cbc7-c664-49ea-e14d-ed55babe4748"
   },
   "outputs": [
    {
     "data": {
      "text/plain": [
       "[0, 1, 2, 3, 4]"
      ]
     },
     "execution_count": 53,
     "metadata": {},
     "output_type": "execute_result"
    }
   ],
   "source": [
    "list(range(5))"
   ]
  },
  {
   "cell_type": "code",
   "execution_count": 54,
   "id": "7ae8c8a6",
   "metadata": {
    "colab": {
     "base_uri": "https://localhost:8080/",
     "height": 34
    },
    "executionInfo": {
     "elapsed": 1165,
     "status": "ok",
     "timestamp": 1600415998838,
     "user": {
      "displayName": "김은지",
      "photoUrl": "",
      "userId": "05656241690824715190"
     },
     "user_tz": -540
    },
    "id": "i7iM0IedOE4g",
    "outputId": "86e3a0ed-c8dd-4a67-c976-7c8afcd45f7b",
    "scrolled": true
   },
   "outputs": [
    {
     "data": {
      "text/plain": [
       "array([0, 1, 2, 3, 4])"
      ]
     },
     "execution_count": 54,
     "metadata": {},
     "output_type": "execute_result"
    }
   ],
   "source": [
    "np.array(range(5))"
   ]
  },
  {
   "cell_type": "markdown",
   "id": "de6dea94",
   "metadata": {
    "id": "8Bj6QzuWQsUQ"
   },
   "source": [
    "### linspace() 함수와 logspace() 함수"
   ]
  },
  {
   "cell_type": "code",
   "execution_count": 55,
   "id": "66df2a8d",
   "metadata": {
    "colab": {
     "base_uri": "https://localhost:8080/",
     "height": 357
    },
    "executionInfo": {
     "elapsed": 1103,
     "status": "ok",
     "timestamp": 1600416591225,
     "user": {
      "displayName": "김은지",
      "photoUrl": "",
      "userId": "05656241690824715190"
     },
     "user_tz": -540
    },
    "id": "Jadvbg57QvWJ",
    "outputId": "99b84909-9cb7-41fb-c975-75ee5e42ee69",
    "scrolled": true
   },
   "outputs": [
    {
     "data": {
      "text/plain": [
       "array([ 0.        ,  0.1010101 ,  0.2020202 ,  0.3030303 ,  0.4040404 ,\n",
       "        0.50505051,  0.60606061,  0.70707071,  0.80808081,  0.90909091,\n",
       "        1.01010101,  1.11111111,  1.21212121,  1.31313131,  1.41414141,\n",
       "        1.51515152,  1.61616162,  1.71717172,  1.81818182,  1.91919192,\n",
       "        2.02020202,  2.12121212,  2.22222222,  2.32323232,  2.42424242,\n",
       "        2.52525253,  2.62626263,  2.72727273,  2.82828283,  2.92929293,\n",
       "        3.03030303,  3.13131313,  3.23232323,  3.33333333,  3.43434343,\n",
       "        3.53535354,  3.63636364,  3.73737374,  3.83838384,  3.93939394,\n",
       "        4.04040404,  4.14141414,  4.24242424,  4.34343434,  4.44444444,\n",
       "        4.54545455,  4.64646465,  4.74747475,  4.84848485,  4.94949495,\n",
       "        5.05050505,  5.15151515,  5.25252525,  5.35353535,  5.45454545,\n",
       "        5.55555556,  5.65656566,  5.75757576,  5.85858586,  5.95959596,\n",
       "        6.06060606,  6.16161616,  6.26262626,  6.36363636,  6.46464646,\n",
       "        6.56565657,  6.66666667,  6.76767677,  6.86868687,  6.96969697,\n",
       "        7.07070707,  7.17171717,  7.27272727,  7.37373737,  7.47474747,\n",
       "        7.57575758,  7.67676768,  7.77777778,  7.87878788,  7.97979798,\n",
       "        8.08080808,  8.18181818,  8.28282828,  8.38383838,  8.48484848,\n",
       "        8.58585859,  8.68686869,  8.78787879,  8.88888889,  8.98989899,\n",
       "        9.09090909,  9.19191919,  9.29292929,  9.39393939,  9.49494949,\n",
       "        9.5959596 ,  9.6969697 ,  9.7979798 ,  9.8989899 , 10.        ])"
      ]
     },
     "execution_count": 55,
     "metadata": {},
     "output_type": "execute_result"
    }
   ],
   "source": [
    "np.linspace(0, 10, 100)"
   ]
  },
  {
   "cell_type": "code",
   "execution_count": 56,
   "id": "4f613b62",
   "metadata": {
    "colab": {
     "base_uri": "https://localhost:8080/",
     "height": 68
    },
    "executionInfo": {
     "elapsed": 1014,
     "status": "ok",
     "timestamp": 1600416599891,
     "user": {
      "displayName": "김은지",
      "photoUrl": "",
      "userId": "05656241690824715190"
     },
     "user_tz": -540
    },
    "id": "x1sQGglIQyju",
    "outputId": "ed700644-63e6-4782-a24d-16c5cf9f5d86",
    "scrolled": true
   },
   "outputs": [
    {
     "data": {
      "text/plain": [
       "array([1.00000000e+00, 3.59381366e+00, 1.29154967e+01, 4.64158883e+01,\n",
       "       1.66810054e+02, 5.99484250e+02, 2.15443469e+03, 7.74263683e+03,\n",
       "       2.78255940e+04, 1.00000000e+05])"
      ]
     },
     "execution_count": 56,
     "metadata": {},
     "output_type": "execute_result"
    }
   ],
   "source": [
    "np.logspace(0, 5, 10)"
   ]
  },
  {
   "cell_type": "markdown",
   "id": "67d6acab",
   "metadata": {
    "id": "0Hw3rdsSQ2DW"
   },
   "source": [
    "### 10.14 reshape() 함수"
   ]
  },
  {
   "cell_type": "code",
   "execution_count": 4,
   "id": "e98d5cc5",
   "metadata": {
    "colab": {
     "base_uri": "https://localhost:8080/",
     "height": 35
    },
    "executionInfo": {
     "elapsed": 29,
     "status": "ok",
     "timestamp": 1601122749899,
     "user": {
      "displayName": "박동규",
      "photoUrl": "",
      "userId": "10745738943866733973"
     },
     "user_tz": -540
    },
    "id": "yLeIfUpqQ4Hu",
    "outputId": "19b08955-265d-42f3-bd1b-298ac1d6e74e"
   },
   "outputs": [
    {
     "data": {
      "text/plain": [
       "array([ 0,  1,  2,  3,  4,  5,  6,  7,  8,  9, 10, 11])"
      ]
     },
     "execution_count": 4,
     "metadata": {},
     "output_type": "execute_result"
    }
   ],
   "source": [
    "import numpy as np\n",
    "y = np.arange(12) \n",
    "y"
   ]
  },
  {
   "cell_type": "code",
   "execution_count": 5,
   "id": "177b1e85",
   "metadata": {
    "colab": {
     "base_uri": "https://localhost:8080/",
     "height": 69
    },
    "executionInfo": {
     "elapsed": 10,
     "status": "ok",
     "timestamp": 1601122749900,
     "user": {
      "displayName": "박동규",
      "photoUrl": "",
      "userId": "10745738943866733973"
     },
     "user_tz": -540
    },
    "id": "T03VJ3QFQ6NV",
    "outputId": "6b0bbb68-d87a-4ae1-d1cc-64b3cafb6d25",
    "scrolled": false
   },
   "outputs": [
    {
     "data": {
      "text/plain": [
       "array([[ 0,  1,  2,  3],\n",
       "       [ 4,  5,  6,  7],\n",
       "       [ 8,  9, 10, 11]])"
      ]
     },
     "execution_count": 5,
     "metadata": {},
     "output_type": "execute_result"
    }
   ],
   "source": [
    "y.reshape(3, 4)"
   ]
  },
  {
   "cell_type": "code",
   "execution_count": 6,
   "id": "880cb4c1",
   "metadata": {
    "colab": {
     "base_uri": "https://localhost:8080/",
     "height": 121
    },
    "executionInfo": {
     "elapsed": 2443,
     "status": "ok",
     "timestamp": 1601122099940,
     "user": {
      "displayName": "박동규",
      "photoUrl": "",
      "userId": "10745738943866733973"
     },
     "user_tz": -540
    },
    "id": "I1kzTi5EQ7_A",
    "outputId": "9bd8dbda-4102-46e0-d30f-0a5ee9a976b1",
    "scrolled": true
   },
   "outputs": [
    {
     "data": {
      "text/plain": [
       "array([[ 0,  1],\n",
       "       [ 2,  3],\n",
       "       [ 4,  5],\n",
       "       [ 6,  7],\n",
       "       [ 8,  9],\n",
       "       [10, 11]])"
      ]
     },
     "execution_count": 6,
     "metadata": {},
     "output_type": "execute_result"
    }
   ],
   "source": [
    "y.reshape(6, -1)"
   ]
  },
  {
   "cell_type": "code",
   "execution_count": 9,
   "id": "7c57984f",
   "metadata": {
    "colab": {
     "base_uri": "https://localhost:8080/",
     "height": 166
    },
    "executionInfo": {
     "elapsed": 818,
     "status": "error",
     "timestamp": 1601122142513,
     "user": {
      "displayName": "박동규",
      "photoUrl": "",
      "userId": "10745738943866733973"
     },
     "user_tz": -540
    },
    "id": "-VQv07P4Q9Vt",
    "outputId": "7e30d7ca-bf11-4693-cd19-d029b94769d5",
    "scrolled": false
   },
   "outputs": [
    {
     "data": {
      "text/plain": [
       "array([[ 0,  1],\n",
       "       [ 2,  3],\n",
       "       [ 4,  5],\n",
       "       [ 6,  7],\n",
       "       [ 8,  9],\n",
       "       [10, 11]])"
      ]
     },
     "execution_count": 9,
     "metadata": {},
     "output_type": "execute_result"
    }
   ],
   "source": [
    "y.reshape(6, 2)"
   ]
  },
  {
   "cell_type": "code",
   "execution_count": 8,
   "id": "9b1e1605",
   "metadata": {
    "colab": {
     "base_uri": "https://localhost:8080/",
     "height": 35
    },
    "executionInfo": {
     "elapsed": 1916,
     "status": "ok",
     "timestamp": 1601122163629,
     "user": {
      "displayName": "박동규",
      "photoUrl": "",
      "userId": "10745738943866733973"
     },
     "user_tz": -540
    },
    "id": "BNlTZeXIUTG_",
    "outputId": "0aaf2ad7-0dac-4d22-bfc7-570d669b725a",
    "scrolled": true
   },
   "outputs": [
    {
     "data": {
      "text/plain": [
       "array([ 0,  1,  2,  3,  4,  5,  6,  7,  8,  9, 10, 11])"
      ]
     },
     "execution_count": 8,
     "metadata": {},
     "output_type": "execute_result"
    }
   ],
   "source": [
    "y.flatten()"
   ]
  },
  {
   "cell_type": "markdown",
   "id": "8c68b9ac",
   "metadata": {
    "id": "wrUQMGU8RCFr"
   },
   "source": [
    "###  난수 생성하기"
   ]
  },
  {
   "cell_type": "code",
   "execution_count": 62,
   "id": "36518ff7",
   "metadata": {
    "id": "TZ_UkUUcRHfa"
   },
   "outputs": [],
   "source": [
    "np.random.seed(100)"
   ]
  },
  {
   "cell_type": "code",
   "execution_count": 63,
   "id": "5cda4bd7",
   "metadata": {
    "colab": {
     "base_uri": "https://localhost:8080/",
     "height": 34
    },
    "executionInfo": {
     "elapsed": 1181,
     "status": "ok",
     "timestamp": 1600416691169,
     "user": {
      "displayName": "김은지",
      "photoUrl": "",
      "userId": "05656241690824715190"
     },
     "user_tz": -540
    },
    "id": "adRbG5gPRJFI",
    "outputId": "3af3dfc0-4f37-41a8-e926-be68ce3dc3a5"
   },
   "outputs": [
    {
     "data": {
      "text/plain": [
       "array([0.54340494, 0.27836939, 0.42451759, 0.84477613, 0.00471886])"
      ]
     },
     "execution_count": 63,
     "metadata": {},
     "output_type": "execute_result"
    }
   ],
   "source": [
    "np.random.rand(5)"
   ]
  },
  {
   "cell_type": "code",
   "execution_count": 64,
   "id": "5c1d4462",
   "metadata": {
    "colab": {
     "base_uri": "https://localhost:8080/",
     "height": 102
    },
    "executionInfo": {
     "elapsed": 1246,
     "status": "ok",
     "timestamp": 1600416697914,
     "user": {
      "displayName": "김은지",
      "photoUrl": "",
      "userId": "05656241690824715190"
     },
     "user_tz": -540
    },
    "id": "9cZv_VI8RK3h",
    "outputId": "52a36ff9-871b-40e6-9b97-75dccda52b1c"
   },
   "outputs": [
    {
     "data": {
      "text/plain": [
       "array([[0.12156912, 0.67074908, 0.82585276],\n",
       "       [0.13670659, 0.57509333, 0.89132195],\n",
       "       [0.20920212, 0.18532822, 0.10837689],\n",
       "       [0.21969749, 0.97862378, 0.81168315],\n",
       "       [0.17194101, 0.81622475, 0.27407375]])"
      ]
     },
     "execution_count": 64,
     "metadata": {},
     "output_type": "execute_result"
    }
   ],
   "source": [
    "np.random.rand(5, 3)"
   ]
  },
  {
   "cell_type": "code",
   "execution_count": 65,
   "id": "aa868af3",
   "metadata": {
    "colab": {
     "base_uri": "https://localhost:8080/",
     "height": 34
    },
    "executionInfo": {
     "elapsed": 1311,
     "status": "ok",
     "timestamp": 1600416712876,
     "user": {
      "displayName": "김은지",
      "photoUrl": "",
      "userId": "05656241690824715190"
     },
     "user_tz": -540
    },
    "id": "ohBCWluLRMkl",
    "outputId": "efb95a8a-064e-4dbc-dbcd-99d69ad7d667"
   },
   "outputs": [
    {
     "data": {
      "text/plain": [
       "array([14.31704184, 19.4002982 , 18.17649379, 13.3611195 , 11.75410454])"
      ]
     },
     "execution_count": 65,
     "metadata": {},
     "output_type": "execute_result"
    }
   ],
   "source": [
    "a = 10\n",
    "b = 20 \n",
    "(b - a) * np.random.rand(5) + a"
   ]
  },
  {
   "cell_type": "code",
   "execution_count": 66,
   "id": "f6e11def",
   "metadata": {
    "colab": {
     "base_uri": "https://localhost:8080/",
     "height": 34
    },
    "executionInfo": {
     "elapsed": 1097,
     "status": "ok",
     "timestamp": 1600416719839,
     "user": {
      "displayName": "김은지",
      "photoUrl": "",
      "userId": "05656241690824715190"
     },
     "user_tz": -540
    },
    "id": "ReKQXksERQIj",
    "outputId": "b22a7799-ee13-4fcb-d7fd-4b1e3b6ac558"
   },
   "outputs": [
    {
     "data": {
      "text/plain": [
       "array([4, 1, 3, 2, 2, 4, 3, 6, 4, 1])"
      ]
     },
     "execution_count": 66,
     "metadata": {},
     "output_type": "execute_result"
    }
   ],
   "source": [
    "np.random.randint(1, 7, size=10)"
   ]
  },
  {
   "cell_type": "code",
   "execution_count": 67,
   "id": "7c949dab",
   "metadata": {
    "colab": {
     "base_uri": "https://localhost:8080/",
     "height": 85
    },
    "executionInfo": {
     "elapsed": 1174,
     "status": "ok",
     "timestamp": 1600416726915,
     "user": {
      "displayName": "김은지",
      "photoUrl": "",
      "userId": "05656241690824715190"
     },
     "user_tz": -540
    },
    "id": "eNUtP3wlRR9g",
    "outputId": "2c1430c7-c448-49fd-95a1-6fc8f2e4b0c8",
    "scrolled": true
   },
   "outputs": [
    {
     "data": {
      "text/plain": [
       "array([[ 2,  1,  8,  7,  3,  1,  9],\n",
       "       [ 3,  6,  2,  9,  2,  6,  5],\n",
       "       [ 3,  9,  4,  6,  1, 10,  4],\n",
       "       [ 7,  4,  5,  8,  7,  4, 10]])"
      ]
     },
     "execution_count": 67,
     "metadata": {},
     "output_type": "execute_result"
    }
   ],
   "source": [
    "np.random.randint(1, 11, size=(4, 7))"
   ]
  },
  {
   "cell_type": "markdown",
   "id": "ea04ea1f",
   "metadata": {
    "id": "G-nRMus5RU4L"
   },
   "source": [
    "###  정규 분포 난수 생성"
   ]
  },
  {
   "cell_type": "code",
   "execution_count": 68,
   "id": "786b3015",
   "metadata": {
    "colab": {
     "base_uri": "https://localhost:8080/",
     "height": 34
    },
    "executionInfo": {
     "elapsed": 1264,
     "status": "ok",
     "timestamp": 1600416748747,
     "user": {
      "displayName": "김은지",
      "photoUrl": "",
      "userId": "05656241690824715190"
     },
     "user_tz": -540
    },
    "id": "fwk4tODsRXzV",
    "outputId": "a3d0d888-301c-4373-867d-40e8bdfcfe1c"
   },
   "outputs": [
    {
     "data": {
      "text/plain": [
       "array([-1.02933685, -0.51099219, -2.36027053,  0.10359513,  1.73881773])"
      ]
     },
     "execution_count": 68,
     "metadata": {},
     "output_type": "execute_result"
    }
   ],
   "source": [
    "np.random.randn(5)"
   ]
  },
  {
   "cell_type": "code",
   "execution_count": 69,
   "id": "6b5b8e9e",
   "metadata": {
    "colab": {
     "base_uri": "https://localhost:8080/",
     "height": 102
    },
    "executionInfo": {
     "elapsed": 1058,
     "status": "ok",
     "timestamp": 1600416754246,
     "user": {
      "displayName": "김은지",
      "photoUrl": "",
      "userId": "05656241690824715190"
     },
     "user_tz": -540
    },
    "id": "2xYD3pNTRY-k",
    "outputId": "9e49b74b-13a2-4b9c-cb0e-d81d29d8d114"
   },
   "outputs": [
    {
     "data": {
      "text/plain": [
       "array([[ 1.24187584,  0.13241276,  0.57779396, -1.57590571],\n",
       "       [-1.29279424, -0.65991979, -0.87400478, -0.68955061],\n",
       "       [-0.53547985,  1.52795302,  0.64720579, -0.67733661],\n",
       "       [-0.2650188 ,  0.74610644, -3.13078483,  0.05962178],\n",
       "       [-0.87521111,  1.06487833, -0.57315265, -0.80327849]])"
      ]
     },
     "execution_count": 69,
     "metadata": {},
     "output_type": "execute_result"
    }
   ],
   "source": [
    "np.random.randn(5, 4)"
   ]
  },
  {
   "cell_type": "code",
   "execution_count": 70,
   "id": "796bc814",
   "metadata": {
    "colab": {
     "base_uri": "https://localhost:8080/",
     "height": 102
    },
    "executionInfo": {
     "elapsed": 1200,
     "status": "ok",
     "timestamp": 1600416768564,
     "user": {
      "displayName": "김은지",
      "photoUrl": "",
      "userId": "05656241690824715190"
     },
     "user_tz": -540
    },
    "id": "I0LbWas3RaXo",
    "outputId": "e0419cf9-6fe2-46de-8acc-d1e8eed109e7"
   },
   "outputs": [
    {
     "data": {
      "text/plain": [
       "array([[12.18594325, 11.30255516, 14.32104958,  8.72173986],\n",
       "       [ 9.33262494,  9.12479628,  6.18841024,  7.54196134],\n",
       "       [11.58979772,  7.67898372, 11.09211104, 12.32651667],\n",
       "       [11.31775404, 11.04737852, 12.65431215, 12.22504894],\n",
       "       [ 7.85074079, 10.68683233, 11.97087508, 11.47300336]])"
      ]
     },
     "execution_count": 70,
     "metadata": {},
     "output_type": "execute_result"
    }
   ],
   "source": [
    "mu = 10\n",
    "sigma = 2\n",
    "randoms = mu + sigma * np.random.randn( 5, 4 )\n",
    "randoms"
   ]
  },
  {
   "cell_type": "markdown",
   "id": "489c3818",
   "metadata": {
    "id": "LsC8qnhBRevB"
   },
   "source": [
    "### 평균과 중간값 계산하기"
   ]
  },
  {
   "cell_type": "code",
   "execution_count": 71,
   "id": "5f3002b3",
   "metadata": {
    "id": "kHgnNcSMRiso"
   },
   "outputs": [],
   "source": [
    "m = 175 \n",
    "sigma = 10 \n",
    "heights = m+sigma*np.random.randn(10000)"
   ]
  },
  {
   "cell_type": "code",
   "execution_count": 72,
   "id": "9bfe09c8",
   "metadata": {
    "colab": {
     "base_uri": "https://localhost:8080/",
     "height": 34
    },
    "executionInfo": {
     "elapsed": 1151,
     "status": "ok",
     "timestamp": 1600416807290,
     "user": {
      "displayName": "김은지",
      "photoUrl": "",
      "userId": "05656241690824715190"
     },
     "user_tz": -540
    },
    "id": "d2ghKbDXRlNo",
    "outputId": "281ea2df-3774-4ac3-99cf-c6e2166e2d40",
    "scrolled": false
   },
   "outputs": [
    {
     "data": {
      "text/plain": [
       "174.9972570108985"
      ]
     },
     "execution_count": 72,
     "metadata": {},
     "output_type": "execute_result"
    }
   ],
   "source": [
    "np.mean(heights)"
   ]
  },
  {
   "cell_type": "code",
   "execution_count": 73,
   "id": "58313b8c",
   "metadata": {
    "colab": {
     "base_uri": "https://localhost:8080/",
     "height": 34
    },
    "executionInfo": {
     "elapsed": 1230,
     "status": "ok",
     "timestamp": 1600416812414,
     "user": {
      "displayName": "김은지",
      "photoUrl": "",
      "userId": "05656241690824715190"
     },
     "user_tz": -540
    },
    "id": "TsqYATGjRnQL",
    "outputId": "1ff1656a-b83b-46c4-af55-6bfa9a6b9898"
   },
   "outputs": [
    {
     "data": {
      "text/plain": [
       "174.90487455543172"
      ]
     },
     "execution_count": 73,
     "metadata": {},
     "output_type": "execute_result"
    }
   ],
   "source": [
    "np.median(heights)"
   ]
  },
  {
   "cell_type": "code",
   "execution_count": 74,
   "id": "2d103081",
   "metadata": {
    "colab": {
     "base_uri": "https://localhost:8080/",
     "height": 34
    },
    "executionInfo": {
     "elapsed": 1092,
     "status": "ok",
     "timestamp": 1600416823472,
     "user": {
      "displayName": "김은지",
      "photoUrl": "",
      "userId": "05656241690824715190"
     },
     "user_tz": -540
    },
    "id": "PPwni6HnRoh-",
    "outputId": "4087b895-7a6e-4f2a-8afa-64a236680f64"
   },
   "outputs": [
    {
     "data": {
      "text/plain": [
       "6.8"
      ]
     },
     "execution_count": 74,
     "metadata": {},
     "output_type": "execute_result"
    }
   ],
   "source": [
    "array_data = np.array([ 3, 7, 1, 2, 21])\n",
    "np.mean(array_data)"
   ]
  },
  {
   "cell_type": "code",
   "execution_count": 75,
   "id": "b5bae2ed",
   "metadata": {
    "colab": {
     "base_uri": "https://localhost:8080/",
     "height": 34
    },
    "executionInfo": {
     "elapsed": 1037,
     "status": "ok",
     "timestamp": 1600416829667,
     "user": {
      "displayName": "김은지",
      "photoUrl": "",
      "userId": "05656241690824715190"
     },
     "user_tz": -540
    },
    "id": "fjy0F7mNRrQ1",
    "outputId": "6f52f261-1983-403f-ccbc-3050baad4b30"
   },
   "outputs": [
    {
     "data": {
      "text/plain": [
       "3.0"
      ]
     },
     "execution_count": 75,
     "metadata": {},
     "output_type": "execute_result"
    }
   ],
   "source": [
    "np.median(array_data)"
   ]
  },
  {
   "cell_type": "markdown",
   "id": "2ee5c1c5",
   "metadata": {
    "id": "Tk67QPErRuWH"
   },
   "source": [
    "### 평균과 중간값 계산하기"
   ]
  },
  {
   "cell_type": "code",
   "execution_count": 76,
   "id": "b29e5914",
   "metadata": {
    "colab": {
     "base_uri": "https://localhost:8080/",
     "height": 119
    },
    "executionInfo": {
     "elapsed": 1169,
     "status": "ok",
     "timestamp": 1600416863616,
     "user": {
      "displayName": "김은지",
      "photoUrl": "",
      "userId": "05656241690824715190"
     },
     "user_tz": -540
    },
    "id": "vlW--FmxRsyi",
    "outputId": "8cfde825-73cd-4a5b-e747-5b47e3dba99e"
   },
   "outputs": [
    {
     "name": "stdout",
     "output_type": "stream",
     "text": [
      "신장 평균값: 172.7170127299261\n",
      "신장 중앙값: 171.48115582605044\n",
      "체중 평균값: 69.57509276978816\n",
      "체중 중앙값: 70.55243586196354\n",
      "나이 평균값: 22.29\n",
      "나이 중앙값: 23.0\n"
     ]
    }
   ],
   "source": [
    "import numpy as np \n",
    " \n",
    "players = np.zeros( (100, 3) ) \n",
    "players[:, 0] = 10 * np.random.randn(100) + 175 \n",
    "players[:, 1] = 10 * np.random.randn(100) + 70\n",
    "players[:, 2] = np.floor(10 * np.random.randn(100)) + 22\n",
    "\n",
    "heights = players[:, 0] \n",
    "print('신장 평균값:', np.mean(heights))\n",
    "print('신장 중앙값:', np.median(heights))\n",
    "\n",
    "weights = players[:, 1] \n",
    "print('체중 평균값:', np.mean(weights))\n",
    "print('체중 중앙값:', np.median(weights))\n",
    "\n",
    "ages = players[:, 2] \n",
    "print('나이 평균값:', np.mean(ages))\n",
    "print('나이 중앙값:', np.median(ages))"
   ]
  },
  {
   "cell_type": "markdown",
   "id": "b61ff631",
   "metadata": {
    "id": "ViaziPo-R2_v"
   },
   "source": [
    "### 상관관계 계산하기"
   ]
  },
  {
   "cell_type": "code",
   "execution_count": 77,
   "id": "c4835d46",
   "metadata": {
    "colab": {
     "base_uri": "https://localhost:8080/",
     "height": 51
    },
    "executionInfo": {
     "elapsed": 1113,
     "status": "ok",
     "timestamp": 1600416908358,
     "user": {
      "displayName": "김은지",
      "photoUrl": "",
      "userId": "05656241690824715190"
     },
     "user_tz": -540
    },
    "id": "YlJ_IgO4R_JN",
    "outputId": "ab617d85-ac99-4491-82bd-72730efe1240"
   },
   "outputs": [
    {
     "name": "stdout",
     "output_type": "stream",
     "text": [
      "[[1.         0.96764439]\n",
      " [0.96764439 1.        ]]\n"
     ]
    }
   ],
   "source": [
    "import numpy as np \n",
    "\n",
    "x = [ i for i in range(100) ]\n",
    "y = [ i ** 2 for i in range(100) ]\n",
    "\n",
    "result = np.corrcoef(x, y)\n",
    "print(result)"
   ]
  },
  {
   "cell_type": "markdown",
   "id": "f92140cd",
   "metadata": {
    "id": "cG-GClRRSBao"
   },
   "source": [
    "### 다수 변수들 사이의 상관관계 계산하기"
   ]
  },
  {
   "cell_type": "code",
   "execution_count": 78,
   "id": "e42d71f9",
   "metadata": {
    "id": "7bqlN9zTR_-5"
   },
   "outputs": [],
   "source": [
    "x = [ i for i in range(100) ]\n",
    "y = [ i ** 2 for i in range(100) ]\n",
    "z = [ 100 * np.sin(3.14*i/100) for i in range(0, 100) ]"
   ]
  },
  {
   "cell_type": "code",
   "execution_count": 79,
   "id": "ac5d0c63",
   "metadata": {
    "colab": {
     "base_uri": "https://localhost:8080/",
     "height": 68
    },
    "executionInfo": {
     "elapsed": 1176,
     "status": "ok",
     "timestamp": 1600416943641,
     "user": {
      "displayName": "김은지",
      "photoUrl": "",
      "userId": "05656241690824715190"
     },
     "user_tz": -540
    },
    "id": "LS-bBLMeSFlB",
    "outputId": "03ff978c-4d67-4d8b-a1c6-6494f77bb52f"
   },
   "outputs": [
    {
     "name": "stdout",
     "output_type": "stream",
     "text": [
      "[[ 1.          0.96764439  0.03763255]\n",
      " [ 0.96764439  1.         -0.21532645]\n",
      " [ 0.03763255 -0.21532645  1.        ]]\n"
     ]
    }
   ],
   "source": [
    "result = np.corrcoef( [x, y, z] )\n",
    "print(result)"
   ]
  },
  {
   "cell_type": "code",
   "execution_count": 80,
   "id": "c1b420e3",
   "metadata": {
    "colab": {
     "base_uri": "https://localhost:8080/",
     "height": 276
    },
    "executionInfo": {
     "elapsed": 6916,
     "status": "ok",
     "timestamp": 1601123654240,
     "user": {
      "displayName": "박동규",
      "photoUrl": "",
      "userId": "10745738943866733973"
     },
     "user_tz": -540
    },
    "id": "pZAbFu4RZ8v-",
    "outputId": "3e865fd5-8356-41df-d416-b42a68d8fcd5",
    "scrolled": true
   },
   "outputs": [
    {
     "name": "stdout",
     "output_type": "stream",
     "text": [
      "[[[ 0  1]\n",
      "  [ 2  3]\n",
      "  [ 4  5]]\n",
      "\n",
      " [[ 6  7]\n",
      "  [ 8  9]\n",
      "  [10 11]]\n",
      "\n",
      " [[12 13]\n",
      "  [14 15]\n",
      "  [16 17]]\n",
      "\n",
      " [[18 19]\n",
      "  [20 21]\n",
      "  [22 23]]]\n"
     ]
    }
   ],
   "source": [
    "a = np.arange(0, 24).reshape(4, 3, 2)\n",
    "print(a)"
   ]
  },
  {
   "cell_type": "code",
   "execution_count": 81,
   "id": "82709e9e",
   "metadata": {
    "colab": {
     "base_uri": "https://localhost:8080/",
     "height": 35
    },
    "executionInfo": {
     "elapsed": 1670,
     "status": "ok",
     "timestamp": 1601123673437,
     "user": {
      "displayName": "박동규",
      "photoUrl": "",
      "userId": "10745738943866733973"
     },
     "user_tz": -540
    },
    "id": "sNwDEyMnZ_rm",
    "outputId": "d96a1d87-0136-486d-da34-f09e1d958482",
    "scrolled": true
   },
   "outputs": [
    {
     "name": "stdout",
     "output_type": "stream",
     "text": [
      "[ 0  1  2  3  4  5  6  7  8  9 10 11 12 13 14 15 16 17 18 19 20 21 22 23]\n"
     ]
    }
   ],
   "source": [
    "print(a.flatten())"
   ]
  },
  {
   "cell_type": "markdown",
   "id": "e1ef7377",
   "metadata": {},
   "source": [
    "### 교재실습"
   ]
  },
  {
   "cell_type": "code",
   "execution_count": 37,
   "id": "39102a33",
   "metadata": {
    "scrolled": true
   },
   "outputs": [
    {
     "name": "stdout",
     "output_type": "stream",
     "text": [
      "[0.  0.1 0.2 0.3 0.4 0.5 0.6 0.7 0.8 0.9 1.  1.1 1.2 1.3 1.4 1.5 1.6 1.7\n",
      " 1.8 1.9 2.  2.1 2.2 2.3 2.4 2.5 2.6 2.7 2.8 2.9 3.  3.1 3.2 3.3 3.4 3.5\n",
      " 3.6 3.7 3.8 3.9 4.  4.1 4.2 4.3 4.4 4.5 4.6 4.7 4.8 4.9]\n"
     ]
    },
    {
     "data": {
      "text/plain": [
       "array([[0. , 0.1, 0.2, 0.3, 0.4, 0.5, 0.6, 0.7, 0.8, 0.9, 1. , 1.1, 1.2,\n",
       "        1.3, 1.4, 1.5, 1.6, 1.7, 1.8, 1.9, 2. , 2.1, 2.2, 2.3, 2.4],\n",
       "       [2.5, 2.6, 2.7, 2.8, 2.9, 3. , 3.1, 3.2, 3.3, 3.4, 3.5, 3.6, 3.7,\n",
       "        3.8, 3.9, 4. , 4.1, 4.2, 4.3, 4.4, 4.5, 4.6, 4.7, 4.8, 4.9]])"
      ]
     },
     "execution_count": 37,
     "metadata": {},
     "output_type": "execute_result"
    }
   ],
   "source": [
    "import numpy as np\n",
    "a = np.arange(0,5,0.1)\n",
    "print(a)\n",
    "a.reshape(2,25)"
   ]
  },
  {
   "cell_type": "code",
   "execution_count": 39,
   "id": "a5e6a2f2",
   "metadata": {
    "scrolled": true
   },
   "outputs": [
    {
     "name": "stdout",
     "output_type": "stream",
     "text": [
      "[10 11 12 13 14 15 16 17 18 19 20 21 22 23 24 25 26 27 28 29 30 31 32 33\n",
      " 34 35 36 37 38 39 40 41 42 43 44 45 46 47 48 49]\n"
     ]
    },
    {
     "data": {
      "text/plain": [
       "array([[10, 11, 12, 13, 14, 15, 16, 17],\n",
       "       [18, 19, 20, 21, 22, 23, 24, 25],\n",
       "       [26, 27, 28, 29, 30, 31, 32, 33],\n",
       "       [34, 35, 36, 37, 38, 39, 40, 41],\n",
       "       [42, 43, 44, 45, 46, 47, 48, 49]])"
      ]
     },
     "execution_count": 39,
     "metadata": {},
     "output_type": "execute_result"
    }
   ],
   "source": [
    "z = np.arange(10,50)\n",
    "print(z)\n",
    "z.reshape(5,8)"
   ]
  },
  {
   "cell_type": "code",
   "execution_count": 54,
   "id": "caf3ad9b",
   "metadata": {},
   "outputs": [
    {
     "data": {
      "text/plain": [
       "25.0"
      ]
     },
     "execution_count": 54,
     "metadata": {},
     "output_type": "execute_result"
    }
   ],
   "source": [
    "a =([10,20,30])\n",
    "np.mean(a)\n",
    "np.average(a,weights =[1,1,1])#mean값과 동일\n",
    "np.average(a, weights = [1,1,0])#3번째인덱스 가중치가 0이므로 15가 나옴\n",
    "np.average(a, weights = [0,1,1]) #1번째 인덱스 가중치가 0이므로 25가 나옴"
   ]
  },
  {
   "cell_type": "code",
   "execution_count": 64,
   "id": "e7491230",
   "metadata": {},
   "outputs": [
    {
     "data": {
      "text/plain": [
       "array([ 0,  2,  4,  6,  8, 10, 12, 14, 16, 18, 20, 22, 24, 26, 28])"
      ]
     },
     "execution_count": 64,
     "metadata": {},
     "output_type": "execute_result"
    }
   ],
   "source": [
    "x = np.arange(0,30,2)\n",
    "x"
   ]
  },
  {
   "cell_type": "code",
   "execution_count": 69,
   "id": "d8fccfcc",
   "metadata": {},
   "outputs": [
    {
     "name": "stdout",
     "output_type": "stream",
     "text": [
      "6\n",
      "[ 0  2  4  8 10 12 14 16 18 20 22 24 26 28]\n"
     ]
    }
   ],
   "source": [
    "# 인텍스3번 출력\n",
    "print(x[3])\n",
    "# 6을 제외한 나머지 요소출력\n",
    "print(x[x != 6])"
   ]
  },
  {
   "cell_type": "code",
   "execution_count": 3,
   "id": "b6236950",
   "metadata": {
    "scrolled": false
   },
   "outputs": [
    {
     "name": "stdout",
     "output_type": "stream",
     "text": [
      "11\n",
      "[11 12 13]\n",
      "(3, 2)\n",
      "[[ 1 11]\n",
      " [ 2 12]\n",
      " [ 3 13]]\n",
      "[11 12 13]\n"
     ]
    },
    {
     "data": {
      "text/plain": [
       "array([[ 1, 11],\n",
       "       [ 2, 12],\n",
       "       [ 3, 13]])"
      ]
     },
     "execution_count": 3,
     "metadata": {},
     "output_type": "execute_result"
    }
   ],
   "source": [
    "import numpy as np\n",
    "\n",
    "lst = [[1,11],[2,12],[3,13]]\n",
    "print(lst[0][1])\n",
    "#print(lst[:,1])#모든원소들의 두번째 항목만 출력할 수가 없음 -->오류발생\n",
    "ary = np.array(lst)\n",
    "print(ary[:,1]) \n",
    "print(ary.shape)\n",
    "\n",
    "print(ary)\n",
    "print(ary[:3,1])\n",
    "ary[:3:1]"
   ]
  },
  {
   "cell_type": "code",
   "execution_count": 82,
   "id": "e3a8001d",
   "metadata": {},
   "outputs": [
    {
     "data": {
      "text/plain": [
       "array([1.41421356, 1.73205081, 2.        ])"
      ]
     },
     "execution_count": 82,
     "metadata": {},
     "output_type": "execute_result"
    }
   ],
   "source": [
    "import math\n",
    "np.sqrt([2,3,4])# list형식은 안됨  -->math.sqrt([2,3,4]) X\n",
    "#np.sqrt(ary[:,1])"
   ]
  },
  {
   "cell_type": "code",
   "execution_count": 83,
   "id": "286045af",
   "metadata": {
    "scrolled": true
   },
   "outputs": [
    {
     "name": "stdout",
     "output_type": "stream",
     "text": [
      "[[ 1 11]\n",
      " [ 2 12]\n",
      " [ 3 13]]\n",
      "[[ 1  2  3]\n",
      " [11 12 13]]\n"
     ]
    }
   ],
   "source": [
    "#행과열 변환(tranpose())\n",
    "print(ary)\n",
    "print(ary.transpose())"
   ]
  },
  {
   "cell_type": "code",
   "execution_count": 68,
   "id": "2e070354",
   "metadata": {
    "scrolled": false
   },
   "outputs": [
    {
     "name": "stdout",
     "output_type": "stream",
     "text": [
      "[ 0  2  4  6  8 10 12 14 16 18 20 22 24 26 28]\n"
     ]
    },
    {
     "data": {
      "text/plain": [
       "array([ 2,  4,  6,  8, 10, 12, 14, 16, 18, 20, 22, 24, 26, 28])"
      ]
     },
     "execution_count": 68,
     "metadata": {},
     "output_type": "execute_result"
    }
   ],
   "source": [
    "z =np.array(range(0,30,2))        \n",
    "print(z)\n",
    "# 리스트컴프리헨션으로 작성\n",
    "y=np.array([i for i in range(0,30) if i%2 == 0 ])\n",
    "type(z)\n",
    "y"
   ]
  },
  {
   "cell_type": "code",
   "execution_count": 70,
   "id": "c2aaebce",
   "metadata": {
    "scrolled": true
   },
   "outputs": [
    {
     "name": "stdout",
     "output_type": "stream",
     "text": [
      "<class 'numpy.ndarray'>\n",
      "[0 1 2 3 4 5]\n",
      "[[0 1 2 3 4 5]]\n"
     ]
    },
    {
     "data": {
      "text/plain": [
       "((6,), (1, 6))"
      ]
     },
     "execution_count": 70,
     "metadata": {},
     "output_type": "execute_result"
    }
   ],
   "source": [
    "a = np.arange(6)\n",
    "a3 = np.array([i for i in range(6)])#list 컴프리헨션을 통해 리스트를 만든후 array로 변경\n",
    "print(type(a3))\n",
    "print(a3)\n",
    "a2 = a[np.newaxis,:]\n",
    "print(a2)\n",
    "a.shape,a2.shape\n"
   ]
  },
  {
   "cell_type": "code",
   "execution_count": 71,
   "id": "2be87b6e",
   "metadata": {
    "scrolled": true
   },
   "outputs": [
    {
     "name": "stdout",
     "output_type": "stream",
     "text": [
      "[1 2 3 4 5 6 7 8]\n",
      "['1' '2' '3' '가' '5' '6' '7' '8']\n",
      "int32\n",
      "<U11\n"
     ]
    }
   ],
   "source": [
    "ar1 = np.array([1,2,3,4,5,6,7,8])\n",
    "ar2 = np.array([1,2,3,'가',5,6,7,8])# numpy의 요소는 동종이어야 한다. \n",
    "print(ar1)\n",
    "print(ar2)\n",
    "print(ar1.dtype)\n",
    "print(ar2.dtype)\n"
   ]
  },
  {
   "cell_type": "code",
   "execution_count": 80,
   "id": "abf25cc2",
   "metadata": {
    "scrolled": true
   },
   "outputs": [
    {
     "name": "stdout",
     "output_type": "stream",
     "text": [
      "2.0\n",
      "()\n",
      "4.5\n",
      "3 ['1' '2' '3' '가' '5' '6' '7' '8']\n"
     ]
    }
   ],
   "source": [
    "import numpy as np\n",
    "ar = np.array([1,2,3,4,5,6,7,8])\n",
    "ar1= np.array([1,2,5,6,7,8])\n",
    "ar2 = np.array([1,2,3,'가',5,6,7,8]) # array는 int,float,문자열,불형 모두 가능하지만 데이터타입은 같아야 한다.\n",
    "print(ar[1].mean())\n",
    "print(ar[2].shape)\n",
    "print(ar.mean())\n",
    "print(ar[2])"
   ]
  },
  {
   "cell_type": "code",
   "execution_count": 85,
   "id": "9cf3b869",
   "metadata": {},
   "outputs": [
    {
     "name": "stdout",
     "output_type": "stream",
     "text": [
      "[1 3]\n",
      "<class 'numpy.ndarray'>\n",
      "[0 1 2 3 4 5 6 7]\n",
      "[  1 100]\n",
      "<class 'numpy.ndarray'>\n",
      "<class 'numpy.ndarray'>\n"
     ]
    }
   ],
   "source": [
    "ar2= np.array([0, 1, 2, 3, 4, 5, 6, 7])\n",
    "print(ar2[1:5:2])\n",
    "ar3= np.array(ar2[1:5:2])#list형식인 ar2[1:5:2]로 해도 array로 바뀜\n",
    "print(type(ar3))\n",
    "ar3[1] = 100\n",
    "print(ar2)\n",
    "print(ar3)\n",
    "print(type(ar3))\n",
    "print(type(ar2))"
   ]
  },
  {
   "cell_type": "code",
   "execution_count": null,
   "id": "c39d6996",
   "metadata": {},
   "outputs": [],
   "source": [
    "ar5= np.array([0, 1, 2, 100, 4, 5, 6, 7])\n",
    "i = [2,3,5]\n",
    "ar6 = ar5[i]\n",
    "print(ar6)\n",
    "type(ar6)"
   ]
  },
  {
   "cell_type": "code",
   "execution_count": 72,
   "id": "4ee0d325",
   "metadata": {},
   "outputs": [
    {
     "name": "stdout",
     "output_type": "stream",
     "text": [
      "[[10 20]\n",
      " [30 40]]\n",
      "[[10 40]\n",
      " [30 80]]\n"
     ]
    }
   ],
   "source": [
    "import numpy as np\n",
    "#브로드캐스트는 배열의 size에 맞추어 계산이 가능토록 해주는 기능이다\n",
    "# 행렬과 스칼라 연산\n",
    "A = np.array([[1,2],[3,4]])\n",
    "print(A*10) #[[10 20], [30 40]]\n",
    "\n",
    "# 크기가 다른 행렬 간 연산\n",
    "C = np.array([[1,2],[3,4]])\n",
    "D = np.array([10,20])\n",
    "print(C*D)  # [[10 40], [30 80]]"
   ]
  },
  {
   "cell_type": "code",
   "execution_count": 84,
   "id": "db2696a9",
   "metadata": {
    "scrolled": true
   },
   "outputs": [
    {
     "name": "stdout",
     "output_type": "stream",
     "text": [
      "[2 3 4 5 6 7 8 9]\n",
      "[[2 3 4 5]\n",
      " [6 7 8 9]]\n",
      "[[ 2  4  6  8 10 12 14 16]]\n",
      "2\n",
      "<class 'numpy.ndarray'>\n"
     ]
    },
    {
     "data": {
      "text/plain": [
       "array([-1,  0,  1,  2,  3,  4,  5,  6])"
      ]
     },
     "execution_count": 84,
     "metadata": {},
     "output_type": "execute_result"
    }
   ],
   "source": [
    "ar = np.arange(2,10)\n",
    "print(ar)\n",
    "ar1=ar.reshape(2,4)\n",
    "print(ar1)\n",
    "ar2= [0, 1, 2, 3, 4, 5, 6, 7]\n",
    "ar + np.array(ar2).reshape(8)\n",
    "print(ar1.reshape(1,8) +ar2)# np.array(ar2).reshape(4,2))\n",
    "print(ar[ar2[0]])\n",
    "ar3 = np.array(ar2)-1\n",
    "print(type(ar3))\n",
    "ar3\n"
   ]
  },
  {
   "cell_type": "code",
   "execution_count": 77,
   "id": "b1d65fae",
   "metadata": {
    "scrolled": true
   },
   "outputs": [
    {
     "name": "stdout",
     "output_type": "stream",
     "text": [
      "[51 55]\n",
      "55\n",
      "\n",
      "[[51 55]\n",
      " [14 19]\n",
      " [ 0  4]]\n",
      "========\n",
      "[51 55]\n",
      "[14 19]\n",
      "[0 4]\n"
     ]
    }
   ],
   "source": [
    "# 원소 접근\n",
    "Y = np.array([[51, 55], [14, 19], [0, 4]])\n",
    "print(Y[0]) # [51 55]\n",
    "print(Y[0][1])  # 55\n",
    "print()\n",
    "print(Y)\n",
    "print('========')\n",
    "for row in Y: \n",
    "    print(row)"
   ]
  },
  {
   "cell_type": "code",
   "execution_count": 78,
   "id": "dac99867",
   "metadata": {
    "scrolled": true
   },
   "outputs": [
    {
     "name": "stdout",
     "output_type": "stream",
     "text": [
      "[51 14  0]\n",
      "[ True  True False  True False False]\n",
      "[51 55 19]\n"
     ]
    }
   ],
   "source": [
    "# Numpy만의 특이한 원소 접근법(인덱스를 배열로 지정해 여러 개 접근) ---> array 마스크\n",
    "Y = Y.flatten()# 1차원 배열로 평탄화 [51 55 14 19 0 4]\n",
    "print(Y[[0,2,4]])   # 인덱스가 0,2,4인 원소에 접근\n",
    "print(Y>15) # [True True False True False False]\n",
    "print(Y[Y>15])"
   ]
  },
  {
   "cell_type": "markdown",
   "id": "3a97ad9a",
   "metadata": {},
   "source": [
    "#### linspace"
   ]
  },
  {
   "cell_type": "code",
   "execution_count": null,
   "id": "cd89591a",
   "metadata": {},
   "outputs": [],
   "source": [
    "import numpy as np\n",
    "a = np.linspace(1,11,4)\n",
    "a"
   ]
  },
  {
   "cell_type": "code",
   "execution_count": 86,
   "id": "38b03b79",
   "metadata": {
    "scrolled": false
   },
   "outputs": [
    {
     "name": "stdout",
     "output_type": "stream",
     "text": [
      "(array([ 1.,  3.,  5.,  7.,  9., 11.]), 2.0)\n"
     ]
    }
   ],
   "source": [
    "a = np.linspace(1,11,6,retstep=True) #retstep -> 간격표시\n",
    "print(a)"
   ]
  },
  {
   "cell_type": "markdown",
   "id": "0f08cae3",
   "metadata": {},
   "source": [
    "#### logspace"
   ]
  },
  {
   "cell_type": "code",
   "execution_count": 89,
   "id": "9a886748",
   "metadata": {},
   "outputs": [
    {
     "name": "stdout",
     "output_type": "stream",
     "text": [
      "[ 10.          17.7827941   31.6227766   56.23413252 100.        ]\n",
      "[ 10.          17.7827941   31.6227766   56.23413252 100.        ]\n"
     ]
    },
    {
     "data": {
      "text/plain": [
       "array([[array([1.e+01, 1.e+03, 1.e+05, 1.e+07, 1.e+09, 1.e+11]), 100.0],\n",
       "       [array([1.00000000e+01, 9.10298178e+02, 8.28642773e+04, 7.54312006e+06,\n",
       "               6.86648845e+08, 6.25055193e+10])                               ,\n",
       "        95.40954763499938],\n",
       "       [array([1.00000000e+01, 8.28642773e+02, 6.86648845e+04, 5.68986603e+06,\n",
       "               4.71486636e+08, 3.90693994e+10])                               ,\n",
       "        91.02981779915217],\n",
       "       [array([1.00000000e+01, 7.54312006e+02, 5.68986603e+04, 4.29193426e+06,\n",
       "               3.23745754e+08, 2.44205309e+10])                               ,\n",
       "        86.85113737513525],\n",
       "       [array([1.00000000e+01, 6.86648845e+02, 4.71486636e+04, 3.23745754e+06,\n",
       "               2.22299648e+08, 1.52641797e+10])                               ,\n",
       "        82.86427728546842],\n",
       "       [array([1.00000000e+01, 6.25055193e+02, 3.90693994e+04, 2.44205309e+06,\n",
       "               1.52641797e+08, 9.54095476e+09])                               ,\n",
       "        79.06043210907701],\n",
       "       [array([1.00000000e+01, 5.68986603e+02, 3.23745754e+04, 1.84206997e+06,\n",
       "               1.04811313e+08, 5.96362332e+09])                               ,\n",
       "        75.43120063354618],\n",
       "       [array([1.00000000e+01, 5.17947468e+02, 2.68269580e+04, 1.38949549e+06,\n",
       "               7.19685673e+07, 3.72759372e+09])                               ,\n",
       "        71.96856730011521],\n",
       "       [array([1.00000000e+01, 4.71486636e+02, 2.22299648e+04, 1.04811313e+06,\n",
       "               4.94171336e+07, 2.32995181e+09])                               ,\n",
       "        68.66488450043002],\n",
       "       [array([1.00000000e+01, 4.29193426e+02, 1.84206997e+04, 7.90604321e+05,\n",
       "               3.39322177e+07, 1.45634848e+09])                               ,\n",
       "        65.51285568595509],\n",
       "       [array([1.00000000e+01, 3.90693994e+02, 1.52641797e+04, 5.96362332e+05,\n",
       "               2.32995181e+07, 9.10298178e+08])                               ,\n",
       "        62.50551925273973],\n",
       "       [array([1.00000000e+01, 3.55648031e+02, 1.26485522e+04, 4.49843267e+05,\n",
       "               1.59985872e+07, 5.68986603e+08])                               ,\n",
       "        59.63623316594643],\n",
       "       [array([1.00000000e+01, 3.23745754e+02, 1.04811313e+04, 3.39322177e+05,\n",
       "               1.09854114e+07, 3.55648031e+08])                               ,\n",
       "        56.89866029018296],\n",
       "       [array([1.00000000e+01, 2.94705170e+02, 8.68511374e+03, 2.55954792e+05,\n",
       "               7.54312006e+06, 2.22299648e+08])                               ,\n",
       "        54.286754393238596],\n",
       "       [array([1.00000000e+01, 2.68269580e+02, 7.19685673e+03, 1.93069773e+05,\n",
       "               5.17947468e+06, 1.38949549e+08])                               ,\n",
       "        51.794746792312125],\n",
       "       [array([1.00000000e+01, 2.44205309e+02, 5.96362332e+03, 1.45634848e+05,\n",
       "               3.55648031e+06, 8.68511374e+07])                               ,\n",
       "        49.417133613238356],\n",
       "       [array([1.00000000e+01, 2.22299648e+02, 4.94171336e+03, 1.09854114e+05,\n",
       "               2.44205309e+06, 5.42867544e+07])                               ,\n",
       "        47.14866363457394],\n",
       "       [array([1.00000000e+01, 2.02358965e+02, 4.09491506e+03, 8.28642773e+04,\n",
       "               1.67683294e+06, 3.39322177e+07])                               ,\n",
       "        44.98432668969446],\n",
       "       [array([1.00000000e+01, 1.84206997e+02, 3.39322177e+03, 6.25055193e+04,\n",
       "               1.15139540e+06, 2.12095089e+07])                               ,\n",
       "        42.91934260128778],\n",
       "       [array([1.00000000e+01, 1.67683294e+02, 2.81176870e+03, 4.71486636e+04,\n",
       "               7.90604321e+05, 1.32571137e+07])                               ,\n",
       "        40.94915062380425],\n",
       "       [array([1.00000000e+01, 1.52641797e+02, 2.32995181e+03, 3.55648031e+04,\n",
       "               5.42867544e+05, 8.28642773e+06])                               ,\n",
       "        39.06939937054617],\n",
       "       [array([1.00000000e+01, 1.38949549e+02, 1.93069773e+03, 2.68269580e+04,\n",
       "               3.72759372e+05, 5.17947468e+06])                               ,\n",
       "        37.2759372031494],\n",
       "       [array([1.00000000e+01, 1.26485522e+02, 1.59985872e+03, 2.02358965e+04,\n",
       "               2.55954792e+05, 3.23745754e+06])                               ,\n",
       "        35.564803062231285],\n",
       "       [array([1.00000000e+01, 1.15139540e+02, 1.32571137e+03, 1.52641797e+04,\n",
       "               1.75751062e+05, 2.02358965e+06])                               ,\n",
       "        33.9322177189533],\n",
       "       [array([1.00000000e+01, 1.04811313e+02, 1.09854114e+03, 1.15139540e+04,\n",
       "               1.20679264e+05, 1.26485522e+06])                               ,\n",
       "        32.374575428176435],\n",
       "       [array([1.00000000e+01, 9.54095476e+01, 9.10298178e+02, 8.68511374e+03,\n",
       "               8.28642773e+04, 7.90604321e+05])                               ,\n",
       "        30.888435964774818],\n",
       "       [array([1.00000000e+01, 8.68511374e+01, 7.54312006e+02, 6.55128557e+03,\n",
       "               5.68986603e+04, 4.94171336e+05])                               ,\n",
       "        29.470517025518113],\n",
       "       [array([1.00000000e+01, 7.90604321e+01, 6.25055193e+02, 4.94171336e+03,\n",
       "               3.90693994e+04, 3.08884360e+05])                               ,\n",
       "        28.11768697974231],\n",
       "       [array([1.00000000e+01, 7.19685673e+01, 5.17947468e+02, 3.72759372e+03,\n",
       "               2.68269580e+04, 1.93069773e+05])                               ,\n",
       "        26.826957952797258],\n",
       "       [array([1.00000000e+01, 6.55128557e+01, 4.29193426e+02, 2.81176870e+03,\n",
       "               1.84206997e+04, 1.20679264e+05])                               ,\n",
       "        25.59547922699536],\n",
       "       [array([1.00000000e+01, 5.96362332e+01, 3.55648031e+02, 2.12095089e+03,\n",
       "               1.26485522e+04, 7.54312006e+04])                               ,\n",
       "        24.420530945486522],\n",
       "       [array([1.00000000e+01, 5.42867544e+01, 2.94705170e+02, 1.59985872e+03,\n",
       "               8.68511374e+03, 4.71486636e+04])                               ,\n",
       "        23.29951810515372],\n",
       "       [array([1.00000000e+01, 4.94171336e+01, 2.44205309e+02, 1.20679264e+03,\n",
       "               5.96362332e+03, 2.94705170e+04])                               ,\n",
       "        22.229964825261955],\n",
       "       [array([1.00000000e+01, 4.49843267e+01, 2.02358965e+02, 9.10298178e+02,\n",
       "               4.09491506e+03, 1.84206997e+04])                               ,\n",
       "        21.209508879201906],\n",
       "       [array([1.00000000e+01, 4.09491506e+01, 1.67683294e+02, 6.86648845e+02,\n",
       "               2.81176870e+03, 1.15139540e+04])                               ,\n",
       "        20.235896477251575],\n",
       "       [array([  10.        ,   37.2759372 ,  138.94954944,  517.94746792,\n",
       "               1930.69772888, 7196.85673001])                             ,\n",
       "        19.306977288832506],\n",
       "       [array([  10.        ,   33.93221772,  115.13953993,  390.69399371,\n",
       "               1325.71136559, 4498.43266897])                             ,\n",
       "        18.420699693267164],\n",
       "       [array([  10.        ,   30.88843596,   95.40954763,  294.70517026,\n",
       "                910.29817799, 2811.76869797])                             ,\n",
       "        17.57510624854792],\n",
       "       [array([  10.        ,   28.11768698,   79.06043211,  222.29964825,\n",
       "                625.05519253, 1757.51062485])                             ,\n",
       "        16.768329368110084],\n",
       "       [array([  10.        ,   25.59547923,   65.51285569,  167.68329368,\n",
       "                429.19342601, 1098.54114199])                             ,\n",
       "        15.99858719606059],\n",
       "       [array([ 10.        ,  23.29951811,  54.28675439, 126.48552169,\n",
       "               294.70517026, 686.648845  ])                           ,\n",
       "        15.264179671752334],\n",
       "       [array([ 10.        ,  21.20950888,  44.98432669,  95.40954763,\n",
       "               202.35896477, 429.19342601])                           ,\n",
       "        14.563484775012444],\n",
       "       [array([ 10.        ,  19.30697729,  37.2759372 ,  71.9685673 ,\n",
       "               138.94954944, 268.26957953])                           ,\n",
       "        13.894954943731374],\n",
       "       [array([ 10.        ,  17.57510625,  30.88843596,  54.28675439,\n",
       "                95.40954763, 167.68329368])                           ,\n",
       "        13.257113655901096],\n",
       "       [array([ 10.        ,  15.9985872 ,  25.59547923,  40.94915062,\n",
       "                65.51285569, 104.81131342])                           ,\n",
       "        12.648552168552964],\n",
       "       [array([10.        , 14.56348478, 21.20950888, 30.88843596, 44.98432669,\n",
       "               65.51285569])                                                   ,\n",
       "        12.067926406393289],\n",
       "       [array([10.        , 13.25711366, 17.57510625, 23.29951811, 30.88843596,\n",
       "               40.94915062])                                                   ,\n",
       "        11.513953993264476],\n",
       "       [array([10.        , 12.06792641, 14.56348478, 17.57510625, 21.20950888,\n",
       "               25.59547923])                                                   ,\n",
       "        10.985411419875584],\n",
       "       [array([10.        , 10.98541142, 12.06792641, 13.25711366, 14.56348478,\n",
       "               15.9985872 ])                                                   ,\n",
       "        10.481131341546858],\n",
       "       [10.0, 10.0]], dtype=object)"
      ]
     },
     "execution_count": 89,
     "metadata": {},
     "output_type": "execute_result"
    }
   ],
   "source": [
    "print(np.logspace(np.log10(10),np.log10(100),5))\n",
    "print(np.logspace(1,2,5))\n",
    "b=np.logspace(a,1,dtype = 'object')\n",
    "b"
   ]
  },
  {
   "cell_type": "markdown",
   "id": "4a01b11b",
   "metadata": {},
   "source": [
    "#### random 모튤"
   ]
  },
  {
   "cell_type": "code",
   "execution_count": 57,
   "id": "6e82e1c8",
   "metadata": {
    "scrolled": true
   },
   "outputs": [
    {
     "data": {
      "text/plain": [
       "array([[6.80328658e-01, 7.45438319e-01, 3.27874771e-01],\n",
       "       [2.66374829e-01, 8.12147155e-01, 3.43419997e-05],\n",
       "       [8.70991439e-01, 4.00917496e-01, 4.99146814e-01],\n",
       "       [9.36738186e-01, 5.38592456e-01, 4.70604727e-01],\n",
       "       [6.98861833e-01, 4.08337832e-01, 5.88128107e-01],\n",
       "       [7.37244082e-01, 1.34689585e-01, 6.90026724e-01],\n",
       "       [3.14523324e-01, 2.74227106e-01, 4.64712829e-01],\n",
       "       [1.98338133e-01, 9.27972170e-01, 9.22078306e-01],\n",
       "       [6.39814741e-01, 3.60039352e-01, 4.81766357e-01],\n",
       "       [5.18514744e-01, 6.41738327e-02, 1.88601220e-01]])"
      ]
     },
     "execution_count": 57,
     "metadata": {},
     "output_type": "execute_result"
    }
   ],
   "source": [
    "z =  np.random.random((10,3))\n",
    "z"
   ]
  },
  {
   "cell_type": "code",
   "execution_count": 52,
   "id": "800b883f",
   "metadata": {
    "scrolled": true
   },
   "outputs": [
    {
     "name": "stdout",
     "output_type": "stream",
     "text": [
      "[[[0.71788556 0.59199128 0.27072234]\n",
      "  [0.408309   0.77563796 0.46557769]\n",
      "  [0.40393178 0.85453004 0.99509665]]\n",
      "\n",
      " [[0.42017625 0.63419379 0.91129542]\n",
      "  [0.15447052 0.29119198 0.64726002]\n",
      "  [0.17837043 0.28010324 0.93620295]]\n",
      "\n",
      " [[0.31489248 0.09605871 0.49933   ]\n",
      "  [0.07601921 0.25097841 0.95517195]\n",
      "  [0.84152776 0.1487307  0.24619847]]]\n"
     ]
    },
    {
     "data": {
      "text/plain": [
       "array([[[ 0.72911292, -0.72650848,  0.21902032],\n",
       "        [ 2.09159033,  0.01619331,  0.19114816],\n",
       "        [-0.91473036, -0.62188709,  1.3898572 ]],\n",
       "\n",
       "       [[-0.39059281,  0.38514536,  0.80579289],\n",
       "        [-0.62384756,  1.05109679,  0.68784658],\n",
       "        [ 0.54970094, -0.90167517,  0.09357436]],\n",
       "\n",
       "       [[-1.95610934,  0.05102242,  0.07614142],\n",
       "        [-0.47348933,  0.30299574, -1.46098607],\n",
       "        [-0.76086474, -1.52844096,  0.02847681]]])"
      ]
     },
     "execution_count": 52,
     "metadata": {},
     "output_type": "execute_result"
    }
   ],
   "source": [
    "z =  np.random.random((3,3,3))\n",
    "print(z)"
   ]
  },
  {
   "cell_type": "code",
   "execution_count": 90,
   "id": "7339d5b0",
   "metadata": {},
   "outputs": [
    {
     "name": "stdout",
     "output_type": "stream",
     "text": [
      "[0.0871293  0.0202184  0.83261985 0.77815675 0.87001215 0.97861834\n",
      " 0.79915856 0.46147936 0.78052918 0.11827443]\n",
      "[0.5488135  0.71518937 0.60276338 0.54488318 0.4236548 ]\n",
      "[0.64589411 0.43758721 0.891773   0.96366276 0.38344152 0.79172504\n",
      " 0.52889492 0.56804456 0.92559664 0.07103606]\n",
      "[0.0871293  0.0202184  0.83261985 0.77815675 0.87001215 0.97861834\n",
      " 0.79915856 0.46147936 0.78052918 0.11827443]\n"
     ]
    },
    {
     "data": {
      "text/plain": [
       "0"
      ]
     },
     "execution_count": 90,
     "metadata": {},
     "output_type": "execute_result"
    }
   ],
   "source": [
    "np.random.seed(0)\n",
    "np.random.rand(5)\n",
    "np.random.rand(10)\n",
    "print(np.random.rand(10))\n",
    "np.random.seed(0)  #seed를 0으로 재설정하면 출력값이 같아진다.\n",
    "print(np.random.rand(5))\n",
    "print(np.random.rand(10))\n",
    "print(np.random.rand(10))\n",
    "np.random.randint(3)"
   ]
  },
  {
   "cell_type": "code",
   "execution_count": 3,
   "id": "65e01fc3",
   "metadata": {},
   "outputs": [
    {
     "data": {
      "text/plain": [
       "array([0.52326657, 0.68211771, 2.13612895, 1.79760032, 1.07611642])"
      ]
     },
     "execution_count": 3,
     "metadata": {},
     "output_type": "execute_result"
    }
   ],
   "source": [
    "import numpy as np\n",
    "np.random.randn(5) #randn -> 𝝁=0 ,𝜎=1인 표준정규분포 생성(음수가 나올수있음)\n"
   ]
  },
  {
   "cell_type": "code",
   "execution_count": 59,
   "id": "3a47e6db",
   "metadata": {
    "scrolled": false
   },
   "outputs": [
    {
     "data": {
      "text/plain": [
       "array([[[-1.38885814,  0.60986895,  0.2229859 ],\n",
       "        [-0.34176714, -0.18072772,  0.38107024],\n",
       "        [-0.52469122,  0.61107626,  1.25920381]],\n",
       "\n",
       "       [[ 1.27761165,  1.82800676,  0.28290635],\n",
       "        [ 0.48815797, -1.69481502, -0.22357477],\n",
       "        [-0.95828466,  1.19142528,  1.89767732]],\n",
       "\n",
       "       [[-0.37998792, -0.40948379, -0.56244755],\n",
       "        [-0.09637589, -0.86587181,  0.88710217],\n",
       "        [-0.30098153,  1.59747713,  0.81476359]]])"
      ]
     },
     "execution_count": 59,
     "metadata": {},
     "output_type": "execute_result"
    }
   ],
   "source": [
    "y = np.random.randn(3,3,3)\n",
    "y"
   ]
  },
  {
   "cell_type": "code",
   "execution_count": 53,
   "id": "cbfccf1c",
   "metadata": {
    "scrolled": true
   },
   "outputs": [
    {
     "data": {
      "text/plain": [
       "array([[[-0.54032486,  0.92623421],\n",
       "        [-0.86460167,  0.41518405],\n",
       "        [-0.11352985,  0.18827621],\n",
       "        [ 0.63799516,  1.42525503]],\n",
       "\n",
       "       [[ 1.22581893, -1.44893493],\n",
       "        [ 0.39223009, -1.14461541],\n",
       "        [ 0.18159135, -0.9864085 ],\n",
       "        [ 0.83258582,  0.65593445]],\n",
       "\n",
       "       [[-0.07145101, -1.12226045],\n",
       "        [-1.71896189, -1.51543235],\n",
       "        [-0.42260125,  0.44747369],\n",
       "        [ 0.79303865,  0.87954837]],\n",
       "\n",
       "       [[-1.06768349, -0.22817537],\n",
       "        [ 0.6967161 ,  0.37985966],\n",
       "        [-0.27860061, -1.42645018],\n",
       "        [ 1.59872081, -0.24593853]],\n",
       "\n",
       "       [[-1.79517019,  0.17654743],\n",
       "        [ 0.0620295 , -0.34455751],\n",
       "        [-0.27171243, -1.38537299],\n",
       "        [ 1.1380664 , -0.28557185]]])"
      ]
     },
     "execution_count": 53,
     "metadata": {},
     "output_type": "execute_result"
    }
   ],
   "source": [
    "np.random.randn(5, 4)"
   ]
  },
  {
   "cell_type": "code",
   "execution_count": 6,
   "id": "68bdb886",
   "metadata": {},
   "outputs": [
    {
     "data": {
      "text/plain": [
       "array([11.93432804, 11.02184731,  7.74261977, 11.13709339, 11.81446464])"
      ]
     },
     "execution_count": 6,
     "metadata": {},
     "output_type": "execute_result"
    }
   ],
   "source": [
    "m = 10 \n",
    "sigma = 2\n",
    "m + sigma*np.random.randn(5)"
   ]
  },
  {
   "cell_type": "code",
   "execution_count": 91,
   "id": "d761c5cf",
   "metadata": {},
   "outputs": [
    {
     "name": "stdout",
     "output_type": "stream",
     "text": [
      "[0.54340494 0.27836939 0.42451759 0.84477613 0.00471886 0.12156912\n",
      " 0.67074908 0.82585276 0.13670659 0.57509333 0.89132195 0.20920212\n",
      " 0.18532822 0.10837689 0.21969749 0.97862378 0.81168315 0.17194101\n",
      " 0.81622475 0.27407375 0.43170418 0.94002982 0.81764938 0.33611195\n",
      " 0.17541045 0.37283205 0.00568851 0.25242635 0.79566251 0.01525497\n",
      " 0.59884338 0.60380454 0.10514769 0.38194344 0.03647606 0.89041156\n",
      " 0.98092086 0.05994199 0.89054594 0.5769015  0.74247969 0.63018394\n",
      " 0.58184219 0.02043913 0.21002658 0.54468488 0.76911517 0.25069523\n",
      " 0.28589569 0.85239509 0.97500649 0.88485329 0.35950784 0.59885895\n",
      " 0.35479561 0.34019022 0.17808099 0.23769421 0.04486228 0.50543143\n",
      " 0.37625245 0.5928054  0.62994188 0.14260031 0.9338413  0.94637988\n",
      " 0.60229666 0.38776628 0.363188   0.20434528 0.27676506 0.24653588\n",
      " 0.173608   0.96660969 0.9570126  0.59797368 0.73130075 0.34038522\n",
      " 0.0920556  0.46349802 0.50869889 0.08846017 0.52803522 0.99215804\n",
      " 0.39503593 0.33559644 0.80545054 0.75434899 0.31306644 0.63403668\n",
      " 0.54040458 0.29679375 0.1107879  0.3126403  0.45697913 0.65894007\n",
      " 0.25425752 0.64110126 0.20012361 0.65762481]\n",
      "==================================\n",
      "[[0.77828922 0.7795984  0.61032815]\n",
      " [0.30900035 0.69773491 0.8596183 ]\n",
      " [0.62532376 0.98240783 0.97650013]\n",
      " [0.16669413 0.02317814 0.16074455]\n",
      " [0.92349683 0.95354985 0.21097842]]\n"
     ]
    },
    {
     "data": {
      "text/plain": [
       "[<matplotlib.lines.Line2D at 0x26a1320b0d0>,\n",
       " <matplotlib.lines.Line2D at 0x26a1320afb0>,\n",
       " <matplotlib.lines.Line2D at 0x26a1320afe0>]"
      ]
     },
     "execution_count": 91,
     "metadata": {},
     "output_type": "execute_result"
    },
    {
     "data": {
      "image/png": "[encoded data removed]",
      "text/plain": [
       "<Figure size 640x480 with 1 Axes>"
      ]
     },
     "metadata": {},
     "output_type": "display_data"
    }
   ],
   "source": [
    "import matplotlib.pyplot as plt\n",
    "import numpy as np\n",
    "np.random.seed(100)\n",
    "nor = np.random.rand(100)  #rand는 0~1사이의 값을 생성한다\n",
    "print(nor)\n",
    "print(\"==================================\")\n",
    "nor2 = np.random.rand(5,3)\n",
    "print(nor2)\n",
    "plt.plot(nor2)\n"
   ]
  },
  {
   "cell_type": "code",
   "execution_count": 94,
   "id": "680be4ea",
   "metadata": {
    "scrolled": true
   },
   "outputs": [
    {
     "name": "stdout",
     "output_type": "stream",
     "text": [
      "[[ 6.50046905 10.68536081 12.30607161]\n",
      " [ 9.49512793 11.96264157 11.02843768]\n",
      " [10.44235934  7.85991334  9.62100834]\n",
      " [10.51000289  9.08394603 10.87032698]\n",
      " [ 8.8328099  11.63369414 11.34544161]]\n"
     ]
    },
    {
     "data": {
      "text/plain": [
       "(array([[1., 0., 0., 0., 1., 1., 2., 0., 0., 0.],\n",
       "        [0., 0., 1., 0., 1., 0., 0., 1., 1., 1.],\n",
       "        [0., 0., 0., 0., 0., 1., 0., 2., 1., 1.]]),\n",
       " array([-1.74976547, -1.45948535, -1.16920522, -0.87892509, -0.58864496,\n",
       "        -0.29836484, -0.00808471,  0.28219542,  0.57247555,  0.86275568,\n",
       "         1.1530358 ]),\n",
       " <a list of 3 BarContainer objects>)"
      ]
     },
     "execution_count": 94,
     "metadata": {},
     "output_type": "execute_result"
    },
    {
     "data": {
      "image/png": "[encoded data removed]",
      "text/plain": [
       "<Figure size 640x480 with 1 Axes>"
      ]
     },
     "metadata": {},
     "output_type": "display_data"
    }
   ],
   "source": [
    "import numpy as np\n",
    "np.random.seed(100)\n",
    "norn3 = np.random.randn(5,3) \n",
    "m = 10 ; sigma = 2 \n",
    "nurn_sigma = m+sigma*norn3\n",
    "print(nurn_sigma)\n",
    "plt.hist(norn3)"
   ]
  },
  {
   "cell_type": "code",
   "execution_count": 95,
   "id": "ac11dac6",
   "metadata": {
    "scrolled": false
   },
   "outputs": [
    {
     "data": {
      "image/png": "[encoded data removed]",
      "text/plain": [
       "<Figure size 1500x1000 with 1 Axes>"
      ]
     },
     "metadata": {},
     "output_type": "display_data"
    }
   ],
   "source": [
    "import numpy as np\n",
    "import matplotlib.pyplot as plt\n",
    "m = 10 ; sigma = 1\n",
    "#np.random.seed(100)\n",
    "x1 = np.random.randn(10000)\n",
    "x2 = m+sigma*np.random.randn(10000)\n",
    "plt.figure(figsize=(15,10))\n",
    "plt.hist(x1,bins = 20,alpha = 0.4,label='x1')\n",
    "plt.hist(x2,bins = 20,alpha = 0.4,label='x2')\n",
    "plt.legend(loc=\"upper right\",fontsize=25)\n",
    "plt\n",
    "plt.show()"
   ]
  },
  {
   "cell_type": "code",
   "execution_count": 97,
   "id": "c42922a4",
   "metadata": {},
   "outputs": [
    {
     "data": {
      "text/plain": [
       "array([0.63696169, 0.26978671, 0.04097352])"
      ]
     },
     "execution_count": 97,
     "metadata": {},
     "output_type": "execute_result"
    }
   ],
   "source": [
    "rng1 = np.random.default_rng(0) # rng->random generator , (0)은 seed값\n",
    "rng1.random(3)"
   ]
  },
  {
   "cell_type": "code",
   "execution_count": 96,
   "id": "8b7d6c9c",
   "metadata": {
    "scrolled": true
   },
   "outputs": [
    {
     "data": {
      "image/png": "[encoded data removed]",
      "text/plain": [
       "<Figure size 1000x500 with 1 Axes>"
      ]
     },
     "metadata": {},
     "output_type": "display_data"
    }
   ],
   "source": [
    "rng = np.random.default_rng(0)\n",
    "rng.random(3)\n",
    "rn = rng.standard_normal(2000)\n",
    "rn2 = np.random.randn((2000))\n",
    "# plt.hist(rn)\n",
    "plt.figure(figsize=(10,5))\n",
    "plt.hist(rn,bins = 200,alpha = 0.4,label='x1')\n",
    "plt.hist(rn2,bins = 200,alpha = 0.8,label='x2')\n",
    "plt.legend(loc=\"upper left\",fontsize=10)\n",
    "plt.title(\"standard-normal\",fontsize = 50)\n",
    "plt.show()\n",
    "\n",
    "# plt.hist(rn2)\n",
    "# rn3= np.random.standard_normal(2000)\n",
    "# plt.hist(rn3)"
   ]
  },
  {
   "cell_type": "code",
   "execution_count": 99,
   "id": "17e5695e",
   "metadata": {
    "scrolled": true
   },
   "outputs": [
    {
     "data": {
      "text/plain": [
       "(array([  3.,  34.,  79., 164., 247., 206., 146.,  83.,  31.,   7.]),\n",
       " array([-3.01145008, -2.41304764, -1.8146452 , -1.21624276, -0.61784033,\n",
       "        -0.01943789,  0.57896455,  1.17736698,  1.77576942,  2.37417186,\n",
       "         2.97257429]),\n",
       " <BarContainer object of 10 artists>)"
      ]
     },
     "execution_count": 99,
     "metadata": {},
     "output_type": "execute_result"
    },
    {
     "data": {
      "image/png": "[encoded data removed]",
      "text/plain": [
       "<Figure size 640x480 with 1 Axes>"
      ]
     },
     "metadata": {},
     "output_type": "display_data"
    }
   ],
   "source": [
    "import matplotlib.pyplot as plt\n",
    "rn=rng.standard_normal(1000)\n",
    "plt.hist(rn)"
   ]
  },
  {
   "cell_type": "code",
   "execution_count": 98,
   "id": "d71e6892",
   "metadata": {
    "scrolled": true
   },
   "outputs": [
    {
     "data": {
      "text/plain": [
       "(array([1105.,  506.,  202.,  102.,   47.,   20.,    8.,    6.,    2.,\n",
       "           2.]),\n",
       " array([4.87348455e-04, 8.15540907e-01, 1.63059447e+00, 2.44564802e+00,\n",
       "        3.26070158e+00, 4.07575514e+00, 4.89080870e+00, 5.70586226e+00,\n",
       "        6.52091582e+00, 7.33596937e+00, 8.15102293e+00]),\n",
       " <BarContainer object of 10 artists>)"
      ]
     },
     "execution_count": 98,
     "metadata": {},
     "output_type": "execute_result"
    },
    {
     "data": {
      "image/png": "[encoded data removed]",
      "text/plain": [
       "<Figure size 640x480 with 1 Axes>"
      ]
     },
     "metadata": {},
     "output_type": "display_data"
    }
   ],
   "source": [
    "rex = rng1.standard_exponential(2000)\n",
    "plt.hist(rex)"
   ]
  },
  {
   "cell_type": "code",
   "execution_count": null,
   "id": "11203cf8",
   "metadata": {},
   "outputs": [],
   "source": []
  }
 ],
 "metadata": {
  "kernelspec": {
   "display_name": "Python 3",
   "language": "python",
   "name": "python3"
  },
  "language_info": {
   "codemirror_mode": {
    "name": "ipython",
    "version": 3
   },
   "file_extension": ".py",
   "mimetype": "text/x-python",
   "name": "python",
   "nbconvert_exporter": "python",
   "pygments_lexer": "ipython3",
   "version": "3.10.5"
  }
 },
 "nbformat": 4,
 "nbformat_minor": 5
}
