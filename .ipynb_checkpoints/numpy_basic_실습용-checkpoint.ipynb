{
 "cells": [
  {
   "cell_type": "markdown",
   "metadata": {
    "id": "V2Rz6Xpb7P-H"
   },
   "source": [
    "# About NumPy\n",
    "\n",
    "NumPy :\n",
    "\n",
    "데이터 사이언스등 대규모의 배열데이터를 처리하기 위해서 다차원 배열 처리에 최적화되어있는 라이브러리\n",
    "파이썬 배열에 비해 더 빠른 처리를 수행가능\n"
   ]
  },
  {
   "cell_type": "code",
   "execution_count": null,
   "metadata": {
    "id": "9dAEs-Jf7P-I"
   },
   "outputs": [],
   "source": [
    "import numpy as np"
   ]
  },
  {
   "cell_type": "markdown",
   "metadata": {
    "id": "ZOR58k4a7P-Y"
   },
   "source": [
    "위 구문은 numpy 라이브러리를 np라는 이름으로 로딩한다.\n",
    "\n",
    "<br><br><br>\n",
    "\n",
    "<hr color = gray size = '10' />\n",
    "\n",
    "\n",
    "# NumPy 의 기초\n"
   ]
  },
  {
   "cell_type": "markdown",
   "metadata": {
    "id": "LxGXmPzppK57"
   },
   "source": [
    "\n",
    "\n",
    "## NumPy 배열 생성\n"
   ]
  },
  {
   "cell_type": "code",
   "execution_count": null,
   "metadata": {
    "id": "sM2sGYQq7P-Z"
   },
   "outputs": [],
   "source": [
    "narr = np.array([1,2,3,4])\n",
    "print(narr)"
   ]
  },
  {
   "cell_type": "markdown",
   "metadata": {
    "id": "6xHeWlYH7P-h"
   },
   "source": [
    "파이썬 리스트를 넘피 배열로 변환하기\n"
   ]
  },
  {
   "cell_type": "code",
   "execution_count": null,
   "metadata": {
    "id": "iL2dDe277P-h"
   },
   "outputs": [],
   "source": [
    "arr = [1,3,5]\n",
    "\n",
    "print(narr)"
   ]
  },
  {
   "cell_type": "markdown",
   "metadata": {
    "id": "PkzQtmvZ7P-m"
   },
   "source": [
    "실수 배열 만들기"
   ]
  },
  {
   "cell_type": "code",
   "execution_count": null,
   "metadata": {
    "id": "mEPNhEh_7P-p"
   },
   "outputs": [],
   "source": [
    "\n",
    "print(narr)"
   ]
  },
  {
   "cell_type": "markdown",
   "metadata": {
    "id": "ZzAA2veHimFh"
   },
   "source": [
    "배열의 값을 억세스 하는 방법은 기본적으로 LiST와 유사하다.\n"
   ]
  },
  {
   "cell_type": "code",
   "execution_count": null,
   "metadata": {
    "id": "9b8jfqfnixHi"
   },
   "outputs": [],
   "source": [
    "narr = np.array([1,2,3])\n",
    "#첫번째, 두번째 요소 출력\n",
    "\n",
    "narr = np.array([[1,2,3], [4,5,6]])\n",
    "#출력값 1 , 4 \n",
    "\n"
   ]
  },
  {
   "cell_type": "markdown",
   "metadata": {
    "id": "P5PluqSajEDN"
   },
   "source": [
    "단 Numpy 는 다차원 배열의 값을 억세스 할때 다음의 구문도 가능하다.\n"
   ]
  },
  {
   "cell_type": "code",
   "execution_count": null,
   "metadata": {
    "id": "iUEYthThjLhT"
   },
   "outputs": [],
   "source": [
    "narr = np.array([[1,2,3], [4,5,6]])\n",
    "#출력값 1 ,2, 4 \n"
   ]
  },
  {
   "cell_type": "markdown",
   "metadata": {
    "id": "wvKNdYMX7P-v"
   },
   "source": [
    "<hr>\n",
    "\n",
    "## NumPy 배열과 파이썬 리스트의 차이\n",
    "\n",
    "파이썬의 리스트는 자료의 저장에 촛점을 두고 있다면 Numpy 의 배열은 특히 수학적인 행렬의 표현을 더 중시한다. 이는 두 자료형의 기본연산의 차이에서 잘 드러난다.\n"
   ]
  },
  {
   "cell_type": "code",
   "execution_count": null,
   "metadata": {
    "id": "Dke9Q0wu7P-z"
   },
   "outputs": [],
   "source": [
    "# 파이썬 배열\n",
    "arr1,arr2 = [1,2,3], [4,5,6]\n",
    "print( \"파이썬 배열 덧셈 :\",        )\n",
    "\n",
    "# numpy 배열\n",
    "narr1 = np.array(arr1)\n",
    "narr2 = np.array(arr2)\n",
    " \n",
    "print( \"numpy 배열 덧셈 :\",       )\n",
    "print( \"numpy 배열 곱셈 :\",       )\n"
   ]
  },
  {
   "cell_type": "markdown",
   "metadata": {
    "id": "qml3yoF7kaeR"
   },
   "source": [
    "위에서 보듯이 리스트는 + 연산자가 두 리스트의 합병을 의미하지만 Numpy 는 두 자료형의 값을 합산한 배열을 의미한다.  \n",
    "\n",
    "또한 Numpy 는 행렬이므로 각 차원의 크기가 일정해야 한다.  예를 들어서 다음의 2차원 리스트는 Numpy 로 변환시\n"
   ]
  },
  {
   "cell_type": "code",
   "execution_count": null,
   "metadata": {
    "id": "9WbLcOySlGJV"
   },
   "outputs": [],
   "source": [
    "arr1 = [[1,2], [3,4,5]]\n",
    "arr2 = [[0,1,2], [3,4,5]]\n",
    "\n",
    "narr1 = np.array(arr1)\n",
    "narr2 = np.array(arr2)\n",
    "\n",
    "print(narr1)\n",
    "print(narr2)\n"
   ]
  },
  {
   "cell_type": "markdown",
   "metadata": {
    "id": "uXHpL6uvlp8i"
   },
   "source": [
    "위에서 arr1 은 두개의 List길이가 다르기 때문에 2차원 행렬로 변환이 불가능하다. 그래서 narr1은 리스트를 값으로 갖는 1차원 행렬로 변황이 되었지만 narr2 는 2x3 으로 변환이 가능하므로 2차원 행렬로 변환되었다.  \n"
   ]
  },
  {
   "cell_type": "markdown",
   "metadata": {
    "id": "pkHDrhTY7P_A"
   },
   "source": [
    "<hr>\n",
    "\n",
    "## Shape , Reshape\n",
    "\n",
    "NumPy 배열은 다차원 배열을 기본적으로 지원하며 모든 NumPy 배열은 shape 메소드를 통해 그 차원을 알아볼 수 있다.\n",
    "\n",
    "```\n",
    "narr = np.array([[1,2,3],[4,5,6]])\n",
    "print(narr.shape)\n",
    "-> (2,3)\n",
    "```\n",
    "다음의 예제는 여러 numpy 배열과 그 shape 를 출력한다."
   ]
  },
  {
   "cell_type": "code",
   "execution_count": 2,
   "metadata": {
    "colab": {
     "base_uri": "https://localhost:8080/"
    },
    "id": "G6WsdjDwlopK",
    "outputId": "7715f9df-e155-4348-b1a2-6e66416f8f0f"
   },
   "outputs": [
    {
     "name": "stdout",
     "output_type": "stream",
     "text": [
      "[1 2 3]\n",
      "1 차원 배열 ->  (3,)\n",
      "\n",
      "[[1 2 3]]\n",
      "2 차원 배열 ->  (1, 3)\n",
      "\n",
      "[[1]\n",
      " [2]\n",
      " [3]]\n",
      "2 차원 배열 ->  (3, 1)\n",
      "\n",
      "[[[1 2]\n",
      "  [3 4]]]\n",
      "3 차원 배열 ->  (1, 2, 2)\n",
      "\n"
     ]
    }
   ],
   "source": [
    "import numpy as np\n",
    "narr1 = np.array([1,2,3])\n",
    "narr2 = np.array([[1,2,3]])\n",
    "narr3 = np.array([[1],[2],[3]])\n",
    "narr4 = np.array([[[1,2],[3,4]]])\n",
    "\n",
    "for narr in [narr1, narr2, narr3, narr4]:\n",
    "  print(narr)\n",
    "  print(len(narr.shape), \"차원 배열 -> \",narr.shape )\n",
    "  print()\n"
   ]
  },
  {
   "cell_type": "markdown",
   "metadata": {
    "id": "NC25L8eVKT1R"
   },
   "source": [
    "Reshape를 이용하면 배열의 차원이나 형태의 변경이 가능하다.  예를 들어 (2,4) 인 형태의 배열을 (1,8) 이나 (2,2,2) 등으로 변경할 수 있다.\n",
    "\n"
   ]
  },
  {
   "cell_type": "code",
   "execution_count": 2,
   "metadata": {
    "id": "qLfpgPUMKz-4",
    "scrolled": true
   },
   "outputs": [],
   "source": [
    "import numpy as np\n",
    "narr = np.array([1,2,3,4,5,6,7,8])\n",
    "# 1x8\n",
    "# 2x4\n",
    "# 4x2\n",
    "# 2x2x2\n",
    "\n"
   ]
  },
  {
   "cell_type": "markdown",
   "metadata": {
    "id": "gaIZ0AW-7P_M"
   },
   "source": [
    "<hr>\n",
    "\n",
    "## 배열 초기화\n",
    "\n",
    "위에서 나온 np.array([1,2,3]) 처럼 배열을 직접 값을 줘서 만들 수 도 있지만 크기가 큰 배열의 경우 주로 초기화 루틴을 통해 만들 수 있다. 이때 배열의 크기와 형태는 shape 값을 인자로 입력한다.  \n",
    "\n",
    "<b> 0 으로 초기화 </b>"
   ]
  },
  {
   "cell_type": "code",
   "execution_count": 7,
   "metadata": {
    "id": "5Pk7omfZ7P_N"
   },
   "outputs": [],
   "source": [
    "import numpy as np\n",
    "# 3 x 2 를 0으로 초기화\n",
    "\n",
    "print(narr)"
   ]
  },
  {
   "cell_type": "markdown",
   "metadata": {
    "id": "vwIff-i47P_d"
   },
   "source": [
    "<b> 특정 값으로 초기화 </b>"
   ]
  },
  {
   "cell_type": "code",
   "execution_count": 8,
   "metadata": {
    "id": "KjwTtI1o7P_h"
   },
   "outputs": [],
   "source": [
    "import numpy as np\n",
    "# 2 x 4 를 7로 초기화\n",
    "\n",
    "print(narr)"
   ]
  },
  {
   "cell_type": "markdown",
   "metadata": {
    "id": "GqxT3h4fVtIO"
   },
   "source": [
    "\n",
    "\n",
    "## 배열의 범위지정\n",
    "\n",
    "파이썬의 리스트는 ':' 를 이용한 범위지정이 가능하다.\n",
    "```\n",
    "l = [1,2,3,4,5]\n",
    "print(l[1:4])\n",
    "-> 2,3,4\n",
    "```\n",
    "Numpy 도 이러한 범위지정을 사용할 수 있다.\n"
   ]
  },
  {
   "cell_type": "code",
   "execution_count": 10,
   "metadata": {
    "id": "TUkh95GXVtIX"
   },
   "outputs": [],
   "source": [
    "import numpy as np\n",
    "narr = np.array([1,2,3,4])\n",
    "# 전체출력 [:]\n",
    "# [1] 출력\n",
    "# [2 3 4] 출력\n",
    "# [1 2 3] 출력\n",
    "# [2 3] 출력\n"
   ]
  },
  {
   "cell_type": "markdown",
   "metadata": {
    "id": "DiZAAPhvWqyG"
   },
   "source": [
    "이러한 범위지정은 다차원 배열에서 그 활용도가 더욱 커진다.\n"
   ]
  },
  {
   "cell_type": "code",
   "execution_count": 12,
   "metadata": {
    "id": "tX39ut5MWz3L",
    "scrolled": true
   },
   "outputs": [],
   "source": [
    "import numpy as np\n",
    "narr2 = np.array([[1,2,3], [4,5,6]])\n",
    "# 1출력\n",
    "\n",
    "#  [[1 2 3]\n",
    "# [4 5 6]]  출력\n",
    "# 첫째 줄 출력\n",
    "# 둘째 열 출력\n"
   ]
  },
  {
   "cell_type": "markdown",
   "metadata": {
    "id": "UlIWjLhpX-0d"
   },
   "source": [
    "이러한 범위지정을 이용해 배열의 일부에 대해 원하는 값을 대입할 수도 있다."
   ]
  },
  {
   "cell_type": "markdown",
   "metadata": {
    "id": "VxSX1aio7QDL"
   },
   "source": [
    "### <font color = 'red'> 연습문제 1-1 : 반복문 없이 다음과 같은 Numpy 배열을 만들기  </font>\n",
    "\n",
    "```\n",
    "[[1. 0. 0. 0. 0. 0. 0. 0. 0. 0.]\n",
    " [1. 0. 0. 0. 0. 0. 0. 0. 0. 0.]\n",
    " [1. 0. 0. 0. 0. 0. 0. 0. 0. 0.]\n",
    " [1. 0. 0. 0. 0. 0. 0. 0. 0. 0.]\n",
    " [1. 0. 0. 0. 0. 0. 0. 0. 0. 0.]\n",
    " [1. 0. 0. 0. 0. 0. 0. 0. 0. 0.]\n",
    " [1. 0. 0. 0. 0. 0. 0. 0. 0. 0.]\n",
    " [1. 0. 0. 0. 0. 0. 0. 0. 0. 0.]\n",
    " [1. 0. 0. 0. 0. 0. 0. 0. 0. 0.]\n",
    " [1. 0. 0. 0. 0. 0. 0. 0. 0. 0.]]\n",
    " ```\n",
    "\n"
   ]
  },
  {
   "cell_type": "code",
   "execution_count": 20,
   "metadata": {
    "id": "j8TynzjJXXnb",
    "scrolled": false
   },
   "outputs": [],
   "source": [
    "narr = np.zeros((10,10))\n",
    "#연습문제 1-1 을 여기에 작성해보세요\n",
    "\n",
    "print(narr)"
   ]
  },
  {
   "cell_type": "markdown",
   "metadata": {
    "id": "VxSX1aio7QDL"
   },
   "source": [
    "### <font color = 'red'> 연습문제 1-2 : 반복문 없이 다음과 같은 Numpy 배열을 만들기  </font>\n",
    "\n",
    "```\n",
    "[[0. 0. 0. 0. 0. 0. 0. 0. 0. 0.]\n",
    " [0. 1. 1. 1. 1. 1. 1. 1. 1. 0.]\n",
    " [0. 1. 2. 2. 2. 2. 2. 2. 1. 0.]\n",
    " [0. 1. 2. 2. 2. 2. 2. 2. 1. 0.]\n",
    " [0. 1. 2. 2. 2. 2. 2. 2. 1. 0.]\n",
    " [0. 1. 2. 2. 2. 2. 2. 2. 1. 0.]\n",
    " [0. 1. 2. 2. 2. 2. 2. 2. 1. 0.]\n",
    " [0. 1. 2. 2. 2. 2. 2. 2. 1. 0.]\n",
    " [0. 1. 1. 1. 1. 1. 1. 1. 1. 0.]\n",
    " [0. 0. 0. 0. 0. 0. 0. 0. 0. 0.]]\n",
    " ```\n",
    "\n"
   ]
  },
  {
   "cell_type": "code",
   "execution_count": null,
   "metadata": {
    "id": "EyTtM0Nf7QDL"
   },
   "outputs": [],
   "source": [
    "narr = np.zeros((10,10))\n",
    "#연습문제 1-2 을 여기에 작성해보세요\n",
    "\n",
    "\n",
    "print(narr)"
   ]
  },
  {
   "cell_type": "markdown",
   "metadata": {
    "id": "9Wgw1qIfZVGO"
   },
   "source": [
    "### <font color = 'red'> 연습문제 1-3 :  반복문 없이 임의의 짝수크기 배열의 홀수 위치만 0으로 변환\n",
    "\n",
    "예: [1,2,3,4,5,6] -> [1,0,3,0,5,0]\n",
    "\n",
    "참고 : 배열 길이의 반 = int( len(arr) / 2)\n",
    "\n",
    "\n",
    "\n",
    "\n"
   ]
  },
  {
   "cell_type": "code",
   "execution_count": 23,
   "metadata": {
    "id": "U18Eeq0NZVGW",
    "scrolled": true
   },
   "outputs": [
    {
     "name": "stdout",
     "output_type": "stream",
     "text": [
      "[ 0  2  0  4  0  6  0  8  0 10  0 12]\n"
     ]
    }
   ],
   "source": [
    "narr = np.array([1,2,3,4,5,6,7,8,9,10,11,12])\n",
    "l = int( len(narr) / 2 )\n",
    "#연습문제 1-3 풀이를 작성해보세요\n",
    "\n"
   ]
  }
 ],
 "metadata": {
  "colab": {
   "name": "1. numpy_basic.ipynb",
   "provenance": []
  },
  "kernelspec": {
   "display_name": "Python 3 (ipykernel)",
   "language": "python",
   "name": "python3"
  },
  "language_info": {
   "codemirror_mode": {
    "name": "ipython",
    "version": 3
   },
   "file_extension": ".py",
   "mimetype": "text/x-python",
   "name": "python",
   "nbconvert_exporter": "python",
   "pygments_lexer": "ipython3",
   "version": "3.10.6"
  }
 },
 "nbformat": 4,
 "nbformat_minor": 1
}
