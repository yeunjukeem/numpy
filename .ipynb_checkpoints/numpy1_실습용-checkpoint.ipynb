{
 "cells": [
  {
   "cell_type": "markdown",
   "id": "7ab385e6",
   "metadata": {},
   "source": [
    "## Numpy의 기본 사용법"
   ]
  },
  {
   "cell_type": "markdown",
   "id": "77329faf",
   "metadata": {
    "id": "Y16bPKjBJQjb"
   },
   "source": [
    "#### 리스트와 넘파이 배열의 차이"
   ]
  },
  {
   "cell_type": "code",
   "execution_count": 10,
   "id": "aef7e9c5",
   "metadata": {
    "id": "_Q-dqGaJZ7rB"
   },
   "outputs": [
    {
     "data": {
      "text/plain": [
       "2.0"
      ]
     },
     "execution_count": 10,
     "metadata": {},
     "output_type": "execute_result"
    }
   ],
   "source": [
    "import numpy as np\n",
    "a = [1,2,3]\n",
    "sum(a)\n",
    "b = np.array(a)\n",
    "b.sum()\n",
    "b.mean()"
   ]
  },
  {
   "cell_type": "code",
   "execution_count": 1,
   "id": "f29b2f8f",
   "metadata": {
    "colab": {
     "base_uri": "https://localhost:8080/",
     "height": 34
    },
    "executionInfo": {
     "elapsed": 2453,
     "status": "ok",
     "timestamp": 1600414660976,
     "user": {
      "displayName": "김은지",
      "photoUrl": "",
      "userId": "05656241690824715190"
     },
     "user_tz": -540
    },
    "id": "0R8fWRq_aF0L",
    "outputId": "cbea3b5c-2134-4461-d628-1f034c6d9402"
   },
   "outputs": [],
   "source": [
    "# 원소간의 합이 아닌 리스트를 연결함"
   ]
  },
  {
   "cell_type": "code",
   "execution_count": 28,
   "id": "b410b9bd",
   "metadata": {
    "id": "y5ZZiPFWaHfh"
   },
   "outputs": [],
   "source": [
    "import numpy as np   # 앞으로 numpy의 별명을 np로 한다"
   ]
  },
  {
   "cell_type": "code",
   "execution_count": 52,
   "id": "4844b9fb",
   "metadata": {
    "colab": {
     "base_uri": "https://localhost:8080/",
     "height": 54
    },
    "executionInfo": {
     "elapsed": 588,
     "status": "ok",
     "timestamp": 1598402554681,
     "user": {
      "displayName": "박동규",
      "photoUrl": "",
      "userId": "10745738943866733973"
     },
     "user_tz": -540
    },
    "id": "Db0ZqdFqaMth",
    "outputId": "42b1decd-1d39-44f3-fa21-5ce6112983c3"
   },
   "outputs": [
    {
     "name": "stdout",
     "output_type": "stream",
     "text": [
      "[ 80 100 120]\n",
      "<class 'numpy.ndarray'>\n",
      "[ 80 100 120]\n",
      "<class 'numpy.ndarray'>\n",
      "[40. 50. 60.]\n"
     ]
    }
   ],
   "source": [
    "np_mid_scores = np.array([10,20,30])\n",
    "np_final_scores = np.array([70,80,90])\n",
    "final = np_mid_scores + np_final_scores\n",
    "print(final)\n",
    "print(type(final))\n",
    "final * 10\n",
    "\n",
    "#시험성적의 합계 : [ 70  90 110]\n",
    "total = np_mid_scores + np_final_scores\n",
    "print(final)\n",
    "print(type(final))\n",
    "\n",
    "#시험성적의 평균 : [35. 45. 55.]\n",
    "print(total/2)"
   ]
  },
  {
   "cell_type": "markdown",
   "id": "792b369d",
   "metadata": {},
   "source": [
    " **리스트에서 배열 만들기**"
   ]
  },
  {
   "cell_type": "code",
   "execution_count": 26,
   "id": "45f441ae",
   "metadata": {
    "scrolled": true
   },
   "outputs": [
    {
     "name": "stdout",
     "output_type": "stream",
     "text": [
      "[1 4 5 2 5 3]\n",
      "[5.   4.   1.   2.   3.14 6.  ]\n",
      "[1. 2. 3. 4.]\n",
      "[0 2 3 4]\n"
     ]
    }
   ],
   "source": [
    "import numpy as np\n",
    "\n",
    "# 리스트에서 배열 만들기\n",
    "print(np.array([1,4,5,2,5,3]))\n",
    "print(np.array([5,4,1,2,3.14,6]))\n",
    "print(np.array([1,2,3,4],dtype = 'float64'))\n",
    "print(np.array([0.987654,2,3.88,4],dtype = 'int64'))"
   ]
  },
  {
   "cell_type": "markdown",
   "id": "d0be8cb6",
   "metadata": {},
   "source": [
    "**처음부터 배열 만들기**"
   ]
  },
  {
   "cell_type": "code",
   "execution_count": 34,
   "id": "628c3321",
   "metadata": {},
   "outputs": [
    {
     "name": "stdout",
     "output_type": "stream",
     "text": [
      "[0. 0. 0. 0. 0. 0. 0. 0. 0. 0.]\n",
      "[1 1 1 1 1 1 1 1 1 1]\n",
      "[3.14 3.14 3.14 3.14 3.14 3.14 3.14 3.14 3.14 3.14]\n",
      "[ 0  2  4  6  8 10 12 14 16 18 20]\n",
      "[0.   0.25 0.5  0.75 1.  ]\n",
      "[[0.40573898 0.80722337 0.37295084]\n",
      " [0.07109726 0.64444545 0.12325107]\n",
      " [0.32284934 0.48871062 0.85342901]]\n",
      "[[0.33245348 0.25683136 0.79198783]\n",
      " [0.4260704  0.1547784  0.68097507]\n",
      " [0.13142176 0.82426438 0.9049293 ]]\n",
      "[[-0.46811631  0.69804708  2.16965614]\n",
      " [ 0.28828519  0.84373635 -0.18286783]\n",
      " [ 0.25561288  0.57945005 -2.2531596 ]]\n",
      "[[6 2 0]\n",
      " [6 0 7]\n",
      " [4 9 3]]\n"
     ]
    }
   ],
   "source": [
    "#0으로 채운 배열 생성\n",
    "print(np.zeros(10, dtype = float))\n",
    "\n",
    "#1로 채운 배열 생성\n",
    "print(np.ones(10, dtype = int))\n",
    "\n",
    "# 3.14로 채운 배열 만들기 \n",
    "print(np.full(10, 3.14))\n",
    "\n",
    "# 0에서 시작해 2씩 더해 20까지 채우는 배열 생성\n",
    "print(np.arange(0, 21, 2))\n",
    "\n",
    "# 0과 1 사이에 일정한 간격을 가진 다섯 개의 값으로 채운 배열 만들기\n",
    "print(np.linspace(0, 1, 5))\n",
    "\n",
    "# 3*3 크기의 난수 배열 생성\n",
    "print(np.random.rand(3,3))\n",
    "print(np.random.random((3,3)))\n",
    "\n",
    "# 평균 0, 표준 편차 1의 정규 분포를 따르는 3*3 난수 배열\n",
    "print(np.random.normal(0, 1, (3,3)))\n",
    "\n",
    "# [0, 10) 구간의 임의로 정수로 채운 3*3 배열 만들기\n",
    "print(np.random.randint(0,10,(3,3)))\n",
    "\n",
    "# 크기 3의 단위 행렬 만들기\n",
    "print(np.())"
   ]
  },
  {
   "cell_type": "markdown",
   "id": "3ec2e0a0",
   "metadata": {
    "id": "wejzNO_usRsC"
   },
   "source": [
    "## Note\n",
    "넘파이가 계산을 쉽고 빠르게 할 수 있는 데에는 이유가 있다. 넘파이는 각 배열마다 타입이 하나만 있다고 생각한다. 다시 말하면, 넘파이의 배열 안에는 동일한 타입의 데이터만 저장할 수 있다. 즉 정수면 정수, 실수면 실수만을 저장할 수 있는 것이다. 파이썬의 리스트처럼 여러 가지 타입을 섞어서 저장할 수는 없다. 만약 여러분들이 여러 가지 타입을 섞어서 넘파이의 배열에 전달하면 넘파이는 이것을 전부 문자열로 변경한다. 예를 들어서 다음 배열은 문자열 배열이 된다. "
   ]
  },
  {
   "cell_type": "markdown",
   "id": "594d5a4b",
   "metadata": {},
   "source": [
    "#### 넘파이의 핵심 다차원배열(ndarray)"
   ]
  },
  {
   "cell_type": "code",
   "execution_count": 38,
   "id": "12d6a054",
   "metadata": {
    "colab": {
     "base_uri": "https://localhost:8080/",
     "height": 34
    },
    "executionInfo": {
     "elapsed": 1073,
     "status": "ok",
     "timestamp": 1600414860957,
     "user": {
      "displayName": "김은지",
      "photoUrl": "",
      "userId": "05656241690824715190"
     },
     "user_tz": -540
    },
    "id": "wLduKdHOJrtg",
    "outputId": "267f1112-c68c-4d66-c0e9-1c3a35022158"
   },
   "outputs": [
    {
     "name": "stdout",
     "output_type": "stream",
     "text": [
      "['100' 'test' '3.0' 'False']\n"
     ]
    },
    {
     "data": {
      "text/plain": [
       "dtype('<U32')"
      ]
     },
     "execution_count": 38,
     "metadata": {},
     "output_type": "execute_result"
    }
   ],
   "source": [
    "import numpy as np\n",
    "# 넘파이 ndarray 객체의 생성\n",
    "tangled = np.array([100, 'test', 3.0, False])\n",
    "print(tangled)\n",
    "# a 객체의 형태(shape)\n",
    "tangled.shape\n",
    "tangled.dtype\n"
   ]
  },
  {
   "cell_type": "code",
   "execution_count": 45,
   "id": "ec146e94",
   "metadata": {
    "colab": {
     "base_uri": "https://localhost:8080/",
     "height": 34
    },
    "executionInfo": {
     "elapsed": 1057,
     "status": "ok",
     "timestamp": 1600414869255,
     "user": {
      "displayName": "김은지",
      "photoUrl": "",
      "userId": "05656241690824715190"
     },
     "user_tz": -540
    },
    "id": "SyiBBfIiKMIc",
    "outputId": "961b3c9a-1119-40f3-d43c-2277f9ff897b"
   },
   "outputs": [
    {
     "name": "stdout",
     "output_type": "stream",
     "text": [
      "1\n",
      "2\n"
     ]
    }
   ],
   "source": [
    "#ndim\n",
    "a = np.array([1,2,3])\n",
    "b = np.array([[1,2,3],[4,5,6]]) \n",
    "print(a.ndim)\n",
    "print(b.ndim)"
   ]
  },
  {
   "cell_type": "code",
   "execution_count": 47,
   "id": "485352a7",
   "metadata": {
    "colab": {
     "base_uri": "https://localhost:8080/",
     "height": 34
    },
    "executionInfo": {
     "elapsed": 1035,
     "status": "ok",
     "timestamp": 1600414874995,
     "user": {
      "displayName": "김은지",
      "photoUrl": "",
      "userId": "05656241690824715190"
     },
     "user_tz": -540
    },
    "id": "Zax0Owk3KOKx",
    "outputId": "1ebd9f47-2a44-4e5b-d399-f28ead34cb6c"
   },
   "outputs": [
    {
     "data": {
      "text/plain": [
       "dtype('int32')"
      ]
     },
     "execution_count": 47,
     "metadata": {},
     "output_type": "execute_result"
    }
   ],
   "source": [
    "#dtype\n",
    "a.dtype"
   ]
  },
  {
   "cell_type": "code",
   "execution_count": 49,
   "id": "e3dcf2fd",
   "metadata": {
    "colab": {
     "base_uri": "https://localhost:8080/",
     "height": 34
    },
    "executionInfo": {
     "elapsed": 1085,
     "status": "ok",
     "timestamp": 1600414880028,
     "user": {
      "displayName": "김은지",
      "photoUrl": "",
      "userId": "05656241690824715190"
     },
     "user_tz": -540
    },
    "id": "llnUARRmKPkz",
    "outputId": "30a2b57a-a604-4c05-96ec-8a2f13e4389c",
    "scrolled": true
   },
   "outputs": [
    {
     "name": "stdout",
     "output_type": "stream",
     "text": [
      "4\n",
      "4\n"
     ]
    }
   ],
   "source": [
    "#itemsize 메모리크기\n",
    "print(a.itemsize)\n",
    "print(b.itemsize)"
   ]
  },
  {
   "cell_type": "code",
   "execution_count": 50,
   "id": "c4f28211",
   "metadata": {
    "colab": {
     "base_uri": "https://localhost:8080/",
     "height": 34
    },
    "executionInfo": {
     "elapsed": 1218,
     "status": "ok",
     "timestamp": 1600414885332,
     "user": {
      "displayName": "김은지",
      "photoUrl": "",
      "userId": "05656241690824715190"
     },
     "user_tz": -540
    },
    "id": "gv2CBmQGKQyo",
    "outputId": "bce14c58-c2ef-45e9-a815-2d39c4b2f4f8",
    "scrolled": true
   },
   "outputs": [
    {
     "name": "stdout",
     "output_type": "stream",
     "text": [
      "3\n",
      "6\n"
     ]
    }
   ],
   "source": [
    "#size 요소의 개수\n",
    "print(a.size)\n",
    "print(b.size)"
   ]
  },
  {
   "cell_type": "code",
   "execution_count": 51,
   "id": "c30b4640",
   "metadata": {},
   "outputs": [
    {
     "data": {
      "text/plain": [
       "array([0.33333333, 0.66666667, 1.        ])"
      ]
     },
     "execution_count": 51,
     "metadata": {},
     "output_type": "execute_result"
    }
   ],
   "source": [
    "a/a.size"
   ]
  },
  {
   "cell_type": "markdown",
   "id": "06f143b0",
   "metadata": {},
   "source": [
    "Python의 Numpy 라이브러리는 **다양한 형태의 배열**을 초기화 할 수 있습니다."
   ]
  },
  {
   "cell_type": "code",
   "execution_count": 68,
   "id": "119e16b2",
   "metadata": {
    "scrolled": true
   },
   "outputs": [
    {
     "name": "stdout",
     "output_type": "stream",
     "text": [
      "[0 1 2 3]\n",
      "[[0. 0. 0. 0.]\n",
      " [0. 0. 0. 0.]\n",
      " [0. 0. 0. 0.]\n",
      " [0. 0. 0. 0.]]\n",
      "[[1 1 1 1]\n",
      " [1 1 1 1]\n",
      " [1 1 1 1]\n",
      " [1 1 1 1]]\n",
      "[[6 2 2]\n",
      " [0 0 6]\n",
      " [6 0 2]]\n",
      "[[ 0.27937054 -0.5240171  -0.47878239]\n",
      " [-0.09335471 -0.22040167 -0.63932166]\n",
      " [ 1.44289045  1.04927968  1.16496691]]\n"
     ]
    }
   ],
   "source": [
    "import numpy as np\n",
    "\n",
    "# 0부터 3까지의 배열 만들기\n",
    "array1 = np.arange(4)\n",
    "print(array1)\n",
    "\n",
    "# 0으로 초기화 (4*4)\n",
    "array2 = np.zeros((4,4), dtype = float)\n",
    "print(array2)\n",
    "\n",
    "# 1로 초기화 (4*4)\n",
    "array3 = np.ones((4,4), dtype = int)\n",
    "print(array3)\n",
    "\n",
    "# 0부터 9까지 랜덤하게 초기화 된 정수 배열 만들기\n",
    "array4 = np.random.randint(0, 9, (3,3))\n",
    "print(array4)\n",
    "\n",
    "# 평균이 0이고 표준편차가 1인 표준 정규를 띄는 배열\n",
    "array5 = np.random.normal(0,1,(3,3))\n",
    "print(array5)"
   ]
  },
  {
   "cell_type": "markdown",
   "id": "8ac8c130",
   "metadata": {},
   "source": [
    "Python의 Numpy 라이브러리는 List와 **상호 변환이 가능**합니다."
   ]
  },
  {
   "cell_type": "code",
   "execution_count": 63,
   "id": "bbff9902",
   "metadata": {},
   "outputs": [
    {
     "name": "stdout",
     "output_type": "stream",
     "text": [
      "[1, 2, 3, 4, 5, 6, 7, 8]\n",
      "[ 6  8 10 12]\n",
      "4\n"
     ]
    }
   ],
   "source": [
    "import numpy as np\n",
    "a = [1,2,3,4]\n",
    "b = [5,6,7,8]\n",
    "print(a+b)\n",
    "\n",
    "aa = np.array([1,2,3,4])\n",
    "bb = np.array([5,6,7,8])\n",
    "print(aa+bb)\n",
    "print(aa.size)"
   ]
  },
  {
   "cell_type": "code",
   "execution_count": 69,
   "id": "200c64b1",
   "metadata": {
    "scrolled": true
   },
   "outputs": [
    {
     "name": "stdout",
     "output_type": "stream",
     "text": [
      "<function size at 0x000002C5770D1900>\n",
      "int32\n",
      "3\n"
     ]
    }
   ],
   "source": [
    "import numpy as np\n",
    "\n",
    "array = np.array([1, 2, 3])\n",
    "# 배열의 크기\n",
    "print(np.size)\n",
    "# 배열 원소의 타입\n",
    "print(array.dtype)\n",
    "# 인덱스 2의 원소\n",
    "print(array[2]) "
   ]
  },
  {
   "cell_type": "markdown",
   "id": "f4a6b6f8",
   "metadata": {},
   "source": [
    "## 배열 속성 지정"
   ]
  },
  {
   "cell_type": "code",
   "execution_count": 77,
   "id": "17ea2a3a",
   "metadata": {},
   "outputs": [
    {
     "name": "stdout",
     "output_type": "stream",
     "text": [
      "3\n",
      "(3, 4, 5)\n",
      "60\n",
      "1\n",
      "int8\n"
     ]
    }
   ],
   "source": [
    "#ndim(차원의 개수), shape(각 차원의 크기), size(전체 배열의 크기), dtype(데이터타입)\n",
    "x = np.random.randint(10, size = (3, 4, 5), dtype = 'int8')  \n",
    "print(x.ndim)\n",
    "print(x.shape)\n",
    "print(x.size)\n",
    "print(x.itemsize)\n",
    "print(x.dtype)"
   ]
  },
  {
   "cell_type": "markdown",
   "id": "a7a38b94",
   "metadata": {
    "colab_type": "text",
    "id": "jflbKZvWIewX"
   },
   "source": [
    "## Numpy의 연산과 함수\n"
   ]
  },
  {
   "cell_type": "markdown",
   "id": "ebedc2f9",
   "metadata": {
    "id": "6jXUYEEaK4Tk"
   },
   "source": [
    "####  넘파이 배열 연산"
   ]
  },
  {
   "cell_type": "code",
   "execution_count": 83,
   "id": "ad5853f9",
   "metadata": {
    "id": "5f1S46p2aNsw"
   },
   "outputs": [
    {
     "name": "stdout",
     "output_type": "stream",
     "text": [
      "[220, 250, 230, 220, 250, 230]\n",
      "[460 490 470]\n",
      "[440 500 460]\n",
      "[484. 550. 506.]\n"
     ]
    }
   ],
   "source": [
    "import numpy as np\n",
    "salary = np.array([220, 250, 230])\n",
    "lst = [220, 250, 230] * 2 # 반복의 개념\n",
    "print(lst)\n",
    "print(salary + 240) # 각각 요소에 240씩 더해줌\n",
    "print(salary * 2) # 각각 요소에 2씩 곱해줌\n",
    "print(salary * 2.2) # 각각 요소에 2.2씩 곱해줌\n"
   ]
  },
  {
   "cell_type": "code",
   "execution_count": null,
   "id": "7a0fcf4b",
   "metadata": {
    "colab": {
     "base_uri": "https://localhost:8080/",
     "height": 34
    },
    "executionInfo": {
     "elapsed": 984,
     "status": "ok",
     "timestamp": 1597923815568,
     "user": {
      "displayName": "박동규",
      "photoUrl": "",
      "userId": "10745738943866733973"
     },
     "user_tz": -540
    },
    "id": "ll0XAmD4aQzh",
    "outputId": "f56ca479-5ee6-4108-fe35-83e327de9822",
    "scrolled": true
   },
   "outputs": [],
   "source": []
  },
  {
   "cell_type": "code",
   "execution_count": null,
   "id": "efee0c04",
   "metadata": {
    "colab": {
     "base_uri": "https://localhost:8080/",
     "height": 34
    },
    "executionInfo": {
     "elapsed": 1202,
     "status": "ok",
     "timestamp": 1600415083265,
     "user": {
      "displayName": "김은지",
      "photoUrl": "",
      "userId": "05656241690824715190"
     },
     "user_tz": -540
    },
    "id": "GxBgeIm3aRyG",
    "outputId": "2b8265d6-d22d-43a0-bee8-993b3c14d472"
   },
   "outputs": [],
   "source": []
  },
  {
   "cell_type": "code",
   "execution_count": null,
   "id": "8ca32dc5",
   "metadata": {
    "colab": {
     "base_uri": "https://localhost:8080/",
     "height": 34
    },
    "executionInfo": {
     "elapsed": 1221,
     "status": "ok",
     "timestamp": 1600415102219,
     "user": {
      "displayName": "김은지",
      "photoUrl": "",
      "userId": "05656241690824715190"
     },
     "user_tz": -540
    },
    "id": "2xnAfYH3LCYG",
    "outputId": "108322b5-698a-4439-ef94-ed84726005b2"
   },
   "outputs": [],
   "source": []
  },
  {
   "cell_type": "markdown",
   "id": "0487fec1",
   "metadata": {
    "colab_type": "text",
    "id": "YMGeT2gmIqQO"
   },
   "source": [
    "Python의 Numpy 라이브러리는 기본적인 상수 연산이 가능합니다."
   ]
  },
  {
   "cell_type": "code",
   "execution_count": 1,
   "id": "0af347a8",
   "metadata": {
    "colab": {
     "base_uri": "https://localhost:8080/",
     "height": 52
    },
    "colab_type": "code",
    "id": "lB3TNlINIn33",
    "outputId": "9293f423-94d0-4f3d-f4fa-3f1a5850de8c"
   },
   "outputs": [
    {
     "name": "stdout",
     "output_type": "stream",
     "text": [
      "[[5 2]\n",
      " [7 4]]\n",
      "[[50 20]\n",
      " [70 40]]\n"
     ]
    }
   ],
   "source": [
    "import numpy as np\n",
    "array = np.random.randint(1,10,size = 4).reshape(2,2)\n",
    "print(array)\n",
    "result_array = array * 10\n",
    "print(result_array)\n",
    "array2 = array + 10"
   ]
  },
  {
   "cell_type": "markdown",
   "id": "ca692fba",
   "metadata": {
    "colab_type": "text",
    "id": "3gXaKkCGI5lG"
   },
   "source": [
    "**서로 다른 형태의 Numpy 연산**이 가능합니다."
   ]
  },
  {
   "cell_type": "code",
   "execution_count": 2,
   "id": "8b62f6e8",
   "metadata": {
    "colab": {
     "base_uri": "https://localhost:8080/",
     "height": 52
    },
    "colab_type": "code",
    "id": "CjFI4tuPI1M2",
    "outputId": "74cb0c4d-0e91-4d28-99d7-1b080dfa69be"
   },
   "outputs": [
    {
     "name": "stdout",
     "output_type": "stream",
     "text": [
      "[[0 1]\n",
      " [2 3]]\n",
      "[0 1]\n",
      "[[0 2]\n",
      " [2 4]]\n"
     ]
    }
   ],
   "source": [
    "import numpy as np\n",
    "array1 = np.arange(4).reshape(2,2)\n",
    "array2 = np.arange(2)\n",
    "print(array1)\n",
    "print(array2)\n",
    "print(array1 + array2)"
   ]
  },
  {
   "cell_type": "code",
   "execution_count": 4,
   "id": "255f8be2",
   "metadata": {
    "colab": {
     "base_uri": "https://localhost:8080/",
     "height": 87
    },
    "colab_type": "code",
    "id": "yoaNGmROI8Fk",
    "outputId": "d88c62ad-e4ef-49aa-b40b-fbe9a9888ba6",
    "scrolled": true
   },
   "outputs": [
    {
     "name": "stdout",
     "output_type": "stream",
     "text": [
      "[[0 1 2 3]\n",
      " [4 5 6 7]] \n",
      "\n",
      "[[0 1 2 3]\n",
      " [4 5 6 7]] \n",
      "\n",
      "[[0 1 2 3]\n",
      " [4 5 6 7]\n",
      " [0 1 2 3]\n",
      " [4 5 6 7]]\n"
     ]
    }
   ],
   "source": [
    "import numpy as np\n",
    "array1 = np.arange(0,8).reshape(2,4)\n",
    "array2 = np.arange(0,8).reshape(2,4)\n",
    "array3 = np.concatenate([array1, array2], axis = 0)\n",
    "print(array1,'\\n')\n",
    "print(array2,'\\n')\n",
    "print(array3)"
   ]
  },
  {
   "cell_type": "markdown",
   "id": "83c25ca5",
   "metadata": {},
   "source": [
    "#### Numpy는 다양한 형태로 **합치기가 가능** 있습니다."
   ]
  },
  {
   "cell_type": "code",
   "execution_count": 8,
   "id": "679d89e4",
   "metadata": {},
   "outputs": [],
   "source": [
    "import numpy as np\n",
    "array1 = np.array([1,2,3])\n",
    "array2 = np.array([4,5,6])\n",
    "array3 = np.concatenate(([array1, array2]), axis = 0)\n",
    "print(array3.shape)\n",
    "print(array3)"
   ]
  },
  {
   "cell_type": "markdown",
   "id": "24c466d2",
   "metadata": {},
   "source": [
    "#### Numpy를 위 아래로 합칠 수 있습니다."
   ]
  },
  {
   "cell_type": "code",
   "execution_count": 9,
   "id": "7d3ea806",
   "metadata": {},
   "outputs": [
    {
     "name": "stdout",
     "output_type": "stream",
     "text": [
      "[[0 1 2 3]] \n",
      "\n",
      "[[0 1 2 3]\n",
      " [4 5 6 7]] \n",
      "\n",
      "<built-in method reshape of numpy.ndarray object at 0x000001F20D173630> \n",
      "\n",
      "[[0 1 2 3]\n",
      " [0 1 2 3]\n",
      " [4 5 6 7]]\n"
     ]
    }
   ],
   "source": [
    "import numpy as np\n",
    "array1 = np.arange(4).reshape(1,4)\n",
    "array2 = np.arange(8).reshape(2,4)\n",
    "array3 = np.concatenate([array1,array2],axis = 0)\n",
    "print(array1,'\\n')\n",
    "print(array2,'\\n')\n",
    "print(array3.reshape,'\\n')\n",
    "print(array3)\n"
   ]
  },
  {
   "cell_type": "markdown",
   "id": "45c7eeb8",
   "metadata": {
    "colab_type": "text",
    "id": "ZIy_DX6bGDpd"
   },
   "source": [
    "Numpy의 **형태를 나누기** 할 수 있습니다."
   ]
  },
  {
   "cell_type": "code",
   "execution_count": 15,
   "id": "cf663b3b",
   "metadata": {
    "colab": {
     "base_uri": "https://localhost:8080/",
     "height": 70
    },
    "colab_type": "code",
    "id": "yQGYnY2pF875",
    "outputId": "1c84ae7d-f899-4066-8287-f5ad35e1abc3",
    "scrolled": true
   },
   "outputs": [
    {
     "name": "stdout",
     "output_type": "stream",
     "text": [
      "[[0 1 2 3]]\n",
      "[[4 5 6 7]]\n",
      "[[4 5 6 7]]\n",
      "6\n"
     ]
    }
   ],
   "source": [
    "import numpy as np\n",
    "array = np.arange(8).reshape(2,4)\n",
    "left, right = np.split(array, [1], axis = 0)\n",
    "print(left)\n",
    "print(right)\n",
    "print(right)\n",
    "\n",
    "print(right[0,2])"
   ]
  },
  {
   "cell_type": "code",
   "execution_count": null,
   "id": "65e51be8",
   "metadata": {},
   "outputs": [],
   "source": []
  },
  {
   "cell_type": "markdown",
   "id": "7779bfe4",
   "metadata": {
    "colab_type": "text",
    "id": "HR-bcngHJbo3"
   },
   "source": [
    "Numpy의 **마스킹 연산**이 가능합니다."
   ]
  },
  {
   "cell_type": "code",
   "execution_count": 151,
   "id": "061aa3cd",
   "metadata": {
    "colab": {
     "base_uri": "https://localhost:8080/",
     "height": 228
    },
    "colab_type": "code",
    "id": "5XWPfcCEJK17",
    "outputId": "499685e3-925b-428f-d922-63eab1ef1d82"
   },
   "outputs": [],
   "source": [
    "import numpy as np\n",
    "\n",
    "# Numpy 원소의 값을 조건에 따라 바꿀 때는 다음과 같이 합니다.\n",
    "# 반복문을 이용할 때보다 매우 빠르게 동작합니다.\n",
    "# 대체로 이미지 처리(Image Processing)에서 자주 활용됩니다.\n"
   ]
  },
  {
   "cell_type": "markdown",
   "id": "d84b8e4a",
   "metadata": {
    "colab_type": "text",
    "id": "NznH01UXJnpn"
   },
   "source": [
    "Numpy는 **다양한 집계 함수**가 존재합니다."
   ]
  },
  {
   "cell_type": "code",
   "execution_count": 152,
   "id": "52a25a2a",
   "metadata": {
    "colab": {
     "base_uri": "https://localhost:8080/",
     "height": 87
    },
    "colab_type": "code",
    "id": "iPhu1aBhJR8O",
    "outputId": "59d8968e-25cd-4828-c615-098b558c1f00",
    "scrolled": true
   },
   "outputs": [],
   "source": [
    "import numpy as np\n",
    "\n",
    "array = np.arange(16).reshape(4, 4)\n",
    "#최대값, 최소값, 합계, 평균값"
   ]
  },
  {
   "cell_type": "code",
   "execution_count": 16,
   "id": "46eac7df",
   "metadata": {},
   "outputs": [
    {
     "name": "stdout",
     "output_type": "stream",
     "text": [
      "[[ 1 11]\n",
      " [ 2 12]\n",
      " [ 3 13]]\n"
     ]
    }
   ],
   "source": [
    "lst = [[1,11], [2,12], [3,13]]\n",
    "# => [11,12,13]\n",
    "lst[2]\n",
    "array = np.array(lst)\n",
    "array[:,1]\n",
    "print(array)\n"
   ]
  },
  {
   "cell_type": "code",
   "execution_count": 18,
   "id": "83b5bcc3",
   "metadata": {
    "colab": {
     "base_uri": "https://localhost:8080/",
     "height": 105
    },
    "colab_type": "code",
    "id": "2AQxs__jJP-L",
    "outputId": "3446db66-a125-4f7e-c832-e1ecc181a17d",
    "scrolled": true
   },
   "outputs": [
    {
     "name": "stdout",
     "output_type": "stream",
     "text": [
      "[0 1 2 3 4 5 6 7 8 9]\n",
      "6\n"
     ]
    }
   ],
   "source": [
    "import numpy as np\n",
    "array = np.arange(10)\n",
    "print(array)\n",
    "array[6]\n",
    "array2 = array.reshape(2,5)\n",
    "print(array2)\n",
    "array.reshape(2,5)\n",
    "print(array2[1,2])"
   ]
  },
  {
   "cell_type": "code",
   "execution_count": 75,
   "id": "998f9737-3744-40c6-a845-5e1b9a0b7b55",
   "metadata": {},
   "outputs": [
    {
     "name": "stdout",
     "output_type": "stream",
     "text": [
      "[0 1 2 3 4 5 6 7 8 9]\n",
      "[0 2 4 6 8]\n",
      "[0 1 2 3 4]\n",
      "[ True  True  True  True  True False False False False False]\n",
      "[ True  True False False]\n"
     ]
    }
   ],
   "source": [
    "array = np.arange(10)\n",
    "print(array)\n",
    "print(array[::2])\n",
    "print(array[:5])\n",
    "print(array<5)\n",
    "lst = np.array([15,17,18,19])\n",
    "age = lst<18\n",
    "print(age)"
   ]
  },
  {
   "cell_type": "markdown",
   "id": "c4e0343d",
   "metadata": {
    "jp-MarkdownHeadingCollapsed": true
   },
   "source": [
    "### 배열 인덱싱\n"
   ]
  },
  {
   "cell_type": "code",
   "execution_count": 154,
   "id": "929779cd",
   "metadata": {},
   "outputs": [],
   "source": [
    "x1 = np.random.randint(10, size = 6)\n",
    "x2 = np.random.randint(10, size = (3, 4))\n",
    "x3 = np.random.randint(10, size = (3, 4, 5))\n",
    "\n",
    "# x1 양수 인덱스 (맨 앞 요소)\n",
    "\n",
    "# x1 세 번째 요소 \n",
    "\n",
    "# x1 음수 인덱스 (맨 뒤 요소)\n",
    "\n",
    "# x1 뒤에서 네 번째 요소 \n",
    "\n",
    "# x2 2행 0열 (리스트 인덱스와 비교)\n",
    "\n",
    "# list[i][j] / ndarray[i, j]\n",
    "# x3 1차원, 2행, 3열 요소\n",
    "\n",
    "# x2의 0행 0열 값을 15로 바꿈"
   ]
  },
  {
   "cell_type": "markdown",
   "id": "6e44c2aa",
   "metadata": {},
   "source": [
    "### 배열 슬라이싱\n"
   ]
  },
  {
   "cell_type": "code",
   "execution_count": 155,
   "id": "a5622ade",
   "metadata": {
    "scrolled": true
   },
   "outputs": [],
   "source": [
    "x = np.arange(10) # array([0, 1, 2, 3, 4, 5, 6, 7, 8, 9])\n",
    "# array([0, 1, 2, 3, 4])\n",
    "\n",
    "# array([5, 6, 7, 8, 9])\n",
    "\n",
    "# array([4, 5, 6])\n",
    "\n",
    "# array([0, 2, 4, 6, 8])\n",
    "\n",
    "# array([1, 3, 5, 7, 9])\n",
    "\n",
    "# array([1, 4, 7])\n",
    "\n",
    "# array([9, 8, 7, 6, 5, 4, 3, 2, 1, 0]) \n",
    "\n",
    "# 배열 슬라이싱 - 다차원 하위 배열\n",
    "x = np.random.randint(10, size = (4, 5))\n",
    "# 두 개의 행과 세 개의 열\n",
    "\n",
    "# 모든 행, 한 열 걸러 하나 씩\n",
    "\n",
    "# 행을 역으로, 열도 역으로 (전치 행렬)"
   ]
  },
  {
   "cell_type": "code",
   "execution_count": null,
   "id": "0d3b0b7f",
   "metadata": {},
   "outputs": [],
   "source": []
  },
  {
   "cell_type": "markdown",
   "id": "e3ddcdfb",
   "metadata": {},
   "source": [
    "## Numpy의 활용"
   ]
  },
  {
   "cell_type": "markdown",
   "id": "9dcd48eb",
   "metadata": {},
   "source": [
    "#### Python의 Numpy는 **저장 및 불러오기**가 가능합니다."
   ]
  },
  {
   "cell_type": "code",
   "execution_count": 156,
   "id": "7e27e188",
   "metadata": {
    "scrolled": true
   },
   "outputs": [],
   "source": [
    "import numpy as np\n",
    "# 단일 객체 저장 \n",
    "\n",
    "\n"
   ]
  },
  {
   "cell_type": "code",
   "execution_count": 157,
   "id": "a3dfec33",
   "metadata": {},
   "outputs": [],
   "source": [
    "#불러오기\n"
   ]
  },
  {
   "cell_type": "markdown",
   "id": "c1df0c3f",
   "metadata": {},
   "source": [
    "#### 여러 개의 Numpy의 객체를 하나의 파일에 저장하고 불러올 수 있습니다."
   ]
  },
  {
   "cell_type": "code",
   "execution_count": 158,
   "id": "f365c558",
   "metadata": {
    "scrolled": true
   },
   "outputs": [],
   "source": [
    "import numpy as np\n",
    "# 복수 객체 저장 및 불러오기\n",
    "#0~9까지 정수생성\n",
    "\n",
    "# 10 ~19 정수생성\n",
    "\n",
    "#복수 객체 저장\n",
    "\n",
    "\n",
    "#불러오기\n",
    "\n",
    "\n",
    "\n",
    "\n"
   ]
  },
  {
   "cell_type": "markdown",
   "id": "1cd2f64a",
   "metadata": {},
   "source": [
    "#### Numpy의 원소들은 특정한 기준에 따라서 **정렬**할 수 있습니다."
   ]
  },
  {
   "cell_type": "code",
   "execution_count": 159,
   "id": "2c602f6a",
   "metadata": {},
   "outputs": [],
   "source": [
    "import numpy as np\n",
    "\n",
    "# Numpy 원소 오름차순 정렬\n",
    "\n",
    "\n",
    "# Numpy 원소 내림차순 정렬\n",
    "\n",
    "\n",
    "# 각 열을 기준으로 정렬\n"
   ]
  },
  {
   "cell_type": "markdown",
   "id": "70e76981",
   "metadata": {},
   "source": [
    "#### Numpy 관련 자주 사용되는 함수는 다음과 같습니다."
   ]
  },
  {
   "cell_type": "code",
   "execution_count": 160,
   "id": "ea4cb46d",
   "metadata": {
    "scrolled": true
   },
   "outputs": [],
   "source": [
    "import numpy as np\n",
    "\n",
    "# 균일한 간격으로 데이터 생성\n",
    "\n",
    "\n",
    "# 난수의 재연(실행마다 결과 동일)\n",
    "\n",
    "\n",
    "# Numpy 배열 객체 복사\n",
    "\n",
    "\n",
    "# 중복된 원소 제거\n"
   ]
  },
  {
   "cell_type": "markdown",
   "id": "3a6db2f5",
   "metadata": {},
   "source": [
    "#### Numpy는 다양한 형태로 **합치기가 가능**합니다."
   ]
  },
  {
   "cell_type": "code",
   "execution_count": 161,
   "id": "efd3c5de",
   "metadata": {},
   "outputs": [],
   "source": [
    "import numpy as np\n",
    "\n"
   ]
  },
  {
   "cell_type": "markdown",
   "id": "56d06c35",
   "metadata": {},
   "source": [
    "#### Numpy를 위 아래로 합칠 수 있습니다."
   ]
  },
  {
   "cell_type": "code",
   "execution_count": 162,
   "id": "0b3922ca",
   "metadata": {},
   "outputs": [],
   "source": [
    "import numpy as np\n",
    "\n"
   ]
  },
  {
   "cell_type": "markdown",
   "id": "ad0b29af",
   "metadata": {},
   "source": [
    "#### Numpy의 **형태를 변경**할 수 있습니다."
   ]
  },
  {
   "cell_type": "code",
   "execution_count": 163,
   "id": "60dd2991",
   "metadata": {},
   "outputs": [],
   "source": [
    "import numpy as np\n",
    "\n"
   ]
  },
  {
   "cell_type": "markdown",
   "id": "4138c8f0",
   "metadata": {},
   "source": [
    "#### Numpy의 **형태를 나누기** 할 수 있습니다."
   ]
  },
  {
   "cell_type": "code",
   "execution_count": 164,
   "id": "a6d4a17a",
   "metadata": {},
   "outputs": [],
   "source": [
    "import numpy as np\n",
    "\n"
   ]
  },
  {
   "cell_type": "markdown",
   "id": "ef9a8f95",
   "metadata": {
    "id": "X1QIL8LHLMW9"
   },
   "source": [
    "###  BMI 계산하기"
   ]
  },
  {
   "cell_type": "code",
   "execution_count": 165,
   "id": "24ee2edf",
   "metadata": {
    "colab": {
     "base_uri": "https://localhost:8080/",
     "height": 34
    },
    "executionInfo": {
     "elapsed": 1303,
     "status": "ok",
     "timestamp": 1597923985369,
     "user": {
      "displayName": "박동규",
      "photoUrl": "",
      "userId": "10745738943866733973"
     },
     "user_tz": -540
    },
    "id": "D-QfHnobaV36",
    "outputId": "cbe26bdd-ba46-4a2b-8b6e-13a2daeeb5b1"
   },
   "outputs": [],
   "source": [
    "import numpy as np\n",
    "\n",
    "heights = [ 1.83, 1.76, 1.69, 1.86, 1.77, 1.73 ]\n",
    "weights = [ 86,    74,    59,   95,    80,   68  ]\n"
   ]
  },
  {
   "cell_type": "markdown",
   "id": "78292ef3",
   "metadata": {
    "id": "PYKJ70DqLbIu"
   },
   "source": [
    "### 인덱싱과 슬라이싱"
   ]
  },
  {
   "cell_type": "code",
   "execution_count": 166,
   "id": "bd94b9f8",
   "metadata": {
    "id": "mDieF0aMavFl"
   },
   "outputs": [],
   "source": [
    "import numpy as np\n",
    "scores = np.array([88, 72, 93, 94, 89, 78, 99]) "
   ]
  },
  {
   "cell_type": "code",
   "execution_count": 167,
   "id": "31455466",
   "metadata": {
    "colab": {
     "base_uri": "https://localhost:8080/",
     "height": 34
    },
    "executionInfo": {
     "elapsed": 823,
     "status": "ok",
     "timestamp": 1601030062298,
     "user": {
      "displayName": "박동규",
      "photoUrl": "",
      "userId": "10745738943866733973"
     },
     "user_tz": -540
    },
    "id": "IaZRie97bV4j",
    "outputId": "2e9e23fd-f4e1-4156-945e-a7a1cf28705d",
    "scrolled": true
   },
   "outputs": [],
   "source": [
    "#93"
   ]
  },
  {
   "cell_type": "code",
   "execution_count": 168,
   "id": "be5c710e",
   "metadata": {
    "colab": {
     "base_uri": "https://localhost:8080/",
     "height": 34
    },
    "executionInfo": {
     "elapsed": 651,
     "status": "ok",
     "timestamp": 1601030082520,
     "user": {
      "displayName": "박동규",
      "photoUrl": "",
      "userId": "10745738943866733973"
     },
     "user_tz": -540
    },
    "id": "FG78E4twbW_y",
    "outputId": "91ab146b-9f80-4ff8-da88-16d55f98e202",
    "scrolled": true
   },
   "outputs": [],
   "source": [
    "#99"
   ]
  },
  {
   "cell_type": "code",
   "execution_count": 169,
   "id": "9c2eaeec",
   "metadata": {
    "colab": {
     "base_uri": "https://localhost:8080/",
     "height": 34
    },
    "executionInfo": {
     "elapsed": 617,
     "status": "ok",
     "timestamp": 1601030177607,
     "user": {
      "displayName": "박동규",
      "photoUrl": "",
      "userId": "10745738943866733973"
     },
     "user_tz": -540
    },
    "id": "90TZhnEkbX4g",
    "outputId": "0c1e3e58-9667-4c37-f18c-36a7a0f3941d",
    "scrolled": true
   },
   "outputs": [],
   "source": [
    "# 첫번째, 두번째, 세번째, 네번째 항목을 슬라이싱 함 array([72, 93, 94])"
   ]
  },
  {
   "cell_type": "code",
   "execution_count": 170,
   "id": "2c36fe44",
   "metadata": {
    "colab": {
     "base_uri": "https://localhost:8080/",
     "height": 34
    },
    "executionInfo": {
     "elapsed": 634,
     "status": "ok",
     "timestamp": 1601030186572,
     "user": {
      "displayName": "박동규",
      "photoUrl": "",
      "userId": "10745738943866733973"
     },
     "user_tz": -540
    },
    "id": "zFHTitC_bZG0",
    "outputId": "d46282c8-311c-40c4-dbcb-2230d8a0dc26",
    "scrolled": true
   },
   "outputs": [],
   "source": [
    "# 마지막 인덱스를 생략하면 디폴트 값은 -1임 array([94, 89, 78, 99])"
   ]
  },
  {
   "cell_type": "code",
   "execution_count": 171,
   "id": "6b88a84b",
   "metadata": {
    "colab": {
     "base_uri": "https://localhost:8080/",
     "height": 34
    },
    "executionInfo": {
     "elapsed": 660,
     "status": "ok",
     "timestamp": 1601030225584,
     "user": {
      "displayName": "박동규",
      "photoUrl": "",
      "userId": "10745738943866733973"
     },
     "user_tz": -540
    },
    "id": "Np8ApX_V1nXG",
    "outputId": "64e4a296-f75f-43e6-ad0f-63dacf3d7b6f"
   },
   "outputs": [],
   "source": [
    "# 마지막 인덱스 -1을 사용 array([89, 78])"
   ]
  },
  {
   "cell_type": "markdown",
   "id": "4de39e80",
   "metadata": {
    "id": "GLcCEO3AW3sC"
   },
   "source": [
    "### 논리적인 인덱싱"
   ]
  },
  {
   "cell_type": "code",
   "execution_count": 22,
   "id": "f1b14068",
   "metadata": {
    "id": "gJOMcVshbbVW"
   },
   "outputs": [],
   "source": [
    "ages = np.array([18, 19, 25, 30, 28])"
   ]
  },
  {
   "cell_type": "code",
   "execution_count": 24,
   "id": "84e21674",
   "metadata": {
    "colab": {
     "base_uri": "https://localhost:8080/",
     "height": 34
    },
    "executionInfo": {
     "elapsed": 1752,
     "status": "ok",
     "timestamp": 1600415267387,
     "user": {
      "displayName": "김은지",
      "photoUrl": "",
      "userId": "05656241690824715190"
     },
     "user_tz": -540
    },
    "id": "uuYU_uDpbmaj",
    "outputId": "86369241-b846-449d-f328-f00dc9a2134c"
   },
   "outputs": [
    {
     "name": "stdout",
     "output_type": "stream",
     "text": [
      "[False False  True  True  True]\n"
     ]
    },
    {
     "data": {
      "text/plain": [
       "array([25, 30, 28])"
      ]
     },
     "execution_count": 24,
     "metadata": {},
     "output_type": "execute_result"
    }
   ],
   "source": [
    "import numpy as np\n",
    "# ages > 20\n",
    "y = ages > 20\n",
    "print(y)\n",
    "y_data = ages[y]\n",
    "y_data\n"
   ]
  },
  {
   "cell_type": "code",
   "execution_count": 174,
   "id": "363c6e47",
   "metadata": {
    "colab": {
     "base_uri": "https://localhost:8080/",
     "height": 34
    },
    "executionInfo": {
     "elapsed": 694,
     "status": "ok",
     "timestamp": 1600415267388,
     "user": {
      "displayName": "김은지",
      "photoUrl": "",
      "userId": "05656241690824715190"
     },
     "user_tz": -540
    },
    "id": "MG0uVGCIboM6",
    "outputId": "8b03c9ae-35ad-4346-822d-61d72fdd899d"
   },
   "outputs": [],
   "source": [
    "# array([25, 30, 28])"
   ]
  },
  {
   "cell_type": "code",
   "execution_count": null,
   "id": "3afb1651-649a-4613-955c-402dbf4c7be3",
   "metadata": {},
   "outputs": [],
   "source": []
  },
  {
   "cell_type": "code",
   "execution_count": null,
   "id": "1c73a5d8-42c6-48d2-9676-1a35f8135ae6",
   "metadata": {},
   "outputs": [],
   "source": []
  },
  {
   "cell_type": "code",
   "execution_count": 26,
   "id": "0ea3a04a-e2b3-4fb5-9a00-298dafbec254",
   "metadata": {},
   "outputs": [
    {
     "name": "stdout",
     "output_type": "stream",
     "text": [
      "[ 0  2  4  6  8 10 12 14 16 18 20 22 24 26 28]\n",
      "6\n",
      "[ True  True  True False  True  True  True  True  True  True  True  True\n",
      "  True  True  True]\n",
      "[ 0  2  4  8 10 12 14 16 18 20 22 24 26 28]\n"
     ]
    }
   ],
   "source": [
    "x = np.arange(0,30,2)\n",
    "print(x)\n",
    "print(x[3])\n",
    "print(x != x[3])\n",
    "print(x[x != x[3]])\n",
    "      "
   ]
  },
  {
   "cell_type": "code",
   "execution_count": null,
   "id": "13095e5c-08b0-442f-b66c-e9721624ab8f",
   "metadata": {},
   "outputs": [],
   "source": [
    "import math\n",
    "a = np.sqrt([2,3,4])\n"
   ]
  },
  {
   "cell_type": "code",
   "execution_count": 33,
   "id": "e9e7e99c-75a5-449b-be6f-14a981252f06",
   "metadata": {},
   "outputs": [
    {
     "name": "stdout",
     "output_type": "stream",
     "text": [
      "[ 0  2  4  6  8 10 12 14 16 18 20 22 24 26 28]\n",
      "[ 0  2  4  6  8 10 12 14 16 18 20 22 24 26 28]\n",
      "[1, 2, 3]\n"
     ]
    }
   ],
   "source": [
    "z = np.array(range(0,30,2))\n",
    "print(z)\n",
    "#list comprehension\n",
    "# y = np.array()\n",
    "t = (1,2,3)\n",
    "lst = list(t)\n",
    "\n",
    "[i for i in range(0,30) if i % 2 == 0]\n",
    "k = np.array([i for i in range(0,30) if i % 2 == 0])\n",
    "print(k)\n",
    "\n",
    "lst = list(t)\n",
    "print(lst)\n",
    "\n"
   ]
  },
  {
   "cell_type": "code",
   "execution_count": 40,
   "id": "6bb2d859-152f-4b05-a741-16125d08a820",
   "metadata": {},
   "outputs": [
    {
     "name": "stdout",
     "output_type": "stream",
     "text": [
      "[0 1 2 3 4 5]\n",
      "[0 1 2 3 4 5]\n"
     ]
    },
    {
     "data": {
      "text/plain": [
       "array([[0, 1, 2, 3, 4, 5]])"
      ]
     },
     "execution_count": 40,
     "metadata": {},
     "output_type": "execute_result"
    }
   ],
   "source": [
    "a = np.arange(6)\n",
    "print(a)\n",
    "b = np.array([i for i in range(6)])\n",
    "print(b)\n",
    "type(b)\n",
    "type(a)\n",
    "a2 = a[np.newaxis, :]\n",
    "a2"
   ]
  },
  {
   "cell_type": "code",
   "execution_count": 43,
   "id": "0e46ce8f-3014-4ff7-9a10-ce7c20813f85",
   "metadata": {},
   "outputs": [
    {
     "name": "stdout",
     "output_type": "stream",
     "text": [
      "2.0\n",
      "()\n",
      "4.5\n",
      "['1' '2' '3' '가' '5' '6' '7' '8']\n",
      "['1' '2' '3' '100' '5' '6' '7' '8']\n",
      "16.5\n",
      "[  1   2   3 100   5   6   7   8]\n"
     ]
    }
   ],
   "source": [
    "array = np.array([1,2,3,4,5,6,7,8])\n",
    "array1 = np.array([1,2,5,6,7,8])\n",
    "array2 = np.array([1,2,3,'가',5,6,7,8])\n",
    "print(array[1].mean())\n",
    "print(array[2].shape)\n",
    "print(array.mean())\n",
    "print(array2)\n",
    "array2[3] = 100\n",
    "print(array2)\n",
    "array3 = np.array(array2, dtype = float)\n",
    "array3 = np.array(array2, dtype = int)\n",
    "print(array3.mean())\n",
    "print(array3)\n"
   ]
  },
  {
   "cell_type": "code",
   "execution_count": 46,
   "id": "f722d21c-f541-4ac2-8b9e-097f74668cb0",
   "metadata": {},
   "outputs": [
    {
     "name": "stdout",
     "output_type": "stream",
     "text": [
      "[  2 100   5]\n"
     ]
    }
   ],
   "source": [
    "array = np.array([0,1,2,100,4,5,6,7])\n",
    "idx = [2,3,5]\n",
    "array2 = array[idx]\n",
    "array2\n",
    "print(array2)"
   ]
  },
  {
   "cell_type": "code",
   "execution_count": 51,
   "id": "1a1fa7e2-db3c-498e-bd44-67258b4e4a4a",
   "metadata": {},
   "outputs": [
    {
     "name": "stdout",
     "output_type": "stream",
     "text": [
      "[51 55]\n",
      "55\n",
      "[[51 55]\n",
      " [14 19]\n",
      " [ 0  4]]\n",
      "==================\n",
      "[51 55]\n",
      "[14 19]\n",
      "[0 4]\n"
     ]
    }
   ],
   "source": [
    "y = np.array([[51,55],[14,19],[0,4]])\n",
    "print(y[0])\n",
    "print(y[0][1])\n",
    "print(y)\n",
    "print('==================')\n",
    "for row in y:\n",
    "    print(row)"
   ]
  },
  {
   "cell_type": "code",
   "execution_count": null,
   "id": "598892c0-c18a-482d-b32b-e2df5f60c032",
   "metadata": {},
   "outputs": [],
   "source": []
  },
  {
   "cell_type": "code",
   "execution_count": 57,
   "id": "ee44bcf5-1dd0-4a6a-ac4e-cd0fa98bc8b4",
   "metadata": {},
   "outputs": [
    {
     "name": "stdout",
     "output_type": "stream",
     "text": [
      "[51 55 14 19  0  4]\n",
      "[51 55 14 19  0  4]\n",
      "[51 14  0]\n",
      "[51 14  0]\n",
      "[51 55]\n"
     ]
    }
   ],
   "source": [
    "z = y.flatten()\n",
    "print(z)\n",
    "w = y.reshape(6,)\n",
    "print(w)\n",
    "print(w[[0,2,4]])\n",
    "print(z[[0,2,4]])\n",
    "print(w[w > 21])\n",
    "\n"
   ]
  },
  {
   "cell_type": "code",
   "execution_count": null,
   "id": "2217d1d7-7bf0-44d2-8937-1bac2e0a7946",
   "metadata": {},
   "outputs": [],
   "source": []
  },
  {
   "cell_type": "markdown",
   "id": "39f64429",
   "metadata": {
    "id": "nlAi3oadLxMZ"
   },
   "source": [
    "###  2차원 배열"
   ]
  },
  {
   "cell_type": "code",
   "execution_count": null,
   "id": "405d1028-5963-4d73-9935-df4c6a6dd0bb",
   "metadata": {},
   "outputs": [],
   "source": []
  },
  {
   "cell_type": "code",
   "execution_count": 62,
   "id": "99c3bd2d",
   "metadata": {
    "colab": {
     "base_uri": "https://localhost:8080/",
     "height": 34
    },
    "executionInfo": {
     "elapsed": 1053,
     "status": "ok",
     "timestamp": 1600415323728,
     "user": {
      "displayName": "김은지",
      "photoUrl": "",
      "userId": "05656241690824715190"
     },
     "user_tz": -540
    },
    "id": "YeXlebu6L6Hs",
    "outputId": "0b38e584-6c1e-4a4a-9842-28d931ae981c"
   },
   "outputs": [],
   "source": [
    "import numpy as np \n",
    "y = [[1,2,3], [4,5,6], [7,8,9]] \n"
   ]
  },
  {
   "cell_type": "code",
   "execution_count": 63,
   "id": "be89a321",
   "metadata": {
    "colab": {
     "base_uri": "https://localhost:8080/",
     "height": 68
    },
    "executionInfo": {
     "elapsed": 1071,
     "status": "ok",
     "timestamp": 1600415342957,
     "user": {
      "displayName": "김은지",
      "photoUrl": "",
      "userId": "05656241690824715190"
     },
     "user_tz": -540
    },
    "id": "ZAHvTVA_L9H2",
    "outputId": "2d77a5c7-b497-4770-c898-4d7f85657010",
    "scrolled": true
   },
   "outputs": [
    {
     "data": {
      "text/plain": [
       "5.0"
      ]
     },
     "execution_count": 63,
     "metadata": {},
     "output_type": "execute_result"
    }
   ],
   "source": [
    "#y[0][2]\n",
    "z = np.array(y)[0][1]\n",
    "z\n",
    "\n",
    "z = np.array(y)[0:2][1].mean()\n",
    "z"
   ]
  },
  {
   "cell_type": "code",
   "execution_count": 64,
   "id": "a472b6cf",
   "metadata": {
    "colab": {
     "base_uri": "https://localhost:8080/",
     "height": 34
    },
    "executionInfo": {
     "elapsed": 1103,
     "status": "ok",
     "timestamp": 1600415352235,
     "user": {
      "displayName": "김은지",
      "photoUrl": "",
      "userId": "05656241690824715190"
     },
     "user_tz": -540
    },
    "id": "iRxcSlXAMBz2",
    "outputId": "436ad6ca-1831-4e16-c83f-fdd542c8f763",
    "scrolled": true
   },
   "outputs": [],
   "source": [
    "# np_array[0][2]"
   ]
  },
  {
   "cell_type": "markdown",
   "id": "eca6f6de",
   "metadata": {
    "id": "xnLLDs1BMEt5",
    "jp-MarkdownHeadingCollapsed": true
   },
   "source": [
    "###  넘파이 스타일의 배열의 인덱싱"
   ]
  },
  {
   "cell_type": "code",
   "execution_count": 177,
   "id": "7ecdc8e5",
   "metadata": {
    "colab": {
     "base_uri": "https://localhost:8080/",
     "height": 34
    },
    "executionInfo": {
     "elapsed": 1224,
     "status": "ok",
     "timestamp": 1600415399996,
     "user": {
      "displayName": "김은지",
      "photoUrl": "",
      "userId": "05656241690824715190"
     },
     "user_tz": -540
    },
    "id": "4nlMyA-DMLdb",
    "outputId": "34319cea-82e4-4aa9-9143-4f245a89d53a"
   },
   "outputs": [],
   "source": [
    "np_array = np.array([[1,2,3], [4,5,6], [7,8,9]]) \n",
    "# 3"
   ]
  },
  {
   "cell_type": "code",
   "execution_count": 178,
   "id": "74d1d071",
   "metadata": {
    "colab": {
     "base_uri": "https://localhost:8080/",
     "height": 34
    },
    "executionInfo": {
     "elapsed": 1130,
     "status": "ok",
     "timestamp": 1600415406192,
     "user": {
      "displayName": "김은지",
      "photoUrl": "",
      "userId": "05656241690824715190"
     },
     "user_tz": -540
    },
    "id": "PaMFlCtTMPs1",
    "outputId": "89f17a11-5e87-4a68-aaf1-51d5aa85e15f"
   },
   "outputs": [],
   "source": [
    "#1"
   ]
  },
  {
   "cell_type": "code",
   "execution_count": 179,
   "id": "24d34eaf",
   "metadata": {
    "colab": {
     "base_uri": "https://localhost:8080/",
     "height": 34
    },
    "executionInfo": {
     "elapsed": 1072,
     "status": "ok",
     "timestamp": 1600415449462,
     "user": {
      "displayName": "김은지",
      "photoUrl": "",
      "userId": "05656241690824715190"
     },
     "user_tz": -540
    },
    "id": "SFoO5OWvMRPS",
    "outputId": "28efb9d4-c90e-42fb-91db-2dfb9fb33cd3"
   },
   "outputs": [],
   "source": [
    "#9"
   ]
  },
  {
   "cell_type": "code",
   "execution_count": 180,
   "id": "c1afbd9d",
   "metadata": {
    "colab": {
     "base_uri": "https://localhost:8080/",
     "height": 68
    },
    "executionInfo": {
     "elapsed": 1172,
     "status": "ok",
     "timestamp": 1600415461693,
     "user": {
      "displayName": "김은지",
      "photoUrl": "",
      "userId": "05656241690824715190"
     },
     "user_tz": -540
    },
    "id": "LST5IbOVMb0J",
    "outputId": "dd24d782-96b5-4c8a-ebaf-887fa4b2fc97",
    "scrolled": true
   },
   "outputs": [],
   "source": [
    "# ndarray의 첫 요소를 변경함 1 -> 12"
   ]
  },
  {
   "cell_type": "code",
   "execution_count": 181,
   "id": "069de4e3",
   "metadata": {
    "colab": {
     "base_uri": "https://localhost:8080/",
     "height": 68
    },
    "executionInfo": {
     "elapsed": 1327,
     "status": "ok",
     "timestamp": 1600415474801,
     "user": {
      "displayName": "김은지",
      "photoUrl": "",
      "userId": "05656241690824715190"
     },
     "user_tz": -540
    },
    "id": "MbLcj5zJMex_",
    "outputId": "00446385-94e1-4ffb-d0ae-a53d85317457",
    "scrolled": true
   },
   "outputs": [
    {
     "data": {
      "text/plain": [
       "array([[1, 2, 3],\n",
       "       [4, 5, 6],\n",
       "       [7, 8, 1]])"
      ]
     },
     "execution_count": 181,
     "metadata": {},
     "output_type": "execute_result"
    }
   ],
   "source": [
    "np_array[2, 2] = 1.234  # 마지막 요소의 값을 실수로 변경하려고 하면 실패\n",
    "np_array"
   ]
  },
  {
   "cell_type": "markdown",
   "id": "0422bf6a",
   "metadata": {
    "id": "__zpBIqFMkY-"
   },
   "source": [
    "###  넘파이 스타일의 2차원 배열 슬라이싱"
   ]
  },
  {
   "cell_type": "code",
   "execution_count": 182,
   "id": "2c409660",
   "metadata": {
    "colab": {
     "base_uri": "https://localhost:8080/",
     "height": 51
    },
    "executionInfo": {
     "elapsed": 1100,
     "status": "ok",
     "timestamp": 1600415511439,
     "user": {
      "displayName": "김은지",
      "photoUrl": "",
      "userId": "05656241690824715190"
     },
     "user_tz": -540
    },
    "id": "AdzyUhxJMn90",
    "outputId": "3f474532-fb71-4443-bf55-42d96e1ceb3f",
    "scrolled": true
   },
   "outputs": [],
   "source": [
    "np_array = np.array([[1, 2, 3], [4, 5, 6], [7, 8, 9]]) \n"
   ]
  },
  {
   "cell_type": "code",
   "execution_count": 183,
   "id": "e07da342",
   "metadata": {
    "colab": {
     "base_uri": "https://localhost:8080/",
     "height": 34
    },
    "executionInfo": {
     "elapsed": 1084,
     "status": "ok",
     "timestamp": 1600415518327,
     "user": {
      "displayName": "김은지",
      "photoUrl": "",
      "userId": "05656241690824715190"
     },
     "user_tz": -540
    },
    "id": "1uQ2wLzyMq8W",
    "outputId": "458c96fe-9673-48ce-c153-a60d432ffa17"
   },
   "outputs": [],
   "source": [
    "# array([1, 2, 3])"
   ]
  },
  {
   "cell_type": "code",
   "execution_count": 184,
   "id": "8fd03e20",
   "metadata": {
    "colab": {
     "base_uri": "https://localhost:8080/",
     "height": 34
    },
    "executionInfo": {
     "elapsed": 1644,
     "status": "ok",
     "timestamp": 1600415532501,
     "user": {
      "displayName": "김은지",
      "photoUrl": "",
      "userId": "05656241690824715190"
     },
     "user_tz": -540
    },
    "id": "TUHzFyIcMsoL",
    "outputId": "d9a201e5-c865-45bb-cda4-77a92378ebe2"
   },
   "outputs": [],
   "source": [
    "# array([5, 6])"
   ]
  },
  {
   "cell_type": "code",
   "execution_count": 185,
   "id": "568bb33a",
   "metadata": {
    "colab": {
     "base_uri": "https://localhost:8080/",
     "height": 68
    },
    "executionInfo": {
     "elapsed": 1203,
     "status": "ok",
     "timestamp": 1600415538509,
     "user": {
      "displayName": "김은지",
      "photoUrl": "",
      "userId": "05656241690824715190"
     },
     "user_tz": -540
    },
    "id": "Rlx_yJ0oMv8w",
    "outputId": "5fce3951-7dd3-4c8e-ba00-8ac77fad5e2d"
   },
   "outputs": [],
   "source": [
    "np_array = np.array([[ 1,  2,  3,  4], \n",
    "                     [ 5,  6,  7,  8], \n",
    "                     [ 9, 10, 11, 12], \n",
    "                     [13, 14, 15, 16]]) \n",
    "# 첫 슬라이싱: 0행, 2행 선택, 두 번째 슬라이싱: 그 중 0행 선택\n",
    "\n",
    "# 행 슬라이싱: 0행, 2행 선택, 열 슬라이싱: 0열 2열 선택\n"
   ]
  },
  {
   "cell_type": "markdown",
   "id": "0cfcec6e",
   "metadata": {
    "id": "GEle8yS1MkVR"
   },
   "source": [
    "###  2차원 배열에서 논리적인 인덱싱"
   ]
  },
  {
   "cell_type": "code",
   "execution_count": 186,
   "id": "1e73c3fd",
   "metadata": {
    "colab": {
     "base_uri": "https://localhost:8080/",
     "height": 68
    },
    "executionInfo": {
     "elapsed": 1231,
     "status": "ok",
     "timestamp": 1600415566002,
     "user": {
      "displayName": "김은지",
      "photoUrl": "",
      "userId": "05656241690824715190"
     },
     "user_tz": -540
    },
    "id": "r0BSXHrHM2Nx",
    "outputId": "8335ea1a-621f-4dc5-8455-7d0205762085",
    "scrolled": true
   },
   "outputs": [],
   "source": [
    "np_array = np.array([[1,2,3], [4,5,6], [7,8,9]]) \n",
    "# np_array > 5 일때 결과값"
   ]
  },
  {
   "cell_type": "code",
   "execution_count": 187,
   "id": "a851d462",
   "metadata": {
    "colab": {
     "base_uri": "https://localhost:8080/",
     "height": 34
    },
    "executionInfo": {
     "elapsed": 1052,
     "status": "ok",
     "timestamp": 1600415572545,
     "user": {
      "displayName": "김은지",
      "photoUrl": "",
      "userId": "05656241690824715190"
     },
     "user_tz": -540
    },
    "id": "Qx1A1ppRM4O6",
    "outputId": "673bb0bb-3257-405e-c449-45f7315c673c",
    "scrolled": true
   },
   "outputs": [],
   "source": [
    "# np_array > 5 인 값출력"
   ]
  },
  {
   "cell_type": "code",
   "execution_count": 188,
   "id": "0a3dddbf",
   "metadata": {
    "colab": {
     "base_uri": "https://localhost:8080/",
     "height": 34
    },
    "executionInfo": {
     "elapsed": 1093,
     "status": "ok",
     "timestamp": 1600415577922,
     "user": {
      "displayName": "김은지",
      "photoUrl": "",
      "userId": "05656241690824715190"
     },
     "user_tz": -540
    },
    "id": "xZdqfObbM536",
    "outputId": "4918bd18-4475-4593-e3ae-46dc53d5610f"
   },
   "outputs": [],
   "source": [
    "# [:, 2]"
   ]
  },
  {
   "cell_type": "code",
   "execution_count": 189,
   "id": "1204668b",
   "metadata": {
    "colab": {
     "base_uri": "https://localhost:8080/",
     "height": 34
    },
    "executionInfo": {
     "elapsed": 1338,
     "status": "ok",
     "timestamp": 1600415584419,
     "user": {
      "displayName": "김은지",
      "photoUrl": "",
      "userId": "05656241690824715190"
     },
     "user_tz": -540
    },
    "id": "fi2ZlhhyM7ID",
    "outputId": "b090594f-18f3-487b-8222-1c08a71de24b",
    "scrolled": true
   },
   "outputs": [],
   "source": [
    "# [:, 2] > 5"
   ]
  },
  {
   "cell_type": "markdown",
   "id": "3683158f",
   "metadata": {
    "id": "qfTPWHFyM_Rm"
   },
   "source": [
    "### 2차원 배열 연습"
   ]
  },
  {
   "cell_type": "code",
   "execution_count": 190,
   "id": "d169adf5",
   "metadata": {
    "colab": {
     "base_uri": "https://localhost:8080/",
     "height": 35
    },
    "executionInfo": {
     "elapsed": 998,
     "status": "ok",
     "timestamp": 1600525072893,
     "user": {
      "displayName": "박동규",
      "photoUrl": "",
      "userId": "10745738943866733973"
     },
     "user_tz": -540
    },
    "id": "uMhjHzFOM8s2",
    "outputId": "2bf173a8-f749-438d-efc7-66423b914cb8"
   },
   "outputs": [],
   "source": [
    "import numpy as np\n",
    "x = np.array( [['a', 'b', 'c', 'd'],\n",
    "               ['c', 'c', 'g', 'h']])\n",
    "\n",
    "\n",
    "#print(x - y)"
   ]
  },
  {
   "cell_type": "code",
   "execution_count": 191,
   "id": "64af2a38",
   "metadata": {
    "colab": {
     "base_uri": "https://localhost:8080/",
     "height": 52
    },
    "executionInfo": {
     "elapsed": 974,
     "status": "ok",
     "timestamp": 1600525102882,
     "user": {
      "displayName": "박동규",
      "photoUrl": "",
      "userId": "10745738943866733973"
     },
     "user_tz": -540
    },
    "id": "MxLZrplPuqzI",
    "outputId": "2c1d926b-706b-466d-8e8d-133607908288"
   },
   "outputs": [],
   "source": [
    "mat_a = np.array( [[10, 20, 30], [10, 20, 30]])\n",
    "mat_b = np.array( [[2, 2, 2], [1, 2, 3]])\n",
    "\n",
    "# mat_a - mat_b"
   ]
  },
  {
   "cell_type": "markdown",
   "id": "452ee71f",
   "metadata": {
    "id": "hXk5MSRhNkHL"
   },
   "source": [
    "###  넘파이 배열의 형태 알아내고 슬라이싱하여 연산하기"
   ]
  },
  {
   "cell_type": "code",
   "execution_count": 194,
   "id": "17edeb01",
   "metadata": {
    "colab": {
     "base_uri": "https://localhost:8080/",
     "height": 119
    },
    "executionInfo": {
     "elapsed": 1114,
     "status": "ok",
     "timestamp": 1600415775765,
     "user": {
      "displayName": "김은지",
      "photoUrl": "",
      "userId": "05656241690824715190"
     },
     "user_tz": -540
    },
    "id": "KNPeGmE4ND7m",
    "outputId": "bf5ad74a-48fa-4b71-d718-ef52bd498aa3"
   },
   "outputs": [],
   "source": [
    "import numpy as np \n",
    " \n",
    "x = np.array([[ 1.83, 1.76, 1.69, 1.86, 1.77, 1.73 ], \n",
    "              [ 86.0, 74.0, 59.0, 95.0, 80.0, 68.0 ]]) \n",
    "y = x[0:2, 1:3] \n",
    "z = x[0:2][1:3]\n",
    "\n"
   ]
  },
  {
   "cell_type": "markdown",
   "id": "0030307c",
   "metadata": {
    "id": "2mQHcnGuNstq"
   },
   "source": [
    "### 2차원 배열에서 특정 조건을 만족하는 행만 추출하기"
   ]
  },
  {
   "cell_type": "code",
   "execution_count": 193,
   "id": "6e981cce",
   "metadata": {
    "colab": {
     "base_uri": "https://localhost:8080/",
     "height": 119
    },
    "executionInfo": {
     "elapsed": 1069,
     "status": "ok",
     "timestamp": 1600415807196,
     "user": {
      "displayName": "김은지",
      "photoUrl": "",
      "userId": "05656241690824715190"
     },
     "user_tz": -540
    },
    "id": "gcAOiYOQNxga",
    "outputId": "a70fd5a9-571b-41df-ad4b-a273d7e32a7e",
    "scrolled": true
   },
   "outputs": [],
   "source": [
    "import numpy as np \n",
    "\n",
    "players = [[170, 76.4], \n",
    "           [183, 86.2], \n",
    "           [181, 78.5], \n",
    "           [176, 80.1]] \n"
   ]
  },
  {
   "cell_type": "markdown",
   "id": "3dbbf588",
   "metadata": {
    "id": "844iPxfUN1aK"
   },
   "source": [
    "###  arange()  함수와 range() 함수의 비교"
   ]
  },
  {
   "cell_type": "code",
   "execution_count": 78,
   "id": "5ba870f3",
   "metadata": {
    "colab": {
     "base_uri": "https://localhost:8080/",
     "height": 34
    },
    "executionInfo": {
     "elapsed": 1262,
     "status": "ok",
     "timestamp": 1600415844520,
     "user": {
      "displayName": "김은지",
      "photoUrl": "",
      "userId": "05656241690824715190"
     },
     "user_tz": -540
    },
    "id": "zXymhpabN6eK",
    "outputId": "ba6af58d-eeec-4b47-98f6-eede2dda1d8f",
    "scrolled": true
   },
   "outputs": [
    {
     "data": {
      "text/plain": [
       "array([0, 1, 2, 3, 4])"
      ]
     },
     "execution_count": 78,
     "metadata": {},
     "output_type": "execute_result"
    }
   ],
   "source": [
    "import numpy as np \n"
   ]
  },
  {
   "cell_type": "code",
   "execution_count": 79,
   "id": "95fcf152",
   "metadata": {
    "colab": {
     "base_uri": "https://localhost:8080/",
     "height": 34
    },
    "executionInfo": {
     "elapsed": 1096,
     "status": "ok",
     "timestamp": 1600415850871,
     "user": {
      "displayName": "김은지",
      "photoUrl": "",
      "userId": "05656241690824715190"
     },
     "user_tz": -540
    },
    "id": "Md4FvXB0N8N_",
    "outputId": "187b77ff-9f20-480d-a034-23e3477636f5",
    "scrolled": true
   },
   "outputs": [
    {
     "data": {
      "text/plain": [
       "array([1, 2, 3, 4, 5])"
      ]
     },
     "execution_count": 79,
     "metadata": {},
     "output_type": "execute_result"
    }
   ],
   "source": []
  },
  {
   "cell_type": "code",
   "execution_count": 80,
   "id": "39ac683b",
   "metadata": {
    "colab": {
     "base_uri": "https://localhost:8080/",
     "height": 34
    },
    "executionInfo": {
     "elapsed": 1180,
     "status": "ok",
     "timestamp": 1600415856117,
     "user": {
      "displayName": "김은지",
      "photoUrl": "",
      "userId": "05656241690824715190"
     },
     "user_tz": -540
    },
    "id": "ixH6oywON9z6",
    "outputId": "5f7c3897-f09e-4cca-87e9-eba0cadc5960"
   },
   "outputs": [
    {
     "data": {
      "text/plain": [
       "array([1, 3, 5, 7, 9])"
      ]
     },
     "execution_count": 80,
     "metadata": {},
     "output_type": "execute_result"
    }
   ],
   "source": []
  },
  {
   "cell_type": "code",
   "execution_count": 81,
   "id": "c6ba05a0",
   "metadata": {
    "colab": {
     "base_uri": "https://localhost:8080/",
     "height": 34
    },
    "executionInfo": {
     "elapsed": 1176,
     "status": "ok",
     "timestamp": 1600415863738,
     "user": {
      "displayName": "김은지",
      "photoUrl": "",
      "userId": "05656241690824715190"
     },
     "user_tz": -540
    },
    "id": "1dtw4BC0N_Ej",
    "outputId": "cd980f3d-b7b5-4612-d4ac-4d91a34a8c3a"
   },
   "outputs": [
    {
     "data": {
      "text/plain": [
       "range(0, 5)"
      ]
     },
     "execution_count": 81,
     "metadata": {},
     "output_type": "execute_result"
    }
   ],
   "source": []
  },
  {
   "cell_type": "code",
   "execution_count": 84,
   "id": "3a0f0890",
   "metadata": {
    "colab": {
     "base_uri": "https://localhost:8080/",
     "height": 34
    },
    "executionInfo": {
     "elapsed": 1015,
     "status": "ok",
     "timestamp": 1600415869782,
     "user": {
      "displayName": "김은지",
      "photoUrl": "",
      "userId": "05656241690824715190"
     },
     "user_tz": -540
    },
    "id": "YcdUHF6WOA72",
    "outputId": "171d2e2b-a0ed-48bf-b0a5-c2cf1c364b9d",
    "scrolled": true
   },
   "outputs": [
    {
     "data": {
      "text/plain": [
       "range(0, 5, 2)"
      ]
     },
     "execution_count": 84,
     "metadata": {},
     "output_type": "execute_result"
    }
   ],
   "source": []
  },
  {
   "cell_type": "code",
   "execution_count": 53,
   "id": "37f97b51",
   "metadata": {
    "colab": {
     "base_uri": "https://localhost:8080/",
     "height": 34
    },
    "executionInfo": {
     "elapsed": 1007,
     "status": "ok",
     "timestamp": 1600415879747,
     "user": {
      "displayName": "김은지",
      "photoUrl": "",
      "userId": "05656241690824715190"
     },
     "user_tz": -540
    },
    "id": "6gMvnz3mOCcq",
    "outputId": "d600cbc7-c664-49ea-e14d-ed55babe4748"
   },
   "outputs": [
    {
     "data": {
      "text/plain": [
       "[0, 1, 2, 3, 4]"
      ]
     },
     "execution_count": 53,
     "metadata": {},
     "output_type": "execute_result"
    }
   ],
   "source": []
  },
  {
   "cell_type": "code",
   "execution_count": 54,
   "id": "67151acd",
   "metadata": {
    "colab": {
     "base_uri": "https://localhost:8080/",
     "height": 34
    },
    "executionInfo": {
     "elapsed": 1165,
     "status": "ok",
     "timestamp": 1600415998838,
     "user": {
      "displayName": "김은지",
      "photoUrl": "",
      "userId": "05656241690824715190"
     },
     "user_tz": -540
    },
    "id": "i7iM0IedOE4g",
    "outputId": "86e3a0ed-c8dd-4a67-c976-7c8afcd45f7b",
    "scrolled": true
   },
   "outputs": [
    {
     "data": {
      "text/plain": [
       "array([0, 1, 2, 3, 4])"
      ]
     },
     "execution_count": 54,
     "metadata": {},
     "output_type": "execute_result"
    }
   ],
   "source": []
  },
  {
   "cell_type": "markdown",
   "id": "d22e31a1",
   "metadata": {
    "id": "8Bj6QzuWQsUQ"
   },
   "source": [
    "### linspace() 함수와 logspace() 함수"
   ]
  },
  {
   "cell_type": "code",
   "execution_count": null,
   "id": "a2267f9a",
   "metadata": {
    "colab": {
     "base_uri": "https://localhost:8080/",
     "height": 357
    },
    "executionInfo": {
     "elapsed": 1103,
     "status": "ok",
     "timestamp": 1600416591225,
     "user": {
      "displayName": "김은지",
      "photoUrl": "",
      "userId": "05656241690824715190"
     },
     "user_tz": -540
    },
    "id": "Jadvbg57QvWJ",
    "outputId": "99b84909-9cb7-41fb-c975-75ee5e42ee69"
   },
   "outputs": [],
   "source": []
  },
  {
   "cell_type": "code",
   "execution_count": null,
   "id": "a578e201",
   "metadata": {
    "colab": {
     "base_uri": "https://localhost:8080/",
     "height": 68
    },
    "executionInfo": {
     "elapsed": 1014,
     "status": "ok",
     "timestamp": 1600416599891,
     "user": {
      "displayName": "김은지",
      "photoUrl": "",
      "userId": "05656241690824715190"
     },
     "user_tz": -540
    },
    "id": "x1sQGglIQyju",
    "outputId": "ed700644-63e6-4782-a24d-16c5cf9f5d86"
   },
   "outputs": [],
   "source": []
  },
  {
   "cell_type": "markdown",
   "id": "e3aadf7e",
   "metadata": {
    "id": "0Hw3rdsSQ2DW"
   },
   "source": [
    "### 10.14 reshape() 함수"
   ]
  },
  {
   "cell_type": "code",
   "execution_count": 4,
   "id": "f7fe8a11",
   "metadata": {
    "colab": {
     "base_uri": "https://localhost:8080/",
     "height": 35
    },
    "executionInfo": {
     "elapsed": 29,
     "status": "ok",
     "timestamp": 1601122749899,
     "user": {
      "displayName": "박동규",
      "photoUrl": "",
      "userId": "10745738943866733973"
     },
     "user_tz": -540
    },
    "id": "yLeIfUpqQ4Hu",
    "outputId": "19b08955-265d-42f3-bd1b-298ac1d6e74e"
   },
   "outputs": [
    {
     "data": {
      "text/plain": [
       "array([ 0,  1,  2,  3,  4,  5,  6,  7,  8,  9, 10, 11])"
      ]
     },
     "execution_count": 4,
     "metadata": {},
     "output_type": "execute_result"
    }
   ],
   "source": [
    "import numpy as np\n",
    "\n",
    "# array([ 0,  1,  2,  3,  4,  5,  6,  7,  8,  9, 10, 11])"
   ]
  },
  {
   "cell_type": "code",
   "execution_count": 195,
   "id": "0bc2b8dd",
   "metadata": {
    "colab": {
     "base_uri": "https://localhost:8080/",
     "height": 69
    },
    "executionInfo": {
     "elapsed": 10,
     "status": "ok",
     "timestamp": 1601122749900,
     "user": {
      "displayName": "박동규",
      "photoUrl": "",
      "userId": "10745738943866733973"
     },
     "user_tz": -540
    },
    "id": "T03VJ3QFQ6NV",
    "outputId": "6b0bbb68-d87a-4ae1-d1cc-64b3cafb6d25",
    "scrolled": true
   },
   "outputs": [],
   "source": [
    "# reshape(3, 4)"
   ]
  },
  {
   "cell_type": "code",
   "execution_count": 127,
   "id": "b5f912b5",
   "metadata": {
    "colab": {
     "base_uri": "https://localhost:8080/",
     "height": 121
    },
    "executionInfo": {
     "elapsed": 2443,
     "status": "ok",
     "timestamp": 1601122099940,
     "user": {
      "displayName": "박동규",
      "photoUrl": "",
      "userId": "10745738943866733973"
     },
     "user_tz": -540
    },
    "id": "I1kzTi5EQ7_A",
    "outputId": "9bd8dbda-4102-46e0-d30f-0a5ee9a976b1"
   },
   "outputs": [],
   "source": [
    "# reshape(6, -1)"
   ]
  },
  {
   "cell_type": "code",
   "execution_count": 128,
   "id": "ea4cbb1d",
   "metadata": {
    "colab": {
     "base_uri": "https://localhost:8080/",
     "height": 166
    },
    "executionInfo": {
     "elapsed": 818,
     "status": "error",
     "timestamp": 1601122142513,
     "user": {
      "displayName": "박동규",
      "photoUrl": "",
      "userId": "10745738943866733973"
     },
     "user_tz": -540
    },
    "id": "-VQv07P4Q9Vt",
    "outputId": "7e30d7ca-bf11-4693-cd19-d029b94769d5",
    "scrolled": true
   },
   "outputs": [],
   "source": [
    "# reshape(6, 2)"
   ]
  },
  {
   "cell_type": "code",
   "execution_count": 129,
   "id": "7245991d",
   "metadata": {
    "colab": {
     "base_uri": "https://localhost:8080/",
     "height": 35
    },
    "executionInfo": {
     "elapsed": 1916,
     "status": "ok",
     "timestamp": 1601122163629,
     "user": {
      "displayName": "박동규",
      "photoUrl": "",
      "userId": "10745738943866733973"
     },
     "user_tz": -540
    },
    "id": "BNlTZeXIUTG_",
    "outputId": "0aaf2ad7-0dac-4d22-bfc7-570d669b725a",
    "scrolled": true
   },
   "outputs": [],
   "source": [
    "# y.flatten()"
   ]
  },
  {
   "cell_type": "markdown",
   "id": "b79d7c7b",
   "metadata": {
    "id": "wrUQMGU8RCFr"
   },
   "source": [
    "###  난수 생성하기"
   ]
  },
  {
   "cell_type": "code",
   "execution_count": 197,
   "id": "2e08a91e",
   "metadata": {
    "id": "TZ_UkUUcRHfa"
   },
   "outputs": [],
   "source": [
    "np.random.seed(100)"
   ]
  },
  {
   "cell_type": "code",
   "execution_count": null,
   "id": "dc8b4004",
   "metadata": {
    "colab": {
     "base_uri": "https://localhost:8080/",
     "height": 34
    },
    "executionInfo": {
     "elapsed": 1181,
     "status": "ok",
     "timestamp": 1600416691169,
     "user": {
      "displayName": "김은지",
      "photoUrl": "",
      "userId": "05656241690824715190"
     },
     "user_tz": -540
    },
    "id": "adRbG5gPRJFI",
    "outputId": "3af3dfc0-4f37-41a8-e926-be68ce3dc3a5"
   },
   "outputs": [],
   "source": []
  },
  {
   "cell_type": "code",
   "execution_count": null,
   "id": "72d1a3d2",
   "metadata": {
    "colab": {
     "base_uri": "https://localhost:8080/",
     "height": 102
    },
    "executionInfo": {
     "elapsed": 1246,
     "status": "ok",
     "timestamp": 1600416697914,
     "user": {
      "displayName": "김은지",
      "photoUrl": "",
      "userId": "05656241690824715190"
     },
     "user_tz": -540
    },
    "id": "9cZv_VI8RK3h",
    "outputId": "52a36ff9-871b-40e6-9b97-75dccda52b1c",
    "scrolled": true
   },
   "outputs": [],
   "source": []
  },
  {
   "cell_type": "code",
   "execution_count": null,
   "id": "7a7030fd",
   "metadata": {
    "colab": {
     "base_uri": "https://localhost:8080/",
     "height": 34
    },
    "executionInfo": {
     "elapsed": 1311,
     "status": "ok",
     "timestamp": 1600416712876,
     "user": {
      "displayName": "김은지",
      "photoUrl": "",
      "userId": "05656241690824715190"
     },
     "user_tz": -540
    },
    "id": "ohBCWluLRMkl",
    "outputId": "efb95a8a-064e-4dbc-dbcd-99d69ad7d667"
   },
   "outputs": [],
   "source": []
  },
  {
   "cell_type": "code",
   "execution_count": null,
   "id": "f1e55a28",
   "metadata": {
    "colab": {
     "base_uri": "https://localhost:8080/",
     "height": 34
    },
    "executionInfo": {
     "elapsed": 1097,
     "status": "ok",
     "timestamp": 1600416719839,
     "user": {
      "displayName": "김은지",
      "photoUrl": "",
      "userId": "05656241690824715190"
     },
     "user_tz": -540
    },
    "id": "ReKQXksERQIj",
    "outputId": "b22a7799-ee13-4fcb-d7fd-4b1e3b6ac558"
   },
   "outputs": [],
   "source": []
  },
  {
   "cell_type": "code",
   "execution_count": null,
   "id": "9ba01cb5",
   "metadata": {
    "colab": {
     "base_uri": "https://localhost:8080/",
     "height": 85
    },
    "executionInfo": {
     "elapsed": 1174,
     "status": "ok",
     "timestamp": 1600416726915,
     "user": {
      "displayName": "김은지",
      "photoUrl": "",
      "userId": "05656241690824715190"
     },
     "user_tz": -540
    },
    "id": "eNUtP3wlRR9g",
    "outputId": "2c1430c7-c448-49fd-95a1-6fc8f2e4b0c8",
    "scrolled": true
   },
   "outputs": [],
   "source": []
  },
  {
   "cell_type": "markdown",
   "id": "c6d46962",
   "metadata": {
    "id": "G-nRMus5RU4L"
   },
   "source": [
    "###  정규 분포 난수 생성"
   ]
  },
  {
   "cell_type": "code",
   "execution_count": 68,
   "id": "848c7917",
   "metadata": {
    "colab": {
     "base_uri": "https://localhost:8080/",
     "height": 34
    },
    "executionInfo": {
     "elapsed": 1264,
     "status": "ok",
     "timestamp": 1600416748747,
     "user": {
      "displayName": "김은지",
      "photoUrl": "",
      "userId": "05656241690824715190"
     },
     "user_tz": -540
    },
    "id": "fwk4tODsRXzV",
    "outputId": "a3d0d888-301c-4373-867d-40e8bdfcfe1c"
   },
   "outputs": [
    {
     "data": {
      "text/plain": [
       "array([-1.02933685, -0.51099219, -2.36027053,  0.10359513,  1.73881773])"
      ]
     },
     "execution_count": 68,
     "metadata": {},
     "output_type": "execute_result"
    }
   ],
   "source": []
  },
  {
   "cell_type": "code",
   "execution_count": null,
   "id": "ca3e8694",
   "metadata": {
    "colab": {
     "base_uri": "https://localhost:8080/",
     "height": 102
    },
    "executionInfo": {
     "elapsed": 1058,
     "status": "ok",
     "timestamp": 1600416754246,
     "user": {
      "displayName": "김은지",
      "photoUrl": "",
      "userId": "05656241690824715190"
     },
     "user_tz": -540
    },
    "id": "2xYD3pNTRY-k",
    "outputId": "9e49b74b-13a2-4b9c-cb0e-d81d29d8d114",
    "scrolled": true
   },
   "outputs": [],
   "source": []
  },
  {
   "cell_type": "code",
   "execution_count": null,
   "id": "04d964f8",
   "metadata": {
    "colab": {
     "base_uri": "https://localhost:8080/",
     "height": 102
    },
    "executionInfo": {
     "elapsed": 1200,
     "status": "ok",
     "timestamp": 1600416768564,
     "user": {
      "displayName": "김은지",
      "photoUrl": "",
      "userId": "05656241690824715190"
     },
     "user_tz": -540
    },
    "id": "I0LbWas3RaXo",
    "outputId": "e0419cf9-6fe2-46de-8acc-d1e8eed109e7"
   },
   "outputs": [],
   "source": []
  },
  {
   "cell_type": "markdown",
   "id": "6e766eb7",
   "metadata": {
    "id": "LsC8qnhBRevB"
   },
   "source": [
    "### 평균과 중간값 계산하기"
   ]
  },
  {
   "cell_type": "code",
   "execution_count": null,
   "id": "928a7cca",
   "metadata": {
    "id": "kHgnNcSMRiso"
   },
   "outputs": [],
   "source": []
  },
  {
   "cell_type": "code",
   "execution_count": null,
   "id": "a0ad004f",
   "metadata": {
    "colab": {
     "base_uri": "https://localhost:8080/",
     "height": 34
    },
    "executionInfo": {
     "elapsed": 1151,
     "status": "ok",
     "timestamp": 1600416807290,
     "user": {
      "displayName": "김은지",
      "photoUrl": "",
      "userId": "05656241690824715190"
     },
     "user_tz": -540
    },
    "id": "d2ghKbDXRlNo",
    "outputId": "281ea2df-3774-4ac3-99cf-c6e2166e2d40"
   },
   "outputs": [],
   "source": []
  },
  {
   "cell_type": "code",
   "execution_count": null,
   "id": "db9bda98",
   "metadata": {
    "colab": {
     "base_uri": "https://localhost:8080/",
     "height": 34
    },
    "executionInfo": {
     "elapsed": 1230,
     "status": "ok",
     "timestamp": 1600416812414,
     "user": {
      "displayName": "김은지",
      "photoUrl": "",
      "userId": "05656241690824715190"
     },
     "user_tz": -540
    },
    "id": "TsqYATGjRnQL",
    "outputId": "1ff1656a-b83b-46c4-af55-6bfa9a6b9898"
   },
   "outputs": [],
   "source": []
  },
  {
   "cell_type": "code",
   "execution_count": null,
   "id": "5fbb4e03",
   "metadata": {
    "colab": {
     "base_uri": "https://localhost:8080/",
     "height": 34
    },
    "executionInfo": {
     "elapsed": 1092,
     "status": "ok",
     "timestamp": 1600416823472,
     "user": {
      "displayName": "김은지",
      "photoUrl": "",
      "userId": "05656241690824715190"
     },
     "user_tz": -540
    },
    "id": "PPwni6HnRoh-",
    "outputId": "4087b895-7a6e-4f2a-8afa-64a236680f64"
   },
   "outputs": [],
   "source": []
  },
  {
   "cell_type": "code",
   "execution_count": null,
   "id": "4d6ec444",
   "metadata": {
    "colab": {
     "base_uri": "https://localhost:8080/",
     "height": 34
    },
    "executionInfo": {
     "elapsed": 1037,
     "status": "ok",
     "timestamp": 1600416829667,
     "user": {
      "displayName": "김은지",
      "photoUrl": "",
      "userId": "05656241690824715190"
     },
     "user_tz": -540
    },
    "id": "fjy0F7mNRrQ1",
    "outputId": "6f52f261-1983-403f-ccbc-3050baad4b30"
   },
   "outputs": [],
   "source": []
  },
  {
   "cell_type": "markdown",
   "id": "a2fa0877",
   "metadata": {
    "id": "Tk67QPErRuWH"
   },
   "source": [
    "### 평균과 중간값 계산하기"
   ]
  },
  {
   "cell_type": "code",
   "execution_count": 201,
   "id": "074fef12",
   "metadata": {
    "colab": {
     "base_uri": "https://localhost:8080/",
     "height": 119
    },
    "executionInfo": {
     "elapsed": 1169,
     "status": "ok",
     "timestamp": 1600416863616,
     "user": {
      "displayName": "김은지",
      "photoUrl": "",
      "userId": "05656241690824715190"
     },
     "user_tz": -540
    },
    "id": "vlW--FmxRsyi",
    "outputId": "8cfde825-73cd-4a5b-e747-5b47e3dba99e",
    "scrolled": true
   },
   "outputs": [],
   "source": [
    "import numpy as np \n",
    " \n",
    "players = np.zeros( (100, 3) ) \n",
    "\n"
   ]
  },
  {
   "cell_type": "markdown",
   "id": "6e13f32c",
   "metadata": {
    "id": "ViaziPo-R2_v"
   },
   "source": [
    "### 상관관계 계산하기"
   ]
  },
  {
   "cell_type": "code",
   "execution_count": 202,
   "id": "18e09de7",
   "metadata": {
    "colab": {
     "base_uri": "https://localhost:8080/",
     "height": 51
    },
    "executionInfo": {
     "elapsed": 1113,
     "status": "ok",
     "timestamp": 1600416908358,
     "user": {
      "displayName": "김은지",
      "photoUrl": "",
      "userId": "05656241690824715190"
     },
     "user_tz": -540
    },
    "id": "YlJ_IgO4R_JN",
    "outputId": "ab617d85-ac99-4491-82bd-72730efe1240",
    "scrolled": true
   },
   "outputs": [],
   "source": [
    "import numpy as np \n",
    "\n",
    "x = [ i for i in range(100) ]\n",
    "y = [ i ** 2 for i in range(100) ]\n"
   ]
  },
  {
   "cell_type": "markdown",
   "id": "b1119c4d",
   "metadata": {
    "id": "cG-GClRRSBao"
   },
   "source": [
    "### 다수 변수들 사이의 상관관계 계산하기"
   ]
  },
  {
   "cell_type": "code",
   "execution_count": null,
   "id": "cf8c34c5",
   "metadata": {
    "id": "7bqlN9zTR_-5"
   },
   "outputs": [],
   "source": []
  },
  {
   "cell_type": "code",
   "execution_count": null,
   "id": "7798df8f",
   "metadata": {
    "colab": {
     "base_uri": "https://localhost:8080/",
     "height": 68
    },
    "executionInfo": {
     "elapsed": 1176,
     "status": "ok",
     "timestamp": 1600416943641,
     "user": {
      "displayName": "김은지",
      "photoUrl": "",
      "userId": "05656241690824715190"
     },
     "user_tz": -540
    },
    "id": "LS-bBLMeSFlB",
    "outputId": "03ff978c-4d67-4d8b-a1c6-6494f77bb52f"
   },
   "outputs": [],
   "source": []
  },
  {
   "cell_type": "code",
   "execution_count": null,
   "id": "edbb945f",
   "metadata": {
    "colab": {
     "base_uri": "https://localhost:8080/",
     "height": 276
    },
    "executionInfo": {
     "elapsed": 6916,
     "status": "ok",
     "timestamp": 1601123654240,
     "user": {
      "displayName": "박동규",
      "photoUrl": "",
      "userId": "10745738943866733973"
     },
     "user_tz": -540
    },
    "id": "pZAbFu4RZ8v-",
    "outputId": "3e865fd5-8356-41df-d416-b42a68d8fcd5",
    "scrolled": true
   },
   "outputs": [],
   "source": []
  },
  {
   "cell_type": "code",
   "execution_count": null,
   "id": "ecf3463b",
   "metadata": {
    "colab": {
     "base_uri": "https://localhost:8080/",
     "height": 35
    },
    "executionInfo": {
     "elapsed": 1670,
     "status": "ok",
     "timestamp": 1601123673437,
     "user": {
      "displayName": "박동규",
      "photoUrl": "",
      "userId": "10745738943866733973"
     },
     "user_tz": -540
    },
    "id": "sNwDEyMnZ_rm",
    "outputId": "d96a1d87-0136-486d-da34-f09e1d958482",
    "scrolled": true
   },
   "outputs": [],
   "source": []
  },
  {
   "cell_type": "markdown",
   "id": "e1ef7377",
   "metadata": {},
   "source": [
    "### 교재실습"
   ]
  },
  {
   "cell_type": "code",
   "execution_count": 205,
   "id": "39102a33",
   "metadata": {
    "scrolled": true
   },
   "outputs": [],
   "source": [
    "import numpy as np\n"
   ]
  },
  {
   "cell_type": "code",
   "execution_count": null,
   "id": "a5e6a2f2",
   "metadata": {
    "scrolled": true
   },
   "outputs": [],
   "source": []
  },
  {
   "cell_type": "code",
   "execution_count": 206,
   "id": "caf3ad9b",
   "metadata": {},
   "outputs": [],
   "source": [
    "#mean값과 동일\n",
    "#3번째인덱스 가중치가 0이므로 15가 나옴\n",
    "#1번째 인덱스 가중치가 0이므로 25가 나옴"
   ]
  },
  {
   "cell_type": "code",
   "execution_count": 207,
   "id": "e7491230",
   "metadata": {},
   "outputs": [
    {
     "data": {
      "text/plain": [
       "array([ 0,  2,  4,  6,  8, 10, 12, 14, 16, 18, 20, 22, 24, 26, 28])"
      ]
     },
     "execution_count": 207,
     "metadata": {},
     "output_type": "execute_result"
    }
   ],
   "source": []
  },
  {
   "cell_type": "code",
   "execution_count": 208,
   "id": "d8fccfcc",
   "metadata": {},
   "outputs": [],
   "source": [
    "# 인텍스3번 출력\n",
    "\n",
    "# 6을 제외한 나머지 요소출력\n"
   ]
  },
  {
   "cell_type": "code",
   "execution_count": 209,
   "id": "b6236950",
   "metadata": {},
   "outputs": [],
   "source": [
    "import numpy as np\n"
   ]
  },
  {
   "cell_type": "code",
   "execution_count": 210,
   "id": "e3a8001d",
   "metadata": {
    "scrolled": true
   },
   "outputs": [],
   "source": [
    "import math\n"
   ]
  },
  {
   "cell_type": "code",
   "execution_count": 211,
   "id": "286045af",
   "metadata": {
    "scrolled": true
   },
   "outputs": [],
   "source": [
    "#행과열 변환(tranpose())\n"
   ]
  },
  {
   "cell_type": "code",
   "execution_count": 212,
   "id": "2e070354",
   "metadata": {},
   "outputs": [
    {
     "name": "stdout",
     "output_type": "stream",
     "text": [
      "[ 0  2  4  6  8 10 12 14 16 18 20 22 24 26 28]\n"
     ]
    }
   ],
   "source": [
    "z =np.array(range(0,30,2))        \n",
    "print(z)\n",
    "# 리스트컴프리헨션으로 작성\n"
   ]
  },
  {
   "cell_type": "code",
   "execution_count": 70,
   "id": "c2aaebce",
   "metadata": {
    "scrolled": true
   },
   "outputs": [
    {
     "name": "stdout",
     "output_type": "stream",
     "text": [
      "<class 'numpy.ndarray'>\n",
      "[0 1 2 3 4 5]\n",
      "[[0 1 2 3 4 5]]\n"
     ]
    },
    {
     "data": {
      "text/plain": [
       "((6,), (1, 6))"
      ]
     },
     "execution_count": 70,
     "metadata": {},
     "output_type": "execute_result"
    }
   ],
   "source": [
    "a = np.arange(6)\n",
    "#list 컴프리헨션을 통해 리스트를 만든후 array로 변경\n",
    "\n"
   ]
  },
  {
   "cell_type": "markdown",
   "id": "fe3c1955-fd33-46d5-8c98-2fe551b6783a",
   "metadata": {},
   "source": [
    "### 불리언 마스킹"
   ]
  },
  {
   "cell_type": "code",
   "execution_count": 65,
   "id": "2f5afa2f-2d80-45c8-9340-2dea17ecfbd9",
   "metadata": {},
   "outputs": [
    {
     "name": "stdout",
     "output_type": "stream",
     "text": [
      "['Beomwoo' 'Beomwoo' 'Kim' 'Joan' 'Lee' 'Beomwoo' 'Park' 'Beomwoo']\n",
      "(8,)\n"
     ]
    }
   ],
   "source": [
    "names = np.array(['Beomwoo', 'Beomwoo', 'Kim', 'Joan','Lee', 'Beomwoo','Park', 'Beomwoo'])\n",
    "print(names)\n",
    "print(names.shape)"
   ]
  },
  {
   "cell_type": "code",
   "execution_count": 68,
   "id": "6e61fdf0-a98b-4e19-ab46-c25adb0aaeba",
   "metadata": {},
   "outputs": [
    {
     "name": "stdout",
     "output_type": "stream",
     "text": [
      "[[-1.62218648e-01  1.93311788e+00 -2.23367988e-01  8.10431257e-01]\n",
      " [-8.63109390e-02 -1.29187914e+00  1.71890402e-03 -1.54888164e+00]\n",
      " [ 7.62958047e-01  9.43719208e-01 -1.28881976e+00 -3.41273265e-02]\n",
      " [-7.40918981e-01 -1.19088241e+00  2.89654876e-01 -5.10237631e-01]\n",
      " [ 1.77285735e+00 -2.94358983e-01 -1.72578979e-01 -5.93047063e-01]\n",
      " [-1.02608513e-02 -5.27256458e-01 -4.02465925e-01  1.03207586e-01]\n",
      " [-2.72796885e-01 -6.70800267e-01  4.84552703e-01  4.39263576e-01]\n",
      " [-2.97556109e-01 -8.49328523e-01  4.90939167e-01  4.65813234e-01]]\n",
      "(8, 4)\n"
     ]
    }
   ],
   "source": [
    "data = np.random.randn(8,4)\n",
    "print(data)\n",
    "print(data.shape)\n"
   ]
  },
  {
   "cell_type": "code",
   "execution_count": 71,
   "id": "33917757-e295-47ed-bbc8-bb9ed651639a",
   "metadata": {},
   "outputs": [
    {
     "name": "stdout",
     "output_type": "stream",
     "text": [
      "[ True  True False False False  True False  True]\n"
     ]
    },
    {
     "data": {
      "text/plain": [
       "array(['Beomwoo', 'Beomwoo', 'Beomwoo', 'Beomwoo'], dtype='<U7')"
      ]
     },
     "execution_count": 71,
     "metadata": {},
     "output_type": "execute_result"
    }
   ],
   "source": [
    "names_mask = (names == 'Beomwoo')\n",
    "names_mask\n",
    "print(names_mask)\n",
    "names_mask = names[names == 'Beomwoo']\n",
    "names_mask"
   ]
  },
  {
   "cell_type": "code",
   "execution_count": 213,
   "id": "abf25cc2",
   "metadata": {
    "scrolled": true
   },
   "outputs": [],
   "source": [
    "import numpy as np\n"
   ]
  },
  {
   "cell_type": "code",
   "execution_count": null,
   "id": "9cf3b869",
   "metadata": {},
   "outputs": [],
   "source": []
  },
  {
   "cell_type": "code",
   "execution_count": null,
   "id": "c39d6996",
   "metadata": {},
   "outputs": [],
   "source": []
  },
  {
   "cell_type": "code",
   "execution_count": 214,
   "id": "4ee0d325",
   "metadata": {},
   "outputs": [],
   "source": [
    "import numpy as np\n",
    "#브로드캐스트는 배열의 size에 맞추어 계산이 가능토록 해주는 기능이다\n",
    "# 행렬과 스칼라 연산\n"
   ]
  },
  {
   "cell_type": "code",
   "execution_count": null,
   "id": "db2696a9",
   "metadata": {
    "scrolled": true
   },
   "outputs": [],
   "source": []
  },
  {
   "cell_type": "code",
   "execution_count": 215,
   "id": "b1d65fae",
   "metadata": {
    "scrolled": true
   },
   "outputs": [],
   "source": [
    "# 원소 접근\n"
   ]
  },
  {
   "cell_type": "code",
   "execution_count": 216,
   "id": "dac99867",
   "metadata": {
    "scrolled": true
   },
   "outputs": [],
   "source": [
    "# Numpy만의 특이한 원소 접근법(인덱스를 배열로 지정해 여러 개 접근) ---> array 마스크\n",
    "# 1차원 배열로 평탄화 [51 55 14 19 0 4]\n",
    "\n",
    "# 인덱스가 0,2,4인 원소에 접근\n",
    "\n",
    "# [True True False True False False]\n"
   ]
  },
  {
   "cell_type": "markdown",
   "id": "3a97ad9a",
   "metadata": {},
   "source": [
    "#### linspace"
   ]
  },
  {
   "cell_type": "code",
   "execution_count": 218,
   "id": "cd89591a",
   "metadata": {},
   "outputs": [],
   "source": [
    "import numpy as np\n"
   ]
  },
  {
   "cell_type": "code",
   "execution_count": null,
   "id": "38b03b79",
   "metadata": {
    "scrolled": true
   },
   "outputs": [],
   "source": []
  },
  {
   "cell_type": "markdown",
   "id": "0f08cae3",
   "metadata": {},
   "source": [
    "#### logspace"
   ]
  },
  {
   "cell_type": "code",
   "execution_count": null,
   "id": "9a886748",
   "metadata": {},
   "outputs": [],
   "source": []
  },
  {
   "cell_type": "markdown",
   "id": "4a01b11b",
   "metadata": {},
   "source": [
    "#### random 모튤"
   ]
  },
  {
   "cell_type": "code",
   "execution_count": null,
   "id": "6e82e1c8",
   "metadata": {},
   "outputs": [],
   "source": []
  },
  {
   "cell_type": "code",
   "execution_count": null,
   "id": "800b883f",
   "metadata": {
    "scrolled": true
   },
   "outputs": [],
   "source": []
  },
  {
   "cell_type": "code",
   "execution_count": null,
   "id": "7339d5b0",
   "metadata": {},
   "outputs": [],
   "source": []
  },
  {
   "cell_type": "code",
   "execution_count": 219,
   "id": "65e01fc3",
   "metadata": {},
   "outputs": [],
   "source": [
    "import numpy as np\n",
    "#randn -> 𝝁=0 ,𝜎=1인 표준정규분포 생성(음수가 나올수있음)\n"
   ]
  },
  {
   "cell_type": "code",
   "execution_count": null,
   "id": "3a47e6db",
   "metadata": {
    "scrolled": true
   },
   "outputs": [],
   "source": []
  },
  {
   "cell_type": "code",
   "execution_count": null,
   "id": "cbfccf1c",
   "metadata": {
    "scrolled": true
   },
   "outputs": [],
   "source": []
  },
  {
   "cell_type": "code",
   "execution_count": null,
   "id": "68bdb886",
   "metadata": {},
   "outputs": [],
   "source": []
  },
  {
   "cell_type": "code",
   "execution_count": 220,
   "id": "d761c5cf",
   "metadata": {},
   "outputs": [],
   "source": [
    "import matplotlib.pyplot as plt\n",
    "import numpy as np\n",
    "\n"
   ]
  },
  {
   "cell_type": "code",
   "execution_count": 221,
   "id": "680be4ea",
   "metadata": {
    "scrolled": true
   },
   "outputs": [],
   "source": [
    "import numpy as np\n"
   ]
  },
  {
   "cell_type": "code",
   "execution_count": 222,
   "id": "ac11dac6",
   "metadata": {},
   "outputs": [],
   "source": [
    "import numpy as np\n",
    "import matplotlib.pyplot as plt\n"
   ]
  },
  {
   "cell_type": "code",
   "execution_count": 223,
   "id": "c42922a4",
   "metadata": {},
   "outputs": [],
   "source": [
    "# rng->random generator , (0)은 seed값\n"
   ]
  },
  {
   "cell_type": "code",
   "execution_count": 224,
   "id": "8b7d6c9c",
   "metadata": {
    "scrolled": true
   },
   "outputs": [],
   "source": [
    "\n",
    "\n",
    "\n",
    "# plt.hist(rn2)\n",
    "# rn3= np.random.standard_normal(2000)\n",
    "# plt.hist(rn3)"
   ]
  },
  {
   "cell_type": "code",
   "execution_count": 225,
   "id": "17e5695e",
   "metadata": {
    "scrolled": true
   },
   "outputs": [],
   "source": [
    "import matplotlib.pyplot as plt\n"
   ]
  },
  {
   "cell_type": "code",
   "execution_count": null,
   "id": "d71e6892",
   "metadata": {
    "scrolled": true
   },
   "outputs": [],
   "source": []
  },
  {
   "cell_type": "code",
   "execution_count": null,
   "id": "ccfea1f7",
   "metadata": {},
   "outputs": [],
   "source": []
  }
 ],
 "metadata": {
  "kernelspec": {
   "display_name": "Python 3 (ipykernel)",
   "language": "python",
   "name": "python3"
  },
  "language_info": {
   "codemirror_mode": {
    "name": "ipython",
    "version": 3
   },
   "file_extension": ".py",
   "mimetype": "text/x-python",
   "name": "python",
   "nbconvert_exporter": "python",
   "pygments_lexer": "ipython3",
   "version": "3.10.9"
  }
 },
 "nbformat": 4,
 "nbformat_minor": 5
}
