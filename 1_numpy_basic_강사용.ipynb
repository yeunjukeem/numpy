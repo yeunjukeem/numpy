{
 "cells": [
  {
   "cell_type": "markdown",
   "metadata": {
    "id": "V2Rz6Xpb7P-H"
   },
   "source": [
    "# About NumPy\n",
    "\n",
    "NumPy :\n",
    "\n",
    "데이터 사이언스등 대규모의 배열데이터를 처리하기 위해서 다차원 배열 처리에 최적화되어있는 라이브러리\n",
    "파이썬 배열에 비해 더 빠른 처리를 수행가능\n"
   ]
  },
  {
   "cell_type": "code",
   "execution_count": null,
   "metadata": {
    "id": "9dAEs-Jf7P-I"
   },
   "outputs": [],
   "source": [
    "import numpy as np"
   ]
  },
  {
   "cell_type": "markdown",
   "metadata": {
    "id": "ZOR58k4a7P-Y"
   },
   "source": [
    "위 구문은 numpy 라이브러리를 np라는 이름으로 로딩한다.\n",
    "\n",
    "<br><br><br>\n",
    "\n",
    "<hr color = gray size = '10' />\n",
    "\n",
    "\n",
    "# NumPy 의 기초\n"
   ]
  },
  {
   "cell_type": "markdown",
   "metadata": {
    "id": "LxGXmPzppK57"
   },
   "source": [
    "\n",
    "\n",
    "## NumPy 배열 생성\n"
   ]
  },
  {
   "cell_type": "code",
   "execution_count": null,
   "metadata": {
    "id": "sM2sGYQq7P-Z"
   },
   "outputs": [],
   "source": [
    "narr = np.array([1,2,3,4])\n",
    "print(narr)"
   ]
  },
  {
   "cell_type": "markdown",
   "metadata": {
    "id": "6xHeWlYH7P-h"
   },
   "source": [
    "파이썬 리스트를 넘피 배열로 변환하기\n"
   ]
  },
  {
   "cell_type": "code",
   "execution_count": null,
   "metadata": {
    "id": "iL2dDe277P-h"
   },
   "outputs": [],
   "source": [
    "arr = [1,3,5]\n",
    "narr = np.array(arr)\n",
    "print(narr)"
   ]
  },
  {
   "cell_type": "markdown",
   "metadata": {
    "id": "PkzQtmvZ7P-m"
   },
   "source": [
    "실수 배열 만들기"
   ]
  },
  {
   "cell_type": "code",
   "execution_count": null,
   "metadata": {
    "id": "mEPNhEh_7P-p"
   },
   "outputs": [],
   "source": [
    "narr = np.array([3,4,5], dtype = float)\n",
    "print(narr)"
   ]
  },
  {
   "cell_type": "markdown",
   "metadata": {
    "id": "ZzAA2veHimFh"
   },
   "source": [
    "배열의 값을 억세스 하는 방법은 기본적으로 LiST와 유사하다.\n"
   ]
  },
  {
   "cell_type": "code",
   "execution_count": null,
   "metadata": {
    "id": "9b8jfqfnixHi"
   },
   "outputs": [],
   "source": [
    "narr = np.array([1,2,3])\n",
    "print(narr[0], narr[1])\n",
    "\n",
    "narr = np.array([[1,2,3], [4,5,6]])\n",
    "print(narr[0][0], narr[1][1])\n"
   ]
  },
  {
   "cell_type": "markdown",
   "metadata": {
    "id": "P5PluqSajEDN"
   },
   "source": [
    "단 Numpy 는 다차원 배열의 값을 억세스 할때 다음의 구문도 가능하다.\n"
   ]
  },
  {
   "cell_type": "code",
   "execution_count": null,
   "metadata": {
    "id": "iUEYthThjLhT"
   },
   "outputs": [],
   "source": [
    "narr = np.array([[1,2,3], [4,5,6]])\n",
    "print(narr[0,0], narr[0,1], narr[1,0])"
   ]
  },
  {
   "cell_type": "markdown",
   "metadata": {
    "id": "wvKNdYMX7P-v"
   },
   "source": [
    "<hr>\n",
    "\n",
    "## NumPy 배열과 파이썬 리스트의 차이\n",
    "\n",
    "파이썬의 리스트는 자료의 저장에 촛점을 두고 있다면 Numpy 의 배열은 특히 수학적인 행렬의 표현을 더 중시한다. 이는 두 자료형의 기본연산의 차이에서 잘 드러난다.\n"
   ]
  },
  {
   "cell_type": "code",
   "execution_count": null,
   "metadata": {
    "id": "Dke9Q0wu7P-z"
   },
   "outputs": [],
   "source": [
    "# 파이썬 배열\n",
    "arr1,arr2 = [1,2,3], [4,5,6]\n",
    "print( \"파이썬 배열 덧셈 :\", arr1 + arr2 )\n",
    "\n",
    "# numpy 배열\n",
    "narr1 = np.array(arr1)\n",
    "narr2 = np.array(arr2)\n",
    "\n",
    "print( \"numpy 배열 덧셈 :\", narr1 + narr2 )\n",
    "print( \"numpy 배열 곱셈 :\", narr1 * narr2 )\n"
   ]
  },
  {
   "cell_type": "markdown",
   "metadata": {
    "id": "qml3yoF7kaeR"
   },
   "source": [
    "위에서 보듯이 리스트는 + 연산자가 두 리스트의 합병을 의미하지만 Numpy 는 두 자료형의 값을 합산한 배열을 의미한다.  \n",
    "\n",
    "또한 Numpy 는 행렬이므로 각 차원의 크기가 일정해야 한다.  예를 들어서 다음의 2차원 리스트는 Numpy 로 변환시\n"
   ]
  },
  {
   "cell_type": "code",
   "execution_count": null,
   "metadata": {
    "id": "9WbLcOySlGJV"
   },
   "outputs": [],
   "source": [
    "arr1 = [[1,2], [3,4,5]]\n",
    "arr2 = [[0,1,2], [3,4,5]]\n",
    "\n",
    "narr1 = np.array(arr1)\n",
    "narr2 = np.array(arr2)\n",
    "\n",
    "print(narr1)\n",
    "print(narr2)\n"
   ]
  },
  {
   "cell_type": "markdown",
   "metadata": {
    "id": "uXHpL6uvlp8i"
   },
   "source": [
    "위에서 arr1 은 두개의 List길이가 다르기 때문에 2차원 행렬로 변환이 불가능하다. 그래서 narr1은 리스트를 값으로 갖는 1차원 행렬로 변황이 되었지만 narr2 는 2x3 으로 변환이 가능하므로 2차원 행렬로 변환되었다.  \n"
   ]
  },
  {
   "cell_type": "markdown",
   "metadata": {
    "id": "pkHDrhTY7P_A"
   },
   "source": [
    "<hr>\n",
    "\n",
    "## Shape , Reshape\n",
    "\n",
    "NumPy 배열은 다차원 배열을 기본적으로 지원하며 모든 NumPy 배열은 shape 메소드를 통해 그 차원을 알아볼 수 있다.\n",
    "\n",
    "```\n",
    "narr = np.array([[1,2,3],[4,5,6]])\n",
    "print(narr.shape)\n",
    "-> (2,3)\n",
    "```\n",
    "다음의 예제는 여러 numpy 배열과 그 shape 를 출력한다."
   ]
  },
  {
   "cell_type": "code",
   "execution_count": 2,
   "metadata": {
    "colab": {
     "base_uri": "https://localhost:8080/"
    },
    "id": "G6WsdjDwlopK",
    "outputId": "7715f9df-e155-4348-b1a2-6e66416f8f0f"
   },
   "outputs": [
    {
     "name": "stdout",
     "output_type": "stream",
     "text": [
      "[1 2 3]\n",
      "1 차원 배열 ->  (3,)\n",
      "\n",
      "[[1 2 3]]\n",
      "2 차원 배열 ->  (1, 3)\n",
      "\n",
      "[[1]\n",
      " [2]\n",
      " [3]]\n",
      "2 차원 배열 ->  (3, 1)\n",
      "\n",
      "[[[1 2]\n",
      "  [3 4]]]\n",
      "3 차원 배열 ->  (1, 2, 2)\n",
      "\n"
     ]
    }
   ],
   "source": [
    "import numpy as np\n",
    "narr1 = np.array([1,2,3])\n",
    "narr2 = np.array([[1,2,3]])\n",
    "narr3 = np.array([[1],[2],[3]])\n",
    "narr4 = np.array([[[1,2],[3,4]]])\n",
    "\n",
    "for narr in [narr1, narr2, narr3, narr4]:\n",
    "  print(narr)\n",
    "  print(len(narr.shape), \"차원 배열 -> \",narr.shape )\n",
    "  print()\n"
   ]
  },
  {
   "cell_type": "markdown",
   "metadata": {
    "id": "NC25L8eVKT1R"
   },
   "source": [
    "Reshape를 이용하면 배열의 차원이나 형태의 변경이 가능하다.  예를 들어 (2,4) 인 형태의 배열을 (1,8) 이나 (2,2,2) 등으로 변경할 수 있다.\n",
    "\n"
   ]
  },
  {
   "cell_type": "code",
   "execution_count": null,
   "metadata": {
    "id": "qLfpgPUMKz-4"
   },
   "outputs": [],
   "source": [
    "narr = np.array([1,2,3,4,5,6,7,8])\n",
    "print(narr.reshape(1,8), \"\\n\")\n",
    "print(narr.reshape(2,4), \"\\n\")\n",
    "print(narr.reshape(4,2), \"\\n\")\n",
    "print(narr.reshape(2,2,2), \"\\n\")\n"
   ]
  },
  {
   "cell_type": "markdown",
   "metadata": {
    "id": "gaIZ0AW-7P_M"
   },
   "source": [
    "<hr>\n",
    "\n",
    "## 배열 초기화\n",
    "\n",
    "위에서 나온 np.array([1,2,3]) 처럼 배열을 직접 값을 줘서 만들 수 도 있지만 크기가 큰 배열의 경우 주로 초기화 루틴을 통해 만들 수 있다. 이때 배열의 크기와 형태는 shape 값을 인자로 입력한다.  \n",
    "\n",
    "<b> 0 으로 초기화 </b>"
   ]
  },
  {
   "cell_type": "code",
   "execution_count": null,
   "metadata": {
    "id": "5Pk7omfZ7P_N"
   },
   "outputs": [],
   "source": [
    "# 3 x 2 를 0으로 초기화\n",
    "narr = np.zeros((3,2))\n",
    "print(narr)"
   ]
  },
  {
   "cell_type": "markdown",
   "metadata": {
    "id": "vwIff-i47P_d"
   },
   "source": [
    "<b> 특정 값으로 초기화 </b>"
   ]
  },
  {
   "cell_type": "code",
   "execution_count": null,
   "metadata": {
    "id": "KjwTtI1o7P_h"
   },
   "outputs": [],
   "source": [
    "# 2 x 4 를 7 초 초기화\n",
    "narr = np.full((2,4), 7)\n",
    "print(narr)"
   ]
  },
  {
   "cell_type": "markdown",
   "metadata": {
    "id": "GqxT3h4fVtIO"
   },
   "source": [
    "**굵은 텍스트**<hr>\n",
    "\n",
    "## 배열의 범위지정\n",
    "\n",
    "파이썬의 리스트는 ':' 를 이용한 범위지정이 가능하다.\n",
    "```\n",
    "l = [1,2,3,4,5]\n",
    "print(l[1:4])\n",
    "-> 2,3,4\n",
    "```\n",
    "Numpy 도 이러한 범위지정을 사용할 수 있다.\n"
   ]
  },
  {
   "cell_type": "code",
   "execution_count": null,
   "metadata": {
    "id": "TUkh95GXVtIX"
   },
   "outputs": [],
   "source": [
    "narr = np.array([1,2,3,4])\n",
    "\n",
    "print(\":   ->\", narr[:])\n",
    "print(\"0:1 ->\", narr[0:1])\n",
    "print(\"1:  ->\", narr[1:] )\n",
    "print(\":3  ->\", narr[:3] )\n",
    "print(\"1:-1->\", narr[1:-1] )"
   ]
  },
  {
   "cell_type": "markdown",
   "metadata": {
    "id": "DiZAAPhvWqyG"
   },
   "source": [
    "이러한 범위지정은 다차원 배열에서 그 활용도가 더욱 커진다.\n"
   ]
  },
  {
   "cell_type": "code",
   "execution_count": null,
   "metadata": {
    "id": "tX39ut5MWz3L"
   },
   "outputs": [],
   "source": [
    "narr2 = np.array([[1,2,3], [4,5,6]])\n",
    "\n",
    "print(narr2[0,0])\n",
    "\n",
    "print(\"[:,:] -> \\n\", narr2[:,:],\"\\n\")\n",
    "print(\"[0,:] -> \", narr2[0,:]) # 첫째 줄\n",
    "print(\"[:,1] -> \", narr2[:,1]) # 둘째 열"
   ]
  },
  {
   "cell_type": "markdown",
   "metadata": {
    "id": "UlIWjLhpX-0d"
   },
   "source": [
    "이러한 범위지정을 이용해 배열의 일부에 대해 원하는 값을 대입할 수도 있다."
   ]
  },
  {
   "cell_type": "code",
   "execution_count": null,
   "metadata": {
    "id": "j8TynzjJXXnb"
   },
   "outputs": [],
   "source": [
    "narr = np.zeros((10,10))\n",
    "narr[:,0] = 1\n",
    "print(narr)"
   ]
  },
  {
   "cell_type": "markdown",
   "metadata": {
    "id": "VxSX1aio7QDL"
   },
   "source": [
    "### <font color = 'red'> 연습문제 1-1 : 반복문 없이 다음과 같은 Numpy 배열을 만들기  </font>\n",
    "\n",
    "```\n",
    "[[0. 0. 0. 0. 0. 0. 0. 0. 0. 0.]\n",
    " [0. 1. 1. 1. 1. 1. 1. 1. 1. 0.]\n",
    " [0. 1. 2. 2. 2. 2. 2. 2. 1. 0.]\n",
    " [0. 1. 2. 2. 2. 2. 2. 2. 1. 0.]\n",
    " [0. 1. 2. 2. 2. 2. 2. 2. 1. 0.]\n",
    " [0. 1. 2. 2. 2. 2. 2. 2. 1. 0.]\n",
    " [0. 1. 2. 2. 2. 2. 2. 2. 1. 0.]\n",
    " [0. 1. 2. 2. 2. 2. 2. 2. 1. 0.]\n",
    " [0. 1. 1. 1. 1. 1. 1. 1. 1. 0.]\n",
    " [0. 0. 0. 0. 0. 0. 0. 0. 0. 0.]]\n",
    " ```\n",
    "\n"
   ]
  },
  {
   "cell_type": "code",
   "execution_count": null,
   "metadata": {
    "id": "EyTtM0Nf7QDL"
   },
   "outputs": [],
   "source": [
    "narr = np.zeros((10,10))\n",
    "#연습문제 1-1 을 여기에 작성해보세요\n",
    "\n",
    "\n",
    "print(narr)"
   ]
  },
  {
   "cell_type": "markdown",
   "metadata": {
    "id": "9Wgw1qIfZVGO"
   },
   "source": [
    "### <font color = 'red'> 연습문제 1-2 :  반복문 없이 임의의 짝수크기 배열의 홀수 위치만 0으로 변환\n",
    "\n",
    "예: [1,2,3,4,5,6] -> [1,0,3,0,5,0]\n",
    "\n",
    "참고 : 배열 길이의 반 = int( len(arr) / 2)\n",
    "\n",
    "\n",
    "\n",
    "\n"
   ]
  },
  {
   "cell_type": "code",
   "execution_count": null,
   "metadata": {
    "id": "U18Eeq0NZVGW"
   },
   "outputs": [],
   "source": [
    "narr = np.array([1,2,3,4,5,6,7,8,9,10,11,12])\n",
    "\n",
    "l = int( len(narr) / 2 )\n",
    "#연습문제 1-2 풀이를 작성해보세요\n",
    "\n",
    "idx = np.arange(0,12,2)\n",
    "narr[idx] = 0\n",
    "print(narr)\n",
    "\n",
    "\n"
   ]
  },
  {
   "cell_type": "markdown",
   "metadata": {
    "id": "Q5IH7ZTAMQYJ"
   },
   "source": [
    "\n",
    "<br> <br> <br>\n",
    "\n",
    "<hr color = gray size = '10' />\n",
    "\n",
    "<br>\n",
    "\n",
    "# Matplotlib 를 사용한 배열 시각화\n",
    "\n",
    "Matplotlib 는 파이썬에서 표, 이미지, 히스토그램등 다양한 기능을 이용해 데이터를 시각화 할 수 있는 라이브러리이다. 특히 그중에 pyplot 라이브러리를 자주 사용하는데 다음과 같이 불러온다."
   ]
  },
  {
   "cell_type": "code",
   "execution_count": null,
   "metadata": {
    "id": "uqnsv21YRBgo"
   },
   "outputs": [],
   "source": [
    "import matplotlib.pyplot as plt"
   ]
  },
  {
   "cell_type": "markdown",
   "metadata": {
    "id": "kU0z0zyeOvSM"
   },
   "source": [
    "## 배열을 점, 선으로 표현하기\n",
    "\n",
    "가장 기초적인 1차원 배열을 시각화하는 방법의 예제가 아래에 나와있다.\n"
   ]
  },
  {
   "cell_type": "code",
   "execution_count": null,
   "metadata": {
    "id": "Jy7binMeRkdW"
   },
   "outputs": [],
   "source": [
    "narr = np.array([1,3,2,5,4])\n",
    "plt.plot(narr)\n",
    "plt.show()"
   ]
  },
  {
   "cell_type": "markdown",
   "metadata": {
    "id": "EN2-gi8KSfNL"
   },
   "source": [
    "여러 그래프를 겹쳐서 그릴 수도 있다.  "
   ]
  },
  {
   "cell_type": "code",
   "execution_count": null,
   "metadata": {
    "id": "9SLKfTIdSw-v"
   },
   "outputs": [],
   "source": [
    "narr1 = np.array([5,1,3,4,2])\n",
    "narr2 = np.array([1,3,2,5,4])\n",
    "plt.plot(narr1)\n",
    "plt.plot(narr2)\n",
    "plt.show()"
   ]
  },
  {
   "cell_type": "markdown",
   "metadata": {
    "id": "kGR8X5cQRZuE"
   },
   "source": [
    "배열을 연결이 아니라 점으로 표현 할 수도 있다."
   ]
  },
  {
   "cell_type": "code",
   "execution_count": null,
   "metadata": {
    "id": "h-kEzkdgST-K"
   },
   "outputs": [],
   "source": [
    "narr = np.array([1,3,2,5,4])\n",
    "plt.plot(narr, 'o')\n",
    "plt.show()"
   ]
  },
  {
   "cell_type": "markdown",
   "metadata": {
    "id": "59DOY1gLTQUt"
   },
   "source": [
    "다음은 데이터를 히스토그램으로 표현할 수도 있다."
   ]
  },
  {
   "cell_type": "code",
   "execution_count": null,
   "metadata": {
    "id": "B0wa9tKxTQU2"
   },
   "outputs": [],
   "source": [
    "narr = np.array([1,1,2,2,3,4,4,4,5,5,4])\n",
    "plt.hist(narr, 3) # 3은 데이터 영역을 3개의 영역으로 나눈다는 뜻\n",
    "plt.show()"
   ]
  },
  {
   "cell_type": "markdown",
   "metadata": {
    "id": "y3ldacs6HNxD"
   },
   "source": [
    "\n",
    "1차원 데이터를 plot 을 사용하여 도식화 할 경우 x 축은 자동적으로 채워진다. 하지만 두개의 배열을 넣으면 각각을 x와 y값으로 간주한다.\n"
   ]
  },
  {
   "cell_type": "code",
   "execution_count": null,
   "metadata": {
    "id": "c9muyp93C3Ve"
   },
   "outputs": [],
   "source": [
    "y = np.array([1,3,2,5,4])\n",
    "x = np.array([1,1,2,3,3])\n",
    "plt.plot(x, y, 'o')\n",
    "plt.show()"
   ]
  },
  {
   "cell_type": "markdown",
   "metadata": {
    "id": "uwXNt-x8c9Xg"
   },
   "source": [
    "### <font color = 'red'> 연습문제 1-3 :  x,y가 인접해 배치된 배열의 점 그리기\n",
    "\n",
    "[x1,y1, x2,y2, x3,y3 .. ] 으로 구성된 짝수 크기의 배열의 각 점 (x1,y1), (x2,y2), .. 를 화면에 그려보자.\n",
    "\n",
    "\n",
    "\n",
    "\n"
   ]
  },
  {
   "cell_type": "code",
   "execution_count": null,
   "metadata": {
    "id": "C78g6Hokc9Xy"
   },
   "outputs": [],
   "source": [
    "narr = np.array([1,1,1,2,1,3,1,4,1,5,2,2,3,3,4,4,5,1,5,2,5,3,5,4,5,5]) # 예제용 배열\n",
    "#연습문제의 풀이를 작성해보세요\n",
    "\n",
    "\n",
    "\n"
   ]
  },
  {
   "cell_type": "markdown",
   "metadata": {
    "id": "m-ua8-hHFHaT"
   },
   "source": [
    "<hr>\n",
    "\n",
    "## 배열을 이미지로 표현하기\n",
    "\n",
    "plt.imshow 는 2차원 배열을 이미지로 화면에 표현한다. 아래에는 100x100 의 값을 이미지로 화면에 표시하는 예제가 나와있다.  cmap = 'gray' 는 각 수치를 흑백명도로 표현하라는 뜻이며 이 옵션이 없으면 세번째 그림처럼 수치마다 랜덤 색상을 배정한다.\n"
   ]
  },
  {
   "cell_type": "code",
   "execution_count": null,
   "metadata": {
    "id": "PFzcVj9LHiNc"
   },
   "outputs": [],
   "source": [
    "\n",
    "narr = np.zeros((100,100))\n",
    "plt.imshow(narr, cmap = 'gray')\n",
    "plt.show()\n",
    "\n",
    "narr[10:-10, 10:-10] = 255\n",
    "plt.imshow(narr, cmap = 'gray')\n",
    "plt.show()\n",
    "\n",
    "\n",
    "narr[30:-30, 30:-30] = 100\n",
    "plt.imshow(narr)\n",
    "plt.show()"
   ]
  },
  {
   "cell_type": "markdown",
   "metadata": {
    "id": "O1qBAuqmsnF7"
   },
   "source": [
    "### <font color = 'red'> 연습문제 1-4 :  반복없이 세로줄 만들기\n",
    "\n",
    "100x100 의 배열이 있을때 반복문 없이 배열의 reshape를 이용하여 다음과 같은 이미지를 만들어보자\n",
    "\n",
    "<img src = 'https://github.com/decoz/mlclass/blob/master/images/torch_0_01.png?raw=true' > </img>"
   ]
  },
  {
   "cell_type": "code",
   "execution_count": null,
   "metadata": {
    "id": "DVKdPFvzjDi1"
   },
   "outputs": [],
   "source": [
    "narr = np.zeros((100,100))\n",
    "# 연습문제의 코드를 작성하세요\n",
    "\n",
    "\n",
    "plt.imshow(narr, cmap = 'gray')"
   ]
  },
  {
   "cell_type": "markdown",
   "metadata": {
    "id": "qd_K-DGsKfzK"
   },
   "source": [
    "하지만 width x height x 3 으로 각 칫수마다 3개의 숫자로 이뤄진 경우 컬러 이미지로 간주하고 컬러로 표시된다.\n"
   ]
  },
  {
   "cell_type": "code",
   "execution_count": null,
   "metadata": {
    "id": "Ol6RZHtsKulK"
   },
   "outputs": [],
   "source": [
    "narr = np.full((100,100,3), [255,0,0])  # 100x100x3 의 배열을 [255,0, 0] 으로 체우고\n",
    "narr[20:-20, 20:-20] = [100,0,0] # 가운대 40개의 점을 [100,0,0] 으로 채운다.\n",
    "plt.imshow(narr)"
   ]
  },
  {
   "cell_type": "code",
   "execution_count": null,
   "metadata": {
    "id": "xzEtWPCHNpeU"
   },
   "outputs": [],
   "source": []
  },
  {
   "cell_type": "markdown",
   "metadata": {
    "id": "K9ZprV11x8U_"
   },
   "source": []
  }
 ],
 "metadata": {
  "colab": {
   "name": "1. numpy_basic.ipynb",
   "provenance": []
  },
  "kernelspec": {
   "display_name": "Python 3",
   "language": "python",
   "name": "python3"
  },
  "language_info": {
   "codemirror_mode": {
    "name": "ipython",
    "version": 3
   },
   "file_extension": ".py",
   "mimetype": "text/x-python",
   "name": "python",
   "nbconvert_exporter": "python",
   "pygments_lexer": "ipython3",
   "version": "3.10.5"
  }
 },
 "nbformat": 4,
 "nbformat_minor": 1
}
